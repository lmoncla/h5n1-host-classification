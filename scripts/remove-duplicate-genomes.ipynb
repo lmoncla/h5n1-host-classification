{
 "cells": [
  {
   "cell_type": "markdown",
   "metadata": {},
   "source": [
    "# Remove duplicate genomes \n",
    "\n",
    "Prior to subsampling by metadata fields, I would like to remove sequences that are identical. To do so, I am first going to ideentify duplicate sequences. Then, among the duplicate sequences, I will pick the ones that have the most complete date and correspond to the best host categories. For example, if there are identical sequences from a bird and the environment, I will choose the bird one. "
   ]
  },
  {
   "cell_type": "code",
   "execution_count": 1,
   "metadata": {},
   "outputs": [],
   "source": [
    "import Bio \n",
    "from Bio import SeqIO\n",
    "import random"
   ]
  },
  {
   "cell_type": "code",
   "execution_count": 2,
   "metadata": {},
   "outputs": [],
   "source": [
    "def return_date_resolution(date):\n",
    "    date = date.replace(\"-XX\",\"\")\n",
    "    \n",
    "    if len(date) == 4:\n",
    "        date_resolution = \"year\"\n",
    "    elif len(date) == 7:\n",
    "        date_resolution = \"month\"\n",
    "    elif len(date) == 10:\n",
    "        date_resolution = \"day\"\n",
    "    else:\n",
    "        print(\"what's up with this date \", date)\n",
    "    \n",
    "    return(date_resolution)"
   ]
  },
  {
   "cell_type": "code",
   "execution_count": 3,
   "metadata": {},
   "outputs": [],
   "source": [
    "def read_metadata_file(metadata_file):\n",
    "    output_dict = {}\n",
    "    with open(metadata_file, \"r\") as infile: \n",
    "        for line in infile: \n",
    "            if \"originating_lab\" not in line:\n",
    "                strain = line.split(\"\\t\")[0]\n",
    "                accession = line.split(\"\\t\")[2]\n",
    "                date = line.split(\"\\t\")[3]\n",
    "                date_resolution = return_date_resolution(date)\n",
    "                year = date.split(\"-\")[0]\n",
    "                region = line.split(\"\\t\")[4]\n",
    "                country = line.split(\"\\t\")[5]\n",
    "                host_group = line.split(\"\\t\")[8]\n",
    "                host_species = line.split(\"\\t\")[12]\n",
    "                domestic_wild = line.split(\"\\t\")[13]\n",
    "                annotation_method = line.split(\"\\t\")[14]\n",
    "                genbank_id = line.split(\"\\t\")[15]\n",
    "                                \n",
    "                output_dict[strain] = {\"accession\":accession,\"date\":date, \"region\":region, \"country\":country,\n",
    "                                       \"domestic_wild\":domestic_wild,\"host_group\":host_group, \"host_species\":host_species,\n",
    "                                       \"annotation_method\":annotation_method,\"genbank_id\":genbank_id,\n",
    "                                      \"date_resolution\":date_resolution, \"year\":year}\n",
    "    return(output_dict)"
   ]
  },
  {
   "cell_type": "code",
   "execution_count": 4,
   "metadata": {},
   "outputs": [],
   "source": [
    "def return_unique_sequences(fasta_file):\n",
    "    unique_sequences = {}\n",
    "    for seq in SeqIO.parse(fasta_file, \"fasta\"):\n",
    "        sequence = str(seq.seq)\n",
    "        strain = seq.description\n",
    "\n",
    "        if sequence in unique_sequences: \n",
    "            unique_sequences[sequence].append(strain)\n",
    "        else:\n",
    "            unique_sequences[sequence] = [strain]\n",
    "            \n",
    "    return(unique_sequences)"
   ]
  },
  {
   "cell_type": "code",
   "execution_count": 7,
   "metadata": {},
   "outputs": [],
   "source": [
    "def return_seqs_within_seqs(unique_sequences_dict):\n",
    "    unique_sequences2 = {}\n",
    "    \n",
    "    all_seqs = list(unique_sequences_dict.keys())\n",
    "    for seq in unique_sequences_dict:\n",
    "        for s in all_seqs: \n",
    "            if seq in s:\n",
    "                print(seq, \"contained in \", s)\n",
    "        "
   ]
  },
  {
   "cell_type": "code",
   "execution_count": 8,
   "metadata": {},
   "outputs": [],
   "source": [
    "def return_best_host_category(strains, metadata_dict):\n",
    "    hosts = []\n",
    "    for strain in strains:\n",
    "        host_group = metadata_dict[strain]['host_group']\n",
    "        hosts.append(host_group)\n",
    "    \n",
    "    hosts = list(set(hosts))\n",
    "    \n",
    "    # if the set of hosts is greater than 1, get rid of the ones we don't want\n",
    "    if len(hosts) > 1:\n",
    "        for category in [\"Environment\",\"Laboratoryderived\",\"Nonhuman Mammal\"]:\n",
    "            if category in hosts:\n",
    "                hosts.remove(category)\n",
    "    \n",
    "    else:\n",
    "        hosts = hosts\n",
    "    \n",
    "    return(hosts)"
   ]
  },
  {
   "cell_type": "code",
   "execution_count": 9,
   "metadata": {},
   "outputs": [],
   "source": [
    "def return_best_date(strains, metadata_dict):\n",
    "    dates = []\n",
    "    for strain in strains:\n",
    "        date_resolution = metadata_dict[strain]['date_resolution']\n",
    "        dates.append(date_resolution)\n",
    "    \n",
    "    dates = list(set(dates))\n",
    "    \n",
    "    # if the set of hosts is greater than 1, get rid of the ones we don't want\n",
    "    if len(dates) > 1:\n",
    "        if \"day\" in dates: \n",
    "            best_date = \"day\"\n",
    "        elif \"month\" in dates:\n",
    "            best_date = \"month\"\n",
    "        else:\n",
    "            best_date = \"year\"\n",
    "            \n",
    "    else:\n",
    "        best_date = dates[0]\n",
    "    \n",
    "    return(best_date)"
   ]
  },
  {
   "cell_type": "code",
   "execution_count": 10,
   "metadata": {},
   "outputs": [],
   "source": [
    "def return_strains_with_best_attributes(strains, metadata_dict, hosts, best_date):\n",
    "    best_strains = []\n",
    "    good_strains = []\n",
    "    \n",
    "    for strain in strains:\n",
    "        host_group = metadata_dict[strain]['host_group']\n",
    "        date_resolution = metadata_dict[strain]['date_resolution']\n",
    "        \n",
    "        \"\"\"if the strain has the best host and date, put in best strains list\"\"\"\n",
    "        if host_group in hosts and date_resolution == best_date: \n",
    "            best_strains.append(strain)\n",
    "            \n",
    "        elif host_group in hosts or date_resolution == best_date: \n",
    "            good_strains.append(strain)\n",
    "    \n",
    "    \n",
    "    if len(best_strains) == 0:\n",
    "        return(good_strains)\n",
    "    else:\n",
    "        return(best_strains)"
   ]
  },
  {
   "cell_type": "code",
   "execution_count": 41,
   "metadata": {},
   "outputs": [],
   "source": [
    "def randomly_pick_strain(strains):\n",
    "    selection = random.randint(0, len(strains)-1)\n",
    "    strain_to_keep = strains[selection]\n",
    "    return(strain_to_keep)"
   ]
  },
  {
   "cell_type": "code",
   "execution_count": 42,
   "metadata": {},
   "outputs": [],
   "source": [
    "def pick_best(unique_sequences):\n",
    "    \n",
    "    best_unique_sequences = {}\n",
    "        \n",
    "    for u in unique_sequences:\n",
    "\n",
    "        \"\"\"for duplicate sequences, pick the sequence with the best metadata\"\"\"\n",
    "        if len(unique_sequences[u]) > 1:\n",
    "            hosts = return_best_host_category(unique_sequences[u], metadata_dict)\n",
    "            best_date = return_best_date(unique_sequences[u], metadata_dict)\n",
    "\n",
    "            sequences_to_pick_from = return_strains_with_best_attributes(unique_sequences[u], metadata_dict, hosts, best_date)\n",
    "            sequence_to_keep = randomly_pick_strain(sequences_to_pick_from)        \n",
    "        \n",
    "        else:\n",
    "            sequence_to_keep = str(unique_sequences[u][0])\n",
    "        \n",
    "        best_unique_sequences[u] = sequence_to_keep\n",
    "    \n",
    "    return(best_unique_sequences)"
   ]
  },
  {
   "cell_type": "code",
   "execution_count": 43,
   "metadata": {},
   "outputs": [],
   "source": [
    "def return_seqs_within_seqs(best_unique_sequences_dict):\n",
    "    unique_sequences_without_nested = {}\n",
    "    \n",
    "    for seq in best_unique_sequences_dict:\n",
    "        has_duplicate = False\n",
    "        strain_name = best_unique_sequences_dict[seq]\n",
    "        \n",
    "        for s in best_unique_sequences_dict:\n",
    "            strain_name2 = best_unique_sequences_dict[s]\n",
    "            if seq in s and strain_name != strain_name2:\n",
    "                has_duplicate = True\n",
    "        \n",
    "        if has_duplicate == False: \n",
    "            unique_sequences_without_nested[seq] = strain_name\n",
    "        else: \n",
    "            pass\n",
    "    \n",
    "    return(unique_sequences_without_nested)"
   ]
  },
  {
   "cell_type": "code",
   "execution_count": 44,
   "metadata": {},
   "outputs": [],
   "source": [
    "def write_deduped(output_filename, unique_sequences_without_nested):\n",
    "    \n",
    "    with open(output_filename, \"w\") as outfile:\n",
    "        outfile.write(\"\")\n",
    "    \n",
    "    for u in unique_sequences_without_nested:\n",
    "        strain = unique_sequences_without_nested[u]\n",
    "\n",
    "        with open(output_filename, \"a\") as outfile: \n",
    "            outfile.write(\">\" + strain + \"\\n\" + u + \"\\n\")"
   ]
  },
  {
   "cell_type": "code",
   "execution_count": 45,
   "metadata": {},
   "outputs": [],
   "source": [
    "directory = \"/Users/lmoncla/src/h5n1-host-classification/metadata-with-annotations/\"\n",
    "genes = ['pb2','pb1','pa','ha','np','na','mp','ns']\n",
    "\n",
    "for gene in genes: \n",
    "    fasta_file = directory + \"sequences_h5n1_\"+gene+\"-full-genomes-only-2020-10-07.fasta\"\n",
    "    output_filename = directory + \"sequences_h5n1_\"+gene+\"-full-genomes-deduped-2020-11-16.fasta\"\n",
    "    metadata_file = directory + \"metadata_h5n1_\"+gene+\"-full-genomes-only-2020-10-07.txt\"\n",
    "    \n",
    "    metadata_dict = read_metadata_file(metadata_file)\n",
    "    unique_sequences = return_unique_sequences(fasta_file)\n",
    "    best_unique_sequences = pick_best(unique_sequences)\n",
    "    unique_sequences_without_nested = return_seqs_within_seqs(best_unique_sequences)\n",
    "    write_deduped(output_filename, unique_sequences_without_nested)"
   ]
  },
  {
   "cell_type": "code",
   "execution_count": 77,
   "metadata": {},
   "outputs": [],
   "source": []
  },
  {
   "cell_type": "code",
   "execution_count": 70,
   "metadata": {},
   "outputs": [],
   "source": []
  },
  {
   "cell_type": "code",
   "execution_count": null,
   "metadata": {},
   "outputs": [],
   "source": []
  }
 ],
 "metadata": {
  "kernelspec": {
   "display_name": "LHM-basics (python3)",
   "language": "python",
   "name": "lhm-basics"
  },
  "language_info": {
   "codemirror_mode": {
    "name": "ipython",
    "version": 3
   },
   "file_extension": ".py",
   "mimetype": "text/x-python",
   "name": "python",
   "nbconvert_exporter": "python",
   "pygments_lexer": "ipython3",
   "version": "3.7.3"
  }
 },
 "nbformat": 4,
 "nbformat_minor": 2
}
