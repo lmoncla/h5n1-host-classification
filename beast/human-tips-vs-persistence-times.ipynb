{
 "cells": [
  {
   "cell_type": "markdown",
   "metadata": {},
   "source": [
    "# human cases vs. circulation times\n",
    "\n",
    "How do the number of human tips in a cluster relate to the length of time that cluster has circulated? This notebook is for answering that question across the posterior set of trees. \n",
    "\n",
    "In this notebook, I am running Gytis's subtree function on every tree in the posterior. This takes a really long time, but I couldn't figure out a faster way to do it. Then, within each subtree that is pulled out, I am calculating the difference between the root of that subtree (i.e., the time of the introduction), and the date of the latest sampled tip. I am also collecting the total number of human tips per introduction. In this notebook, I am looking at persistence times of lineages introduced into domestic birds. To keep traversing, the tips encountered can be human or domestic bird, but a transition back into wild bird will stop thee traverse. "
   ]
  },
  {
   "cell_type": "code",
   "execution_count": 1,
   "metadata": {},
   "outputs": [],
   "source": [
    "import glob\n",
    "import re,copy, imp\n",
    "import pandas as pd \n",
    "import numpy as np\n",
    "\n",
    "# for this to work, you will need to download the most recent version of baltic, available here \n",
    "bt = imp.load_source('baltic', '/Users/lmoncla/src/baltic/baltic/baltic.py')\n",
    "\n",
    "%matplotlib inline\n",
    "import matplotlib as mpl\n",
    "from matplotlib import pyplot as plt\n",
    "import matplotlib.patheffects as path_effects\n",
    "import matplotlib.lines as mlines\n",
    "from matplotlib.font_manager import FontProperties\n",
    "import matplotlib.colors as clr\n",
    "import textwrap as textwrap\n",
    "from textwrap import wrap\n",
    "\n",
    "import time\n",
    "from io import StringIO\n",
    "\n",
    "import rpy2\n",
    "%load_ext rpy2.ipython"
   ]
  },
  {
   "cell_type": "code",
   "execution_count": 2,
   "metadata": {},
   "outputs": [],
   "source": [
    "from datetime import date\n",
    "current_date = str(date.today())"
   ]
  },
  {
   "cell_type": "code",
   "execution_count": 3,
   "metadata": {},
   "outputs": [],
   "source": [
    "# define colors \n",
    "domestic_color=\"#4E83AE\"\n",
    "wild_color=\"#CEB540\"\n",
    "human_color=\"#DE4428\""
   ]
  },
  {
   "cell_type": "code",
   "execution_count": 4,
   "metadata": {},
   "outputs": [],
   "source": [
    "def get_taxa_lines(tree_path):    \n",
    "    # write out a temp tree file\n",
    "#     temp_tree = tree_path.replace(\".trees\",\".temp.tree\")\n",
    "#     with open(temp_tree, \"w\") as outfile: \n",
    "#         outfile.write(\"\")\n",
    "\n",
    "    lines_to_write = \"\"\n",
    "    with open(tree_path, 'rU') as infile:\n",
    "        for line in infile: ## iterate through each line\n",
    "            if 'state' not in line.lower(): #going to grab all the interesting stuff in the .trees file prior to the newick tree strings\n",
    "                lines_to_write = lines_to_write + line\n",
    "\n",
    "    return(lines_to_write)"
   ]
  },
  {
   "cell_type": "code",
   "execution_count": 5,
   "metadata": {},
   "outputs": [],
   "source": [
    "def get_burnin_value(tree_path, burnin_percent):\n",
    "    with open(tree_path, 'rU') as infile:\n",
    "        numtrees = 0\n",
    "        for line in infile: ## iterate through each line\n",
    "            if 'state' in line.lower(): #going to grab all the interesting stuff in the .trees file prior to the newick tree strings\n",
    "                numtrees += 1\n",
    "    \n",
    "    burnin = numtrees * burnin_percent\n",
    "    return(burnin)"
   ]
  },
  {
   "cell_type": "code",
   "execution_count": 6,
   "metadata": {},
   "outputs": [],
   "source": [
    "\"\"\"enumerate host transitions on the tree\"\"\"\n",
    "\n",
    "def retrieve_subtrees(tree, trait, target_host, stop_state):\n",
    "    \n",
    "    traitName=trait\n",
    "\n",
    "    tree.root.traits[traitName]='ancestor' ## give root node some trait value that's different from what the actual tree root has, so it registers as a switch\n",
    "\n",
    "    tree_strings={target_host:[]}\n",
    "    subtype_trees={target_host:[]}\n",
    "\n",
    "    for k in sorted(tree.Objects,key=lambda x:x.height):\n",
    "        kp=k.parent     # kp is the parent node of k\n",
    "\n",
    "        ## get current node's (k) and its parent's (kp) trait states\n",
    "        kloc=k.traits[traitName].lower().replace(\" \",\"_\")   # kloc = trait of k; kc = trait of k; they are the same thing\n",
    "        if traitName in k.parent.traits:  # if parent has a trait block, use that trait, else assign to ancestor\n",
    "            kploc=kp.traits[traitName].lower().replace(\" \",\"_\")     # kploc = trait of parental node\n",
    "        else:\n",
    "            kploc='ancestor'\n",
    "\n",
    "        ## if states do not match and the child is the target host\n",
    "        if kloc!=kploc and kloc == target_host:      # if node and parental node do not have the same trait\n",
    "            #N_children=len(k.leaves)\n",
    "            traverse_condition=lambda w:w.traits[traitName].lower().replace(\" \",\"_\") in stop_state     # traverse tree for all nodes whose traitname = kc\n",
    "            #print('subtree resulting from '+kploc+' > '+kloc+' switch, traversing within '+ kloc)\n",
    "\n",
    "            subtree=tree.subtree(k,traverse_condition=traverse_condition) ## this function returns a new baltic object that contains a trait-traversed subtree, starting from node k, for as long as the traversal stays within the starting trait value state\n",
    "            \n",
    "            if subtree != None:\n",
    "                subtree.traverse_tree()\n",
    "                subtree.sortBranches()\n",
    "                if kloc in subtype_trees:\n",
    "                    subtype_trees[kloc].append((kploc,subtree))\n",
    "                else:\n",
    "                    pass\n",
    "                    \n",
    "    return(subtype_trees)"
   ]
  },
  {
   "cell_type": "code",
   "execution_count": null,
   "metadata": {},
   "outputs": [],
   "source": []
  },
  {
   "cell_type": "code",
   "execution_count": 7,
   "metadata": {},
   "outputs": [],
   "source": [
    "def output_cluster_times(subtype_trees, traitName):\n",
    "    cluster_times = {}\n",
    "    \n",
    "    for deme in subtype_trees: \n",
    "        cluster_times = {}\n",
    "        subtree_number = 0\n",
    "        \n",
    "        for subtree in subtype_trees[deme]:\n",
    "            subtree_number += 1\n",
    "            dates = []\n",
    "            hosts = []\n",
    "            tips = []\n",
    "            trans_from = subtree[0]\n",
    "            tree = subtree[1]\n",
    "            \n",
    "            # pull out root time and add to dates list \n",
    "            subtree_root_date = tree.root.absoluteTime\n",
    "            dates.append(subtree_root_date)\n",
    "            \n",
    "            for k in tree.Objects: \n",
    "                if k.branchType == \"leaf\":\n",
    "                    # pull the date\n",
    "                    date = float(k.name.split(\"|\")[1])\n",
    "                    host = k.traits[traitName]\n",
    "                    hosts.append(host)\n",
    "                    tips.append(k.name)\n",
    "                    \n",
    "                elif k.branchType == \"node\":\n",
    "                    date = k.absoluteTime\n",
    "                dates.append(date)\n",
    "                \n",
    "            minimum_date = min(dates)\n",
    "            maximum_date = max(dates)\n",
    "            date_range = maximum_date - minimum_date\n",
    "            \n",
    "            n_human_tips = hosts.count(\"human\")\n",
    "            \n",
    "            cluster_times[subtree_number] = {\"circulation_time\":date_range, \"n_human_tips\":n_human_tips, \"tips_in_subtree\":tips}\n",
    "\n",
    "    return(cluster_times)"
   ]
  },
  {
   "cell_type": "code",
   "execution_count": null,
   "metadata": {},
   "outputs": [],
   "source": []
  },
  {
   "cell_type": "code",
   "execution_count": null,
   "metadata": {},
   "outputs": [],
   "source": []
  },
  {
   "cell_type": "code",
   "execution_count": 8,
   "metadata": {},
   "outputs": [],
   "source": [
    "def run_on_trees(trees_file, trait, target_host, stop_state):\n",
    "    \n",
    "    start_time = time.time()\n",
    "    output_dict = {}\n",
    "\n",
    "    with open(trees_file, \"r\") as infile:\n",
    "\n",
    "        tree_counter = 0\n",
    "        trees_processed = 0\n",
    "\n",
    "        for line in infile:\n",
    "            if 'tree STATE_' in line:\n",
    "                tree_counter += 1\n",
    "                \n",
    "                #if tree_counter < 2:\n",
    "                if tree_counter > burnin:\n",
    "                    trees_processed += 1\n",
    "                    temp_tree = StringIO(taxa_lines + line)\n",
    "                    tree = bt.loadNexus(temp_tree)\n",
    "                    #tree.setAbsoluteTime(date_most_recent_tip) # setting this actually sort of messes up the subtrees timing\n",
    "                    \n",
    "                    # enumerate subtrees \n",
    "                    subtype_trees = retrieve_subtrees(tree, trait, target_host, stop_state)\n",
    "                    #print(subtype_trees)\n",
    "                    cluster_times = output_cluster_times(subtype_trees, trait)\n",
    "                    output_dict[tree_counter] = cluster_times\n",
    "                    #print(cluster_times)\n",
    "\n",
    "    # print the amount of time this took\n",
    "    total_time_seconds = time.time() - start_time\n",
    "    total_time_minutes = total_time_seconds/60\n",
    "    total_time_hours = total_time_minutes/60\n",
    "    print(\"this took\", total_time_seconds, \"seconds (\", total_time_minutes,\" minutes\", total_time_hours,\" hours) to run on\", trees_processed, \"trees\")\n",
    "    return(output_dict)"
   ]
  },
  {
   "cell_type": "code",
   "execution_count": 9,
   "metadata": {},
   "outputs": [],
   "source": [
    "def convert_to_dataframe(cluster_times_dict):\n",
    "    \n",
    "    df = pd.DataFrame()\n",
    "    for c in cluster_times_dict: \n",
    "        tree_number = c\n",
    "        for subtree_number in cluster_times_dict[tree_number]:\n",
    "            circulation_time = cluster_times_dict[tree_number][subtree_number][\"circulation_time\"]\n",
    "            n_human_tips = cluster_times_dict[tree_number][subtree_number][\"n_human_tips\"]\n",
    "            tips_in_subtree = cluster_times_dict[tree_number][subtree_number][\"tips_in_subtree\"]\n",
    "\n",
    "            local_df = pd.DataFrame({\"tree_number\":[tree_number],\"subtree_number\":[subtree_number],\n",
    "                                        \"circulation_time\":[circulation_time],\"n_human_tips\":[n_human_tips],\n",
    "                                    \"tips_in_subtree\":[tips_in_subtree]})\n",
    "            df = df.append(local_df)\n",
    "\n",
    "    return(df)"
   ]
  },
  {
   "cell_type": "code",
   "execution_count": null,
   "metadata": {},
   "outputs": [],
   "source": []
  },
  {
   "cell_type": "markdown",
   "metadata": {},
   "source": [
    "## Run on trees file"
   ]
  },
  {
   "cell_type": "code",
   "execution_count": 10,
   "metadata": {},
   "outputs": [],
   "source": [
    "# trees file paths\n",
    "constant_human_on = {\"label\": \"constant-human-on\",\"mig_direction\":\"backwards in time\",\n",
    "    \"trees\":\"beast-runs/2021-03-15-mascot-3deme-constant/with-human-mig/3deme-mascot-constant-with-human-mig-2021-03-15.combined.trees\"}\n",
    "constant_human_off = {\"label\": \"constant-human-off\",\"mig_direction\":\"backwards in time\",\n",
    "    \"trees\":\"beast-runs/2021-03-15-mascot-3deme-constant/no-human-mig/3deme-mascot-constant-no-human-mig-2021-03-15.combined.trees\"}\n",
    "skyline_human_on =  {\"label\": \"skyline-human-on\", \"mig_direction\":\"forwards in time\",\n",
    "                     \"trees\": \"beast-runs/2021-03-15-mascot-3deme-skyline-with-mig-history/with-human-mig/2021-04-27-mascot-3deme-skyline-with-human-mig.combined.trees\"}\n",
    "skyline_human_off = {\"label\": \"skyline-human-off\", \"mig_direction\":\"forwards in time\",\n",
    "                     \"trees\": \"beast-runs/2022-04-19-mascot-3deme-skyline-fixed-muts-logger/combined-2022-06-01.muts.trees\"}"
   ]
  },
  {
   "cell_type": "code",
   "execution_count": 11,
   "metadata": {},
   "outputs": [],
   "source": [
    "to_run = skyline_human_off\n",
    "\n",
    "trees_file_path = to_run['trees']\n",
    "label = to_run['label']\n",
    "\n",
    "burnin_percent = 0"
   ]
  },
  {
   "cell_type": "code",
   "execution_count": 12,
   "metadata": {},
   "outputs": [
    {
     "name": "stderr",
     "output_type": "stream",
     "text": [
      "/Users/lmoncla/anaconda/envs/LHM-basics/lib/python3.7/site-packages/ipykernel_launcher.py:8: DeprecationWarning: 'U' mode is deprecated\n",
      "  \n"
     ]
    },
    {
     "name": "stdout",
     "output_type": "stream",
     "text": [
      "0\n"
     ]
    },
    {
     "name": "stderr",
     "output_type": "stream",
     "text": [
      "/Users/lmoncla/anaconda/envs/LHM-basics/lib/python3.7/site-packages/ipykernel_launcher.py:2: DeprecationWarning: 'U' mode is deprecated\n",
      "  \n"
     ]
    }
   ],
   "source": [
    "all_trees = trees_file_path\n",
    "burnin_percent = 0\n",
    "\n",
    "taxa_lines = get_taxa_lines(all_trees)\n",
    "burnin = get_burnin_value(all_trees, burnin_percent)\n",
    "print(burnin)"
   ]
  },
  {
   "cell_type": "code",
   "execution_count": null,
   "metadata": {},
   "outputs": [],
   "source": []
  },
  {
   "cell_type": "code",
   "execution_count": 14,
   "metadata": {},
   "outputs": [
    {
     "name": "stdout",
     "output_type": "stream",
     "text": [
      "this took 12960.471398830414 seconds ( 216.00785664717355  minutes 3.600130944119559  hours) to run on 1133 trees\n"
     ]
    }
   ],
   "source": [
    "# this actual trees file has 3641 trees in it; at 17 seconds per tree, this would run for 17 hours for all of them\n",
    "# target host = the host that we want to calculate the circulation time within\n",
    "\n",
    "trait = 'typeTrait'  # for the trees file, this should be typeTrait, for the mcc tree it is \"max\"\n",
    "target_host = \"domestic\"\n",
    "stop_state = [\"domestic\",\"human\"]  # the stop state is the list of hosts for which we will continue traversing to produce a subtree; here, we want to traverse within poultry while also including human tips \n",
    "\n",
    "cluster_times = run_on_trees(all_trees, trait, target_host, stop_state)"
   ]
  },
  {
   "cell_type": "code",
   "execution_count": 15,
   "metadata": {},
   "outputs": [],
   "source": [
    "#cluster_times"
   ]
  },
  {
   "cell_type": "code",
   "execution_count": 16,
   "metadata": {},
   "outputs": [
    {
     "name": "stdout",
     "output_type": "stream",
     "text": [
      "161168\n"
     ]
    },
    {
     "data": {
      "text/html": [
       "<div>\n",
       "<style scoped>\n",
       "    .dataframe tbody tr th:only-of-type {\n",
       "        vertical-align: middle;\n",
       "    }\n",
       "\n",
       "    .dataframe tbody tr th {\n",
       "        vertical-align: top;\n",
       "    }\n",
       "\n",
       "    .dataframe thead th {\n",
       "        text-align: right;\n",
       "    }\n",
       "</style>\n",
       "<table border=\"1\" class=\"dataframe\">\n",
       "  <thead>\n",
       "    <tr style=\"text-align: right;\">\n",
       "      <th></th>\n",
       "      <th>tree_number</th>\n",
       "      <th>subtree_number</th>\n",
       "      <th>circulation_time</th>\n",
       "      <th>n_human_tips</th>\n",
       "      <th>tips_in_subtree</th>\n",
       "    </tr>\n",
       "  </thead>\n",
       "  <tbody>\n",
       "    <tr>\n",
       "      <th>0</th>\n",
       "      <td>1</td>\n",
       "      <td>1</td>\n",
       "      <td>0.705697</td>\n",
       "      <td>0</td>\n",
       "      <td>[A/Goose/Guangdong/1/1996|1996.0|1996-XX-XX|Av...</td>\n",
       "    </tr>\n",
       "    <tr>\n",
       "      <th>0</th>\n",
       "      <td>1</td>\n",
       "      <td>2</td>\n",
       "      <td>0.382224</td>\n",
       "      <td>0</td>\n",
       "      <td>[A/Chicken/HongKong/786/1997|1997.0|1997-XX-XX...</td>\n",
       "    </tr>\n",
       "    <tr>\n",
       "      <th>0</th>\n",
       "      <td>1</td>\n",
       "      <td>3</td>\n",
       "      <td>0.770590</td>\n",
       "      <td>1</td>\n",
       "      <td>[A/HongKong/97/1998|1998.0|1998-XX-XX|Human|Ch...</td>\n",
       "    </tr>\n",
       "    <tr>\n",
       "      <th>0</th>\n",
       "      <td>1</td>\n",
       "      <td>4</td>\n",
       "      <td>1.059893</td>\n",
       "      <td>0</td>\n",
       "      <td>[A/duck/Guangxi/07/1999|1999.0|1999-XX-XX|Avia...</td>\n",
       "    </tr>\n",
       "    <tr>\n",
       "      <th>0</th>\n",
       "      <td>1</td>\n",
       "      <td>5</td>\n",
       "      <td>0.390459</td>\n",
       "      <td>0</td>\n",
       "      <td>[A/Goose/HongKong/3853/2000|2000.0|2000-XX-XX|...</td>\n",
       "    </tr>\n",
       "  </tbody>\n",
       "</table>\n",
       "</div>"
      ],
      "text/plain": [
       "   tree_number  subtree_number  circulation_time  n_human_tips  \\\n",
       "0            1               1          0.705697             0   \n",
       "0            1               2          0.382224             0   \n",
       "0            1               3          0.770590             1   \n",
       "0            1               4          1.059893             0   \n",
       "0            1               5          0.390459             0   \n",
       "\n",
       "                                     tips_in_subtree  \n",
       "0  [A/Goose/Guangdong/1/1996|1996.0|1996-XX-XX|Av...  \n",
       "0  [A/Chicken/HongKong/786/1997|1997.0|1997-XX-XX...  \n",
       "0  [A/HongKong/97/1998|1998.0|1998-XX-XX|Human|Ch...  \n",
       "0  [A/duck/Guangxi/07/1999|1999.0|1999-XX-XX|Avia...  \n",
       "0  [A/Goose/HongKong/3853/2000|2000.0|2000-XX-XX|...  "
      ]
     },
     "execution_count": 16,
     "metadata": {},
     "output_type": "execute_result"
    }
   ],
   "source": [
    "df = convert_to_dataframe(cluster_times)\n",
    "print(len(df))\n",
    "df.head()"
   ]
  },
  {
   "cell_type": "code",
   "execution_count": 17,
   "metadata": {},
   "outputs": [],
   "source": [
    "# write out to tsv\n",
    "path = to_run['trees'].replace(\".trees\",\"-circulation-time-vs-human-tips-\"+current_date+\".tsv\")\n",
    "df.to_csv(path, sep=\"\\t\")"
   ]
  },
  {
   "cell_type": "code",
   "execution_count": 13,
   "metadata": {},
   "outputs": [],
   "source": [
    "# read dataframe back in \n",
    "df = pd.read_csv(\"beast-runs/2021-07-26-mascot-3deme-skyline-with-mig-fixed-log/with-extra-logger/combined-muts-trees-2021-08-23.muts-non-zero-circulation-time-vs-human-tips-2022-03-30.tsv\", sep=\"\\t\")"
   ]
  },
  {
   "cell_type": "code",
   "execution_count": 14,
   "metadata": {},
   "outputs": [
    {
     "name": "stdout",
     "output_type": "stream",
     "text": [
      "518358\n"
     ]
    }
   ],
   "source": [
    "nonzero = df[df['circulation_time'] > 0]\n",
    "print(len(nonzero))"
   ]
  },
  {
   "cell_type": "code",
   "execution_count": 15,
   "metadata": {},
   "outputs": [
    {
     "data": {
      "text/html": [
       "<div>\n",
       "<style scoped>\n",
       "    .dataframe tbody tr th:only-of-type {\n",
       "        vertical-align: middle;\n",
       "    }\n",
       "\n",
       "    .dataframe tbody tr th {\n",
       "        vertical-align: top;\n",
       "    }\n",
       "\n",
       "    .dataframe thead th {\n",
       "        text-align: right;\n",
       "    }\n",
       "</style>\n",
       "<table border=\"1\" class=\"dataframe\">\n",
       "  <thead>\n",
       "    <tr style=\"text-align: right;\">\n",
       "      <th></th>\n",
       "      <th>Unnamed: 0</th>\n",
       "      <th>tree_number</th>\n",
       "      <th>subtree_number</th>\n",
       "      <th>circulation_time</th>\n",
       "      <th>n_human_tips</th>\n",
       "      <th>tips_in_subtree</th>\n",
       "    </tr>\n",
       "  </thead>\n",
       "  <tbody>\n",
       "    <tr>\n",
       "      <th>0</th>\n",
       "      <td>0</td>\n",
       "      <td>1</td>\n",
       "      <td>1</td>\n",
       "      <td>2.518589</td>\n",
       "      <td>2</td>\n",
       "      <td>['A/Chicken/HongKong/786/1997|1997.0|1997-XX-X...</td>\n",
       "    </tr>\n",
       "    <tr>\n",
       "      <th>1</th>\n",
       "      <td>0</td>\n",
       "      <td>1</td>\n",
       "      <td>2</td>\n",
       "      <td>0.607684</td>\n",
       "      <td>0</td>\n",
       "      <td>['A/Goose/Guangdong/1/1996|1996.0|1996-XX-XX|A...</td>\n",
       "    </tr>\n",
       "    <tr>\n",
       "      <th>2</th>\n",
       "      <td>0</td>\n",
       "      <td>1</td>\n",
       "      <td>3</td>\n",
       "      <td>1.901901</td>\n",
       "      <td>0</td>\n",
       "      <td>['A/duck/Guangxi/07/1999|1999.0|1999-XX-XX|Avi...</td>\n",
       "    </tr>\n",
       "    <tr>\n",
       "      <th>3</th>\n",
       "      <td>0</td>\n",
       "      <td>1</td>\n",
       "      <td>4</td>\n",
       "      <td>0.447087</td>\n",
       "      <td>0</td>\n",
       "      <td>['A/Goose/HongKong/3853/2000|2000.0|2000-XX-XX...</td>\n",
       "    </tr>\n",
       "    <tr>\n",
       "      <th>4</th>\n",
       "      <td>0</td>\n",
       "      <td>1</td>\n",
       "      <td>5</td>\n",
       "      <td>0.657898</td>\n",
       "      <td>0</td>\n",
       "      <td>['A/Goose/HongKong/761/2001|2001.0|2001-XX-XX|...</td>\n",
       "    </tr>\n",
       "  </tbody>\n",
       "</table>\n",
       "</div>"
      ],
      "text/plain": [
       "   Unnamed: 0  tree_number  subtree_number  circulation_time  n_human_tips  \\\n",
       "0           0            1               1          2.518589             2   \n",
       "1           0            1               2          0.607684             0   \n",
       "2           0            1               3          1.901901             0   \n",
       "3           0            1               4          0.447087             0   \n",
       "4           0            1               5          0.657898             0   \n",
       "\n",
       "                                     tips_in_subtree  \n",
       "0  ['A/Chicken/HongKong/786/1997|1997.0|1997-XX-X...  \n",
       "1  ['A/Goose/Guangdong/1/1996|1996.0|1996-XX-XX|A...  \n",
       "2  ['A/duck/Guangxi/07/1999|1999.0|1999-XX-XX|Avi...  \n",
       "3  ['A/Goose/HongKong/3853/2000|2000.0|2000-XX-XX...  \n",
       "4  ['A/Goose/HongKong/761/2001|2001.0|2001-XX-XX|...  "
      ]
     },
     "execution_count": 15,
     "metadata": {},
     "output_type": "execute_result"
    }
   ],
   "source": [
    "nonzero.head()"
   ]
  },
  {
   "cell_type": "code",
   "execution_count": 16,
   "metadata": {},
   "outputs": [
    {
     "name": "stdout",
     "output_type": "stream",
     "text": [
      "142149\n"
     ]
    },
    {
     "data": {
      "text/html": [
       "<div>\n",
       "<style scoped>\n",
       "    .dataframe tbody tr th:only-of-type {\n",
       "        vertical-align: middle;\n",
       "    }\n",
       "\n",
       "    .dataframe tbody tr th {\n",
       "        vertical-align: top;\n",
       "    }\n",
       "\n",
       "    .dataframe thead th {\n",
       "        text-align: right;\n",
       "    }\n",
       "</style>\n",
       "<table border=\"1\" class=\"dataframe\">\n",
       "  <thead>\n",
       "    <tr style=\"text-align: right;\">\n",
       "      <th></th>\n",
       "      <th>Unnamed: 0</th>\n",
       "      <th>tree_number</th>\n",
       "      <th>subtree_number</th>\n",
       "      <th>circulation_time</th>\n",
       "      <th>n_human_tips</th>\n",
       "      <th>tips_in_subtree</th>\n",
       "    </tr>\n",
       "  </thead>\n",
       "  <tbody>\n",
       "    <tr>\n",
       "      <th>0</th>\n",
       "      <td>0</td>\n",
       "      <td>1</td>\n",
       "      <td>1</td>\n",
       "      <td>2.518589</td>\n",
       "      <td>2</td>\n",
       "      <td>['A/Chicken/HongKong/786/1997|1997.0|1997-XX-X...</td>\n",
       "    </tr>\n",
       "    <tr>\n",
       "      <th>1</th>\n",
       "      <td>0</td>\n",
       "      <td>1</td>\n",
       "      <td>2</td>\n",
       "      <td>0.607684</td>\n",
       "      <td>0</td>\n",
       "      <td>['A/Goose/Guangdong/1/1996|1996.0|1996-XX-XX|A...</td>\n",
       "    </tr>\n",
       "    <tr>\n",
       "      <th>2</th>\n",
       "      <td>0</td>\n",
       "      <td>1</td>\n",
       "      <td>3</td>\n",
       "      <td>1.901901</td>\n",
       "      <td>0</td>\n",
       "      <td>['A/duck/Guangxi/07/1999|1999.0|1999-XX-XX|Avi...</td>\n",
       "    </tr>\n",
       "    <tr>\n",
       "      <th>3</th>\n",
       "      <td>0</td>\n",
       "      <td>1</td>\n",
       "      <td>4</td>\n",
       "      <td>0.447087</td>\n",
       "      <td>0</td>\n",
       "      <td>['A/Goose/HongKong/3853/2000|2000.0|2000-XX-XX...</td>\n",
       "    </tr>\n",
       "    <tr>\n",
       "      <th>4</th>\n",
       "      <td>0</td>\n",
       "      <td>1</td>\n",
       "      <td>5</td>\n",
       "      <td>0.657898</td>\n",
       "      <td>0</td>\n",
       "      <td>['A/Goose/HongKong/761/2001|2001.0|2001-XX-XX|...</td>\n",
       "    </tr>\n",
       "  </tbody>\n",
       "</table>\n",
       "</div>"
      ],
      "text/plain": [
       "   Unnamed: 0  tree_number  subtree_number  circulation_time  n_human_tips  \\\n",
       "0           0            1               1          2.518589             2   \n",
       "1           0            1               2          0.607684             0   \n",
       "2           0            1               3          1.901901             0   \n",
       "3           0            1               4          0.447087             0   \n",
       "4           0            1               5          0.657898             0   \n",
       "\n",
       "                                     tips_in_subtree  \n",
       "0  ['A/Chicken/HongKong/786/1997|1997.0|1997-XX-X...  \n",
       "1  ['A/Goose/Guangdong/1/1996|1996.0|1996-XX-XX|A...  \n",
       "2  ['A/duck/Guangxi/07/1999|1999.0|1999-XX-XX|Avi...  \n",
       "3  ['A/Goose/HongKong/3853/2000|2000.0|2000-XX-XX...  \n",
       "4  ['A/Goose/HongKong/761/2001|2001.0|2001-XX-XX|...  "
      ]
     },
     "execution_count": 16,
     "metadata": {},
     "output_type": "execute_result"
    }
   ],
   "source": [
    "nonzero_first_1000_trees = nonzero[nonzero[\"tree_number\"] <= 1000]\n",
    "\n",
    "print(len(nonzero_first_1000_trees))\n",
    "nonzero_first_1000_trees.head()"
   ]
  },
  {
   "cell_type": "code",
   "execution_count": null,
   "metadata": {},
   "outputs": [],
   "source": []
  },
  {
   "cell_type": "code",
   "execution_count": null,
   "metadata": {},
   "outputs": [],
   "source": []
  },
  {
   "cell_type": "code",
   "execution_count": 20,
   "metadata": {},
   "outputs": [
    {
     "data": {
      "text/plain": [
       "\n",
       "Call:\n",
       "lm(formula = n_human_tips ~ circulation_time, data = df)\n",
       "\n",
       "Residuals:\n",
       "    Min      1Q  Median      3Q     Max \n",
       "-24.504  -0.459   0.370   0.749  93.209 \n",
       "\n",
       "Coefficients:\n",
       "                  Estimate Std. Error t value Pr(>|t|)    \n",
       "(Intercept)      -0.926546   0.004743  -195.3   <2e-16 ***\n",
       "circulation_time  1.534797   0.002051   748.1   <2e-16 ***\n",
       "---\n",
       "Signif. codes:  0 ‘***’ 0.001 ‘**’ 0.01 ‘*’ 0.05 ‘.’ 0.1 ‘ ’ 1\n",
       "\n",
       "Residual standard error: 2.947 on 518356 degrees of freedom\n",
       "Multiple R-squared:  0.5192,\tAdjusted R-squared:  0.5192 \n",
       "F-statistic: 5.597e+05 on 1 and 518356 DF,  p-value: < 2.2e-16\n",
       "\n"
      ]
     },
     "metadata": {},
     "output_type": "display_data"
    },
    {
     "data": {
      "image/png": "[encoded data removed]"
     },
     "metadata": {},
     "output_type": "display_data"
    }
   ],
   "source": [
    "%%R -w 800 -h 500 -u px -i df,label,current_date,human_color,wild_color,domestic_color # this sets the size of the plot...otherwise, it will go off the page\n",
    "\n",
    "require(ggplot2)\n",
    "library(ggplot2)\n",
    "library(RColorBrewer)\n",
    "\n",
    "#df <- nonzero_first_1000_trees\n",
    "\n",
    "reg1 <- lm(n_human_tips~circulation_time,data=df) \n",
    "print(summary(reg1))\n",
    "\n",
    "output_filename = paste(\"circulation-time-vs-human-tips-full-\",current_date,\".pdf\", sep=\"\")\n",
    "\n",
    "p <- ggplot(data=df, aes(x=circulation_time, y=n_human_tips, color=tree_number, alpha = 0.8)) + \n",
    "    geom_point()+\n",
    "    labs(x=\"\\ncirculation time following introduction (years)\", y=\"number of human tips\\n\")+\n",
    "#      scale_y_continuous(breaks=seq(0,40,5), limits=c(0,40))+\n",
    "#      scale_x_continuous(breaks=seq(0,15,3), limits=c(0,15))+\n",
    "    theme(panel.grid.major=element_line(colour=NA,size=NA))+    \n",
    "    theme(panel.grid.minor=element_line(colour=NA,size=NA))+    \n",
    "    theme(strip.background = element_rect(colour=NA, fill=NA))+\n",
    "    theme(axis.line.x=element_line(colour=\"black\"))+\n",
    "    theme(axis.line.y=element_line(colour=\"black\"))+\n",
    "    theme(axis.title=element_text(size=24, vjust=5))+\n",
    "    theme(axis.text.y=element_text(size=22, colour=\"black\"))+\n",
    "    theme(axis.text.x=element_text(size=22, colour=\"black\", hjust=0.5))+\n",
    "    theme(legend.text=element_text(size=20))+\n",
    "    theme(legend.title=element_blank())+\n",
    "    theme(panel.margin=unit(1, \"lines\"))+\n",
    "    theme(plot.margin=unit(c(1,4,1,1),\"cm\"))+\n",
    "    theme(legend.key.size=unit(0.7, \"cm\"))+\n",
    "    theme(panel.background=element_rect(fill=NA))+\n",
    "    theme(legend.key=element_rect(fill=NA))\n",
    "    ##theme(legend.position = c(legend_x, legend_y))\n",
    "\n",
    "ggsave(output_filename, width = 10, height = 6, device = \"pdf\", path = \"figures\", dpi = 300)\n",
    "p"
   ]
  },
  {
   "cell_type": "code",
   "execution_count": null,
   "metadata": {},
   "outputs": [],
   "source": []
  },
  {
   "cell_type": "code",
   "execution_count": 17,
   "metadata": {},
   "outputs": [
    {
     "name": "stdout",
     "output_type": "stream",
     "text": [
      "428056 90302\n"
     ]
    }
   ],
   "source": [
    "# let's look separately at clusters with 0 and >0 human tips \n",
    "no_human_tips = nonzero[nonzero[\"n_human_tips\"] == 0]\n",
    "some_human_tips = nonzero[nonzero[\"n_human_tips\"] > 0]\n",
    "\n",
    "print(len(no_human_tips), len(some_human_tips))"
   ]
  },
  {
   "cell_type": "code",
   "execution_count": 18,
   "metadata": {},
   "outputs": [
    {
     "name": "stdout",
     "output_type": "stream",
     "text": [
      "5399\n"
     ]
    },
    {
     "data": {
      "text/html": [
       "<div>\n",
       "<style scoped>\n",
       "    .dataframe tbody tr th:only-of-type {\n",
       "        vertical-align: middle;\n",
       "    }\n",
       "\n",
       "    .dataframe tbody tr th {\n",
       "        vertical-align: top;\n",
       "    }\n",
       "\n",
       "    .dataframe thead th {\n",
       "        text-align: right;\n",
       "    }\n",
       "</style>\n",
       "<table border=\"1\" class=\"dataframe\">\n",
       "  <thead>\n",
       "    <tr style=\"text-align: right;\">\n",
       "      <th></th>\n",
       "      <th>Unnamed: 0</th>\n",
       "      <th>tree_number</th>\n",
       "      <th>subtree_number</th>\n",
       "      <th>circulation_time</th>\n",
       "      <th>n_human_tips</th>\n",
       "      <th>tips_in_subtree</th>\n",
       "    </tr>\n",
       "  </thead>\n",
       "  <tbody>\n",
       "    <tr>\n",
       "      <th>21</th>\n",
       "      <td>0</td>\n",
       "      <td>1</td>\n",
       "      <td>22</td>\n",
       "      <td>9.514521</td>\n",
       "      <td>0</td>\n",
       "      <td>['A/chicken/Vietnam/NCVD-swab276/2008|2008.915...</td>\n",
       "    </tr>\n",
       "    <tr>\n",
       "      <th>50</th>\n",
       "      <td>0</td>\n",
       "      <td>1</td>\n",
       "      <td>51</td>\n",
       "      <td>9.637710</td>\n",
       "      <td>0</td>\n",
       "      <td>['A/duck/EasternChina/108/2008|2008.954|2008-1...</td>\n",
       "    </tr>\n",
       "    <tr>\n",
       "      <th>150</th>\n",
       "      <td>0</td>\n",
       "      <td>2</td>\n",
       "      <td>23</td>\n",
       "      <td>8.180612</td>\n",
       "      <td>0</td>\n",
       "      <td>['A/chicken/Vietnam/NCVD-swab276/2008|2008.915...</td>\n",
       "    </tr>\n",
       "    <tr>\n",
       "      <th>184</th>\n",
       "      <td>0</td>\n",
       "      <td>2</td>\n",
       "      <td>57</td>\n",
       "      <td>7.704275</td>\n",
       "      <td>0</td>\n",
       "      <td>['A/duck/EasternChina/108/2008|2008.954|2008-1...</td>\n",
       "    </tr>\n",
       "    <tr>\n",
       "      <th>329</th>\n",
       "      <td>0</td>\n",
       "      <td>3</td>\n",
       "      <td>50</td>\n",
       "      <td>9.465875</td>\n",
       "      <td>0</td>\n",
       "      <td>['A/duck/EasternChina/108/2008|2008.954|2008-1...</td>\n",
       "    </tr>\n",
       "  </tbody>\n",
       "</table>\n",
       "</div>"
      ],
      "text/plain": [
       "     Unnamed: 0  tree_number  subtree_number  circulation_time  n_human_tips  \\\n",
       "21            0            1              22          9.514521             0   \n",
       "50            0            1              51          9.637710             0   \n",
       "150           0            2              23          8.180612             0   \n",
       "184           0            2              57          7.704275             0   \n",
       "329           0            3              50          9.465875             0   \n",
       "\n",
       "                                       tips_in_subtree  \n",
       "21   ['A/chicken/Vietnam/NCVD-swab276/2008|2008.915...  \n",
       "50   ['A/duck/EasternChina/108/2008|2008.954|2008-1...  \n",
       "150  ['A/chicken/Vietnam/NCVD-swab276/2008|2008.915...  \n",
       "184  ['A/duck/EasternChina/108/2008|2008.954|2008-1...  \n",
       "329  ['A/duck/EasternChina/108/2008|2008.954|2008-1...  "
      ]
     },
     "execution_count": 18,
     "metadata": {},
     "output_type": "execute_result"
    }
   ],
   "source": [
    "long_no_human = no_human_tips[no_human_tips['circulation_time'] >= 5]\n",
    "print(len(long_no_human))\n",
    "long_no_human.head()"
   ]
  },
  {
   "cell_type": "code",
   "execution_count": 19,
   "metadata": {},
   "outputs": [
    {
     "name": "stdout",
     "output_type": "stream",
     "text": [
      "5399\n",
      "259\n"
     ]
    }
   ],
   "source": [
    "long_no_human_clusters = long_no_human['tips_in_subtree']\n",
    "print(len(long_no_human_clusters))\n",
    "print(len(set(long_no_human_clusters)))"
   ]
  },
  {
   "cell_type": "code",
   "execution_count": 20,
   "metadata": {},
   "outputs": [
    {
     "name": "stdout",
     "output_type": "stream",
     "text": [
      "31614\n"
     ]
    }
   ],
   "source": [
    "short_some_human = some_human_tips[some_human_tips['circulation_time'] < 1]\n",
    "print(len(short_some_human))"
   ]
  },
  {
   "cell_type": "code",
   "execution_count": 21,
   "metadata": {},
   "outputs": [
    {
     "name": "stdout",
     "output_type": "stream",
     "text": [
      "1632\n",
      "106\n"
     ]
    }
   ],
   "source": [
    "print(len(short_some_human[short_some_human['n_human_tips'] > 1]))\n",
    "short_some_human_clusters = short_some_human[short_some_human['n_human_tips'] > 1]['tips_in_subtree']\n",
    "\n",
    "print(len(set(short_some_human_clusters)))"
   ]
  },
  {
   "cell_type": "code",
   "execution_count": 44,
   "metadata": {},
   "outputs": [
    {
     "name": "stdout",
     "output_type": "stream",
     "text": [
      "1307      ['A/duck/Vietnam/TG24/2005|2005.485|2005-06-27...\n",
      "1315      ['A/Hubei/1/2006|2006.247|2006-04-01|Human|Chi...\n",
      "2389      ['A/chicken/Sharkeya/14209SS/2014|2014.975|201...\n",
      "3159      ['A/turkey/Menia/15248S/2015|2015.153|2015-02-...\n",
      "3241      ['A/Sichuan/2/2006|2006.025|2006-01-10|Human|C...\n",
      "3882      ['A/Guangxi/1/2005|2005.893|2005-11-23|Human|C...\n",
      "4727      ['A/HongKong/5923/2012|2012.404|2012-05-28|Hum...\n",
      "6175      ['A/HongKong/5923/2012|2012.404|2012-05-28|Hum...\n",
      "6207      ['A/chicken/Sharkeya/14209SS/2014|2014.975|201...\n",
      "6284      ['A/Guangxi/1/2005|2005.893|2005-11-23|Human|C...\n",
      "6625      ['A/Hubei/1/2006|2006.247|2006-04-01|Human|Chi...\n",
      "7357      ['A/Indonesia/175H/2005|2005.86|2005-11-11|Hum...\n",
      "7418      ['A/HongKong/5923/2012|2012.404|2012-05-28|Hum...\n",
      "7545      ['A/Cambodia/W0112303/2012|2012.025|2012-01-10...\n",
      "8496      ['A/Egypt/MOH-NRC-7271/2014|2014.901|2014-11-2...\n",
      "8989      ['A/Egypt/N01400/2012|2012.194|2012-03-12|Huma...\n",
      "9508      ['A/Hubei/1/2006|2006.247|2006-04-01|Human|Chi...\n",
      "10816     ['A/Egypt/682/2015|2015.038|2015-01-15|Human|A...\n",
      "11098     ['A/HongKong/5923/2012|2012.404|2012-05-28|Hum...\n",
      "11219     ['A/Guangxi/1/2008|2008.115|2008-02-12|Human|C...\n",
      "11296     ['A/Sichuan/2/2006|2006.025|2006-01-10|Human|C...\n",
      "11387     ['A/turkey/Menia/15248S/2015|2015.153|2015-02-...\n",
      "11606     ['A/Hubei/1/2006|2006.247|2006-04-01|Human|Chi...\n",
      "11925     ['A/duck/Cairo/157CA/2015|2015.027|2015-01-11|...\n",
      "12219     ['A/Egypt/682/2015|2015.038|2015-01-15|Human|A...\n",
      "12272     ['A/Hubei/1/2006|2006.247|2006-04-01|Human|Chi...\n",
      "12361     ['A/Cambodia/X0913301/2013|2013.699|2013-09-13...\n",
      "12697     ['A/Egypt/N01400/2012|2012.194|2012-03-12|Huma...\n",
      "12792     ['A/Hubei/1/2006|2006.247|2006-04-01|Human|Chi...\n",
      "12954     ['A/Hubei/1/2006|2006.247|2006-04-01|Human|Chi...\n",
      "                                ...                        \n",
      "509919    ['A/duck/Vietnam/TG24/2005|2005.485|2005-06-27...\n",
      "509967    ['A/HongKong/5923/2012|2012.404|2012-05-28|Hum...\n",
      "510213    ['A/Hubei/1/2006|2006.247|2006-04-01|Human|Chi...\n",
      "510371    ['A/Sichuan/2/2006|2006.025|2006-01-10|Human|C...\n",
      "510602    ['A/turkey/Menia/15248S/2015|2015.153|2015-02-...\n",
      "510965    ['A/Hubei/1/2006|2006.247|2006-04-01|Human|Chi...\n",
      "510969    ['A/Guangxi/1/2005|2005.893|2005-11-23|Human|C...\n",
      "511280    ['A/HongKong/5923/2012|2012.404|2012-05-28|Hum...\n",
      "511909    ['A/Egypt/682/2015|2015.038|2015-01-15|Human|A...\n",
      "512035    ['A/Cambodia/W0329318/2012|2012.24|2012-03-29|...\n",
      "512371    ['A/Sichuan/2/2006|2006.025|2006-01-10|Human|C...\n",
      "512428    ['A/HongKong/5923/2012|2012.404|2012-05-28|Hum...\n",
      "512506    ['A/Hubei/1/2006|2006.247|2006-04-01|Human|Chi...\n",
      "512761    ['A/Hubei/1/2006|2006.247|2006-04-01|Human|Chi...\n",
      "512864    ['A/Egypt/682/2015|2015.038|2015-01-15|Human|A...\n",
      "513666    ['A/Hubei/1/2006|2006.247|2006-04-01|Human|Chi...\n",
      "514454    ['A/Hubei/1/2006|2006.247|2006-04-01|Human|Chi...\n",
      "515047    ['A/Hubei/1/2006|2006.247|2006-04-01|Human|Chi...\n",
      "515613    ['A/Hubei/1/2006|2006.247|2006-04-01|Human|Chi...\n",
      "516063    ['A/Hubei/1/2006|2006.247|2006-04-01|Human|Chi...\n",
      "516305    ['A/turkey/Menia/15248S/2015|2015.153|2015-02-...\n",
      "516459    ['A/Cambodia/X0808305/2013|2013.515|2013-07-08...\n",
      "516787    ['A/Hubei/1/2006|2006.247|2006-04-01|Human|Chi...\n",
      "517019    ['A/HongKong/5923/2012|2012.404|2012-05-28|Hum...\n",
      "517164    ['A/Guangxi/1/2008|2008.115|2008-02-12|Human|C...\n",
      "517288    ['A/Hubei/1/2006|2006.247|2006-04-01|Human|Chi...\n",
      "517384    ['A/duck/Cairo/157CA/2015|2015.027|2015-01-11|...\n",
      "517483    ['A/Hubei/1/2006|2006.247|2006-04-01|Human|Chi...\n",
      "518039    ['A/Indonesia/175H/2005|2005.86|2005-11-11|Hum...\n",
      "518291    ['A/Egypt/682/2015|2015.038|2015-01-15|Human|A...\n",
      "Name: tips_in_subtree, Length: 1632, dtype: object\n"
     ]
    }
   ],
   "source": [
    "print(short_some_human_clusters)"
   ]
  },
  {
   "cell_type": "code",
   "execution_count": null,
   "metadata": {},
   "outputs": [],
   "source": []
  },
  {
   "cell_type": "markdown",
   "metadata": {},
   "source": [
    "Maybe the best and H5N1 virus can do is be around for a long time, with a little bit of ability to infect people. But there are some that are just not able to, regardless of how long they circulate. "
   ]
  },
  {
   "cell_type": "code",
   "execution_count": null,
   "metadata": {},
   "outputs": [],
   "source": []
  }
 ],
 "metadata": {
  "kernelspec": {
   "display_name": "LHM-basics (python3)",
   "language": "python",
   "name": "lhm-basics"
  },
  "language_info": {
   "codemirror_mode": {
    "name": "ipython",
    "version": 3
   },
   "file_extension": ".py",
   "mimetype": "text/x-python",
   "name": "python",
   "nbconvert_exporter": "python",
   "pygments_lexer": "ipython3",
   "version": "3.7.3"
  }
 },
 "nbformat": 4,
 "nbformat_minor": 2
}
