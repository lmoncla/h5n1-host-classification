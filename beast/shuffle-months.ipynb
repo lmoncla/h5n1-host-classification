{
 "cells": [
  {
   "cell_type": "markdown",
   "metadata": {},
   "source": [
    "# Shuffle months in date trait\n",
    "\n",
    "I would like to run a control where I shuffle the month for dates that have months and re-run the analysis to see if that alters the inferred time of cross-species transmission "
   ]
  },
  {
   "cell_type": "code",
   "execution_count": 49,
   "metadata": {},
   "outputs": [],
   "source": [
    "import sys, subprocess, glob, os, shutil, re, importlib, Bio, csv\n",
    "from subprocess import call\n",
    "from Bio import SeqIO\n",
    "import pandas as pd\n",
    "import numpy as np\n",
    "from time import gmtime, strftime\n",
    "import random \n",
    "\n",
    "import datetime\n",
    "from datetime import datetime\n",
    "from dateutil.parser import parse\n",
    "import rpy2\n",
    "%load_ext rpy2.ipython"
   ]
  },
  {
   "cell_type": "code",
   "execution_count": 50,
   "metadata": {},
   "outputs": [],
   "source": []
  },
  {
   "cell_type": "code",
   "execution_count": 56,
   "metadata": {},
   "outputs": [],
   "source": [
    "def convert_calendar_date_to_decimal_date(date_string):\n",
    "    \n",
    "    # call in R to convert collection date to decimal date and store as a new variable\n",
    "    %R require(lubridate); library(lubridate)\n",
    "    %R -i date_string\n",
    "    %R dateR <- ymd(date_string)\n",
    "    %R dec_date = decimal_date(dateR)\n",
    "    %R -o dec_date\n",
    "    decimal_date = str(dec_date).replace(\"[1] \",\"\").strip()\n",
    "        \n",
    "    decimal_date = float(decimal_date)\n",
    "    \n",
    "    return(decimal_date)"
   ]
  },
  {
   "cell_type": "code",
   "execution_count": 125,
   "metadata": {},
   "outputs": [],
   "source": [
    "def write_new_xml(input_xml, output_xml): \n",
    "    with open(output_xml, \"w\") as outfile: \n",
    "        outfile.write(\"\")\n",
    "        \n",
    "    with open(input_xml, \"r\") as infile:\n",
    "        for line in infile: \n",
    "            if line.startswith(\"            <trait id=\\\"dateTrait.t\"):\n",
    "                datestring = line.split(\"value=\")[1]\n",
    "                dates_list = datestring.replace(\"\\\"\",\"\").split(\",\")\n",
    "                \n",
    "                shuffled_dates = return_shuffled_dates_list(dates_list)\n",
    "                new_date_line = line.split(\"value=\")[0] + \"value=\" + shuffled_dates + \">\\n\"\n",
    "                \n",
    "                with open(output_xml, \"a\") as outfile: \n",
    "                    outfile.write(new_date_line)\n",
    "            \n",
    "            else: \n",
    "                with open(output_xml, \"a\") as outfile: \n",
    "                    outfile.write(line)"
   ]
  },
  {
   "cell_type": "code",
   "execution_count": 118,
   "metadata": {},
   "outputs": [],
   "source": [
    "def return_shuffled_dates_list(date_list):\n",
    "    shuffled_date_list = []\n",
    "    \n",
    "    for sequence in date_list:\n",
    "        decimal_date = sequence.split(\"|\")[1]\n",
    "        long_date = sequence.split(\"|\")[2]\n",
    "        year = long_date.split(\"-\")[0]\n",
    "        month = long_date.split(\"-\")[1]\n",
    "        day = long_date.split(\"-\")[2]\n",
    "        assigned_date = sequence.split(\"=\")[1]\n",
    "        \n",
    "        # if there is a specific month, choose a new, random month\n",
    "        if month != \"XX\":\n",
    "            new_long_date = return_random_date(year, month, day)\n",
    "            new_decimal_date = str(convert_calendar_date_to_decimal_date(new_long_date))\n",
    "        else: \n",
    "            new_long_date = long_date\n",
    "            new_decimal_date = assigned_date\n",
    "            \n",
    "        new_sequence = sequence.split(\"=\")[0] + \"=\" + new_decimal_date\n",
    "        shuffled_date_list.append(new_sequence)\n",
    "    \n",
    "    # return a new list of shuffled dates \n",
    "    shuffled_dates = \"\\\"\" + \",\".join(shuffled_date_list) + \"\\\"\"\n",
    "\n",
    "    return(shuffled_dates)"
   ]
  },
  {
   "cell_type": "code",
   "execution_count": 119,
   "metadata": {},
   "outputs": [],
   "source": [
    "def return_random_date(year, month, day):   \n",
    "    \n",
    "    new_month = str(random.choice(['01','02','03','04','05','06','07','08','09','10','11','12']))\n",
    "    \n",
    "    # need to adjust for months that don't have day 31; just make them 29 \n",
    "    if day in [\"29\",\"30\",\"31\"]:\n",
    "        new_day = \"28\"\n",
    "    elif day == \"XX\":\n",
    "        new_day = \"01\"\n",
    "    else:\n",
    "        new_day = day\n",
    "    \n",
    "    new_long_date = year + \"-\" + new_month + \"-\" + new_day\n",
    "\n",
    "    return(new_long_date)"
   ]
  },
  {
   "cell_type": "code",
   "execution_count": null,
   "metadata": {},
   "outputs": [],
   "source": []
  },
  {
   "cell_type": "code",
   "execution_count": null,
   "metadata": {},
   "outputs": [],
   "source": []
  },
  {
   "cell_type": "code",
   "execution_count": 130,
   "metadata": {},
   "outputs": [],
   "source": [
    "template_xml = \"beast-runs/2021-12-21-mascot-3deme-skyline-shuffled-months/2021-07-30-mascot-3deme-skyline-tipdates.xml\"\n",
    "output_xml = \"beast-runs/2021-12-21-mascot-3deme-skyline-shuffled-months/2021-12-21-mascot-3deme-skyline-shuffled-months.xml\""
   ]
  },
  {
   "cell_type": "code",
   "execution_count": 131,
   "metadata": {},
   "outputs": [],
   "source": [
    "for i in range(10):\n",
    "    new_xml = output_xml.replace(\".xml\",\"-it\" + str(i) + \".xml\")\n",
    "    write_new_xml(template_xml, new_xml)"
   ]
  },
  {
   "cell_type": "code",
   "execution_count": null,
   "metadata": {},
   "outputs": [],
   "source": []
  }
 ],
 "metadata": {
  "kernelspec": {
   "display_name": "LHM-basics (python3)",
   "language": "python",
   "name": "lhm-basics"
  },
  "language_info": {
   "codemirror_mode": {
    "name": "ipython",
    "version": 3
   },
   "file_extension": ".py",
   "mimetype": "text/x-python",
   "name": "python",
   "nbconvert_exporter": "python",
   "pygments_lexer": "ipython3",
   "version": "3.7.3"
  }
 },
 "nbformat": 4,
 "nbformat_minor": 2
}
