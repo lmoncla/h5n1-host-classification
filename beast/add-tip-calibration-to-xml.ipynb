{
 "cells": [
  {
   "cell_type": "markdown",
   "metadata": {},
   "source": [
    "# Generate a beast 2 xml\n",
    "\n",
    "I would like to develop a template for an xml, where I can then slot in extra stuff. I will start with figuring out how to slot in estimated tip dates, given an xml that works. I will be working off of this tutorial/information page https://www.beast2.org/2015/06/09/sampling-tip-dates.html"
   ]
  },
  {
   "cell_type": "code",
   "execution_count": 1,
   "metadata": {},
   "outputs": [],
   "source": [
    "import sys, subprocess, glob, os, shutil, re, importlib, Bio, csv\n",
    "from subprocess import call\n",
    "from Bio import SeqIO\n",
    "import pandas as pd\n",
    "import numpy as np\n",
    "from time import gmtime, strftime\n",
    "\n",
    "import datetime\n",
    "from datetime import datetime\n",
    "from dateutil.parser import parse"
   ]
  },
  {
   "cell_type": "code",
   "execution_count": 169,
   "metadata": {},
   "outputs": [],
   "source": [
    "input_xml = \"beast-runs/2021-06-10-mascot-3deme-skyline-with-mig-history/2021-06-17-mascot-3deme-skyline.xml\"\n",
    "output_xml = \"beast-runs/2021-06-10-mascot-3deme-skyline-with-mig-history/2021-06-22-mascot-3deme-skyline-tipdates.xml\""
   ]
  },
  {
   "cell_type": "code",
   "execution_count": 170,
   "metadata": {},
   "outputs": [],
   "source": [
    "\"\"\"the prior on the tip dates should be set in years, not in years from present\"\"\"\n",
    "\n",
    "def determine_date_bounds(most_recent_tip_date, tip_year):\n",
    "    \n",
    "    # for a tip with a year-only tip, the maximum furthest back in time it could be is January 1st of that year\n",
    "    #upper_bound = str(round((most_recent_tip_date - tip_year), 4))\n",
    "    upper_bound = str(tip_year + 0.9959)\n",
    "    \n",
    "    # the most recent it could be is December 31st of that year; in decimal dates, that is year.9959\n",
    "    #lower_bound = str(round((most_recent_tip_date - (tip_year + 0.9959)), 4))\n",
    "    lower_bound = str(tip_year)\n",
    "    \n",
    "    return(upper_bound, lower_bound)"
   ]
  },
  {
   "cell_type": "code",
   "execution_count": 171,
   "metadata": {},
   "outputs": [],
   "source": [
    "def generate_mrca_distribution_block(taxon_id, tree_id, upper_prior_bound_year, lower_prior_bound_year, count):\n",
    "    \n",
    "    strain_name = taxon_id.split(\"|\")[0]\n",
    "    strain_prior_id = strain_name + \".prior\"\n",
    "    \n",
    "    line1 = \"            <distribution id=\\\"insert_prior_id\\\" spec=\\\"beast.math.distributions.MRCAPrior\\\" tipsonly=\\\"true\\\" tree=\\\"@Tree.t:insert_tree_id\\\">\"\n",
    "    line2 = \"                <taxonset id=\\\"insert_id\\\" spec=\\\"TaxonSet\\\">\"\n",
    "    line3 = \"                    <taxon id=\\\"insert_taxon_id\\\" spec=\\\"Taxon\\\"/>\"\n",
    "    line4 = \"                </taxonset>\"\n",
    "    line5 = \"                <Uniform id=\\\"Uniform.insert_count_here\\\" lower=\\\"lower_prior_bound_year\\\" name=\\\"distr\\\" upper=\\\"upper_prior_bound_year\\\"/>\"\n",
    "    line6 = \"            </distribution>\"\n",
    "    \n",
    "    line1 = line1.replace(\"insert_prior_id\",strain_prior_id)\n",
    "    line1 = line1.replace(\"insert_tree_id\",tree_id)\n",
    "    line2 = line2.replace(\"insert_id\",strain_name)\n",
    "    line3 = line3.replace(\"insert_taxon_id\",taxon_id)\n",
    "    line5 = line5.replace(\"insert_count_here\", str(count))\n",
    "    line5 = line5.replace(\"lower_prior_bound_year\",lower_prior_bound_year)\n",
    "    line5 = line5.replace(\"upper_prior_bound_year\",upper_prior_bound_year)\n",
    "\n",
    "    block = \"\\n\".join([line1,line2,line3,line4,line5,line6])\n",
    "    \n",
    "    return(block)"
   ]
  },
  {
   "cell_type": "code",
   "execution_count": 172,
   "metadata": {},
   "outputs": [],
   "source": [
    "def generate_operator(taxon_id, tree_id):\n",
    "    strain_name = taxon_id.split(\"|\")[0]\n",
    "    \n",
    "    operator_line = \"    <operator id=\\\"tipDatesSampler.insert_strain_id\\\" spec=\\\"TipDatesRandomWalker\\\" taxonset=\\\"@insert_strain_id\\\" tree=\\\"@Tree.t:insert_tree_id\\\" weight=\\\"1.0\\\" windowSize=\\\"1.0\\\"/>\"\n",
    "    operator_line = operator_line.replace(\"insert_strain_id\",strain_name)\n",
    "    operator_line = operator_line.replace(\"insert_tree_id\",tree_id)\n",
    "    \n",
    "    return(operator_line)"
   ]
  },
  {
   "cell_type": "code",
   "execution_count": 173,
   "metadata": {},
   "outputs": [],
   "source": [
    "def generate_logger(taxon_id):\n",
    "    strain_name = taxon_id.split(\"|\")[0]\n",
    "    logger_line = \"        <log idref=\\\"insert_strain_name.prior\\\"/>\".replace(\"insert_strain_name\",strain_name)\n",
    "    return(logger_line)"
   ]
  },
  {
   "cell_type": "code",
   "execution_count": 174,
   "metadata": {},
   "outputs": [],
   "source": [
    "def generate_tip_calibration_blocks(input_xml, tree_id, most_recent_tip):\n",
    "    \n",
    "    date_trait_blocks = []\n",
    "    operators = []\n",
    "    loggers = []\n",
    "    counter = 5\n",
    "    \n",
    "    with open(input_xml, \"r\") as infile: \n",
    "        for line in infile: \n",
    "            \n",
    "            # find the date trait line\n",
    "            \n",
    "            # there will sometimes be other parameters that use uniform priors, so print this to make sure that your\n",
    "            # counter is set higher than any existing uniform block (otherwise there will be duplicate ids)\n",
    "            if \"Uniform.\" in line: \n",
    "                print(line)\n",
    "            \n",
    "            if \"traitname=\\\"date\\\"\" in line: \n",
    "                date_string = line.split(\"value=\")[1]\n",
    "                start_of_date_line = line.split(\"value=\")[0]\n",
    "                taxa = date_string.split(\",\")\n",
    "                \n",
    "                # loop through taxa and pull out year-only taxa\n",
    "                reformatted_taxa = []\n",
    "                all_dates = []\n",
    "                for t in taxa:\n",
    "                    taxon_id = t.split(\"=\")[0]\n",
    "                    taxon_id = taxon_id.replace(\"\\\"\",\"\")\n",
    "                    long_date = t.split(\"|\")[2]\n",
    "                    all_dates.append(float(t.split(\"|\")[1]))\n",
    "                    \n",
    "                    if \"-XX-XX\" in long_date:\n",
    "                        counter += 1\n",
    "                        year = float(long_date.split(\"-\")[0])\n",
    "                        \n",
    "                        upper_bound_date, lower_bound_date = determine_date_bounds(most_recent_tip, year)\n",
    "                        block = generate_mrca_distribution_block(taxon_id, tree_id, upper_bound_date, lower_bound_date, counter)\n",
    "                        date_trait_blocks.append(block)\n",
    "                        \n",
    "                        operator = generate_operator(taxon_id, tree_id)\n",
    "                        operators.append(operator)\n",
    "                        \n",
    "                        logger = generate_logger(taxon_id)\n",
    "                        loggers.append(logger)\n",
    "                        \n",
    "                        old_decimal_date = \"=\" + long_date.split(\"-\")[0] + \".0\"\n",
    "                        new_decimal_date = \"=\" + long_date.split(\"-\")[0] + \".5\"\n",
    "                        reformatted_taxa.append(t.replace(old_decimal_date, new_decimal_date))\n",
    "                        \n",
    "                    else:\n",
    "                        reformatted_taxa.append(t)\n",
    "                        \n",
    "    \n",
    "    end_of_date_line = \",\".join(reformatted_taxa)\n",
    "    new_date_line = start_of_date_line + \"value=\" + end_of_date_line\n",
    "    \n",
    "    print(\"max_date\", max(all_dates))\n",
    "    \n",
    "    return(new_date_line, date_trait_blocks, operators, loggers)"
   ]
  },
  {
   "cell_type": "code",
   "execution_count": 175,
   "metadata": {},
   "outputs": [],
   "source": [
    "def write_new_xml(input_xml, output_xml, date_blocks, operators, loggers, new_datet_line):\n",
    "    with open(output_xml, \"w\") as outfile: \n",
    "        outfile.write(\"\")\n",
    "    \n",
    "    with open(input_xml, \"r\") as infile: \n",
    "        for line in infile:\n",
    "            \n",
    "            if \"traitname=\\\"date\\\"\" in line:\n",
    "                with open(output_xml, \"a\") as outfile: \n",
    "                    outfile.write(new_date_line)\n",
    "\n",
    "            elif \"<!--  add tip calibration here -->\" in line:\n",
    "                date_block = \"\\n\".join(date_blocks)\n",
    "                with open(output_xml, \"a\") as outfile: \n",
    "                    outfile.write(line + \"\\n\" + date_block + \"\\n\" + \"<!--  end of tip calibration -->\")\n",
    "            \n",
    "            elif \"<!-- insert tip calibration operators -->\" in line:\n",
    "                operators_block = \"\\n\".join(operators)\n",
    "                with open(output_xml, \"a\") as outfile: \n",
    "                    outfile.write(line + operators_block + \"\\n\" + \"<!--  end of tip calibration operators -->\")\n",
    "                \n",
    "            elif \"<!-- insert tip calibration loggers -->\" in line:\n",
    "                loggers_block = \"\\n\".join(loggers)\n",
    "                with open(output_xml, \"a\") as outfile: \n",
    "                    outfile.write(line + loggers_block + \"\\n\" + \"<!--  end of tip calibration loggers-->\")\n",
    "                \n",
    "            else: \n",
    "                with open(output_xml, \"a\") as outfile: \n",
    "                    outfile.write(line)"
   ]
  },
  {
   "cell_type": "code",
   "execution_count": 176,
   "metadata": {},
   "outputs": [
    {
     "name": "stdout",
     "output_type": "stream",
     "text": [
      "                <Uniform id=\"Uniform.3\" name=\"distr\"/>\n",
      "\n",
      "max_date 2019.227\n"
     ]
    }
   ],
   "source": [
    "tree_id = \"aligned_h5n1_ha-3deme-1per-country-month-host-downsampled-bad-dates-2021-06-09-with-annotations-2021-06-08\"\n",
    "most_recent_tip_date = 2019.227\n",
    "\n",
    "new_date_line, date_blocks, operators, loggers = generate_tip_calibration_blocks(input_xml, tree_id, most_recent_tip_date)"
   ]
  },
  {
   "cell_type": "code",
   "execution_count": 177,
   "metadata": {},
   "outputs": [],
   "source": [
    "write_new_xml(input_xml, output_xml, date_blocks, operators, loggers, new_date_line)"
   ]
  },
  {
   "cell_type": "code",
   "execution_count": null,
   "metadata": {},
   "outputs": [],
   "source": []
  }
 ],
 "metadata": {
  "kernelspec": {
   "display_name": "LHM-basics (python3)",
   "language": "python",
   "name": "lhm-basics"
  },
  "language_info": {
   "codemirror_mode": {
    "name": "ipython",
    "version": 3
   },
   "file_extension": ".py",
   "mimetype": "text/x-python",
   "name": "python",
   "nbconvert_exporter": "python",
   "pygments_lexer": "ipython3",
   "version": "3.7.3"
  }
 },
 "nbformat": 4,
 "nbformat_minor": 2
}
