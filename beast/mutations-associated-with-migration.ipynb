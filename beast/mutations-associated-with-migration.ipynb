{
 "cells": [
  {
   "cell_type": "markdown",
   "metadata": {},
   "source": [
    "# Analyze mutations on host switch branches\n",
    "\n",
    "I would like to see whether there are mutations that are associated specifically with cross-species transmission events. There are a few ways you could look at this. Here are a few ideas: \n",
    "\n",
    "1. For each mutation on the tree, how many times is it found on branches that are part of a host transition vs. branches that are not part of a host transition? By \"part of\", I mean are you on a branch that is either the parent or child branch that constitutes a host switch event? \n",
    "2. Are particular mutations enriched on branches with distinct host states? By this I mean, are there mutations that are differentially distributed among branches of type human vs. domestic? "
   ]
  },
  {
   "cell_type": "code",
   "execution_count": 1,
   "metadata": {},
   "outputs": [],
   "source": [
    "import glob\n",
    "import re,copy, imp\n",
    "import pandas as pd \n",
    "import numpy as np\n",
    "\n",
    "# for this to work, you will need to download the most recent version of baltic, available here \n",
    "bt = imp.load_source('baltic', '../baltic/baltic/baltic.py')\n",
    "\n",
    "%matplotlib inline\n",
    "import matplotlib as mpl\n",
    "from matplotlib import pyplot as plt\n",
    "import matplotlib.patheffects as path_effects\n",
    "import matplotlib.lines as mlines\n",
    "from matplotlib.font_manager import FontProperties\n",
    "import matplotlib.colors as clr\n",
    "import textwrap as textwrap\n",
    "from textwrap import wrap\n",
    "\n",
    "from io import StringIO\n",
    "import time\n",
    "\n",
    "import rpy2\n",
    "%load_ext rpy2.ipython"
   ]
  },
  {
   "cell_type": "code",
   "execution_count": 2,
   "metadata": {},
   "outputs": [],
   "source": [
    "from datetime import date\n",
    "current_date = str(date.today())"
   ]
  },
  {
   "cell_type": "code",
   "execution_count": 3,
   "metadata": {},
   "outputs": [],
   "source": [
    "# define colors \n",
    "domestic_color=\"#4E83AE\"\n",
    "wild_color=\"#CEB540\"\n",
    "human_color=\"#DE4428\""
   ]
  },
  {
   "cell_type": "markdown",
   "metadata": {},
   "source": [
    "## Grab all trees and process posterior"
   ]
  },
  {
   "cell_type": "code",
   "execution_count": 4,
   "metadata": {},
   "outputs": [],
   "source": [
    "def get_taxa_lines(tree_path):    \n",
    "    # write out a temp tree file\n",
    "#     temp_tree = tree_path.replace(\".trees\",\".temp.tree\")\n",
    "#     with open(temp_tree, \"w\") as outfile: \n",
    "#         outfile.write(\"\")\n",
    "\n",
    "    lines_to_write = \"\"\n",
    "    with open(tree_path, 'rU') as infile:\n",
    "        for line in infile: ## iterate through each line\n",
    "            if 'state' not in line.lower(): #going to grab all the interesting stuff in the .trees file prior to the newick tree strings\n",
    "                lines_to_write = lines_to_write + line\n",
    "\n",
    "    return(lines_to_write)"
   ]
  },
  {
   "cell_type": "code",
   "execution_count": 5,
   "metadata": {},
   "outputs": [],
   "source": [
    "def get_burnin_value(tree_path, burnin_percent):\n",
    "    with open(tree_path, 'rU') as infile:\n",
    "        numtrees = 0\n",
    "        for line in infile: ## iterate through each line\n",
    "            if 'state' in line.lower(): #going to grab all the interesting stuff in the .trees file prior to the newick tree strings\n",
    "                numtrees += 1\n",
    "    \n",
    "    burnin = numtrees * burnin_percent\n",
    "    return(burnin)"
   ]
  },
  {
   "cell_type": "code",
   "execution_count": null,
   "metadata": {},
   "outputs": [],
   "source": []
  },
  {
   "cell_type": "code",
   "execution_count": null,
   "metadata": {},
   "outputs": [],
   "source": []
  },
  {
   "cell_type": "code",
   "execution_count": null,
   "metadata": {},
   "outputs": [],
   "source": []
  },
  {
   "cell_type": "code",
   "execution_count": 6,
   "metadata": {},
   "outputs": [],
   "source": [
    "\"\"\"this is a function I'm not currently using, but it will enumerate mutations as well as which host type branches\n",
    "they occur on\"\"\"\n",
    "\n",
    "def enumerate_mutations(tree):\n",
    "    muts = {}\n",
    "    host_branches = {}\n",
    "    \n",
    "    for k in tree.Objects:\n",
    "        host = k.traits['typeTrait']\n",
    "        if host in host_branches: \n",
    "            host_branches[host] += 1\n",
    "        else:\n",
    "            host_branches[host] = 1\n",
    "        \n",
    "        if 'mutations' in k.traits: \n",
    "            mutation = k.traits['mutations']\n",
    "            site = mutation[1:-1]\n",
    "            if site not in muts: \n",
    "                muts[site] = [host]\n",
    "            else: \n",
    "                muts[site].append(host)\n",
    "            \n",
    "    return(muts, host_branches)"
   ]
  },
  {
   "cell_type": "code",
   "execution_count": 7,
   "metadata": {},
   "outputs": [],
   "source": [
    "def tabulate_mutations(mutations_dict):\n",
    "    output_dict = {}\n",
    "    for mut in mutations_dict:\n",
    "        output_dict[mut] = {}\n",
    "        hosts = list(set(mutations_dict[mut]))\n",
    "        for h in hosts: \n",
    "            output_dict[mut][h] = mutations_dict[mut].count(h)\n",
    "    \n",
    "    return(output_dict)"
   ]
  },
  {
   "cell_type": "code",
   "execution_count": null,
   "metadata": {},
   "outputs": [],
   "source": []
  },
  {
   "cell_type": "code",
   "execution_count": null,
   "metadata": {},
   "outputs": [],
   "source": []
  },
  {
   "cell_type": "code",
   "execution_count": 8,
   "metadata": {},
   "outputs": [],
   "source": [
    "def muts_on_branch(branch):\n",
    "    \n",
    "    if 'mutations' in branch.traits: \n",
    "        mutations = branch.traits['mutations']\n",
    "    \n",
    "    else: \n",
    "        mutations = \"\"\n",
    "    \n",
    "    return(mutations)"
   ]
  },
  {
   "cell_type": "code",
   "execution_count": 9,
   "metadata": {},
   "outputs": [],
   "source": [
    "def enumerate_child_traits(branch):\n",
    "    child_traits = []\n",
    "    \n",
    "    current_trait = branch.traits['typeTrait']\n",
    "    \n",
    "    for c in branch.children: \n",
    "        child_trait = c.traits['typeTrait']\n",
    "        child_traits.append(child_trait)\n",
    "    \n",
    "    if set(child_traits) == {current_trait}:\n",
    "        host_switch_branch = \"no\"\n",
    "    \n",
    "    else:\n",
    "        host_switch_branch = \"yes\"\n",
    "        \n",
    "    return(host_switch_branch)"
   ]
  },
  {
   "cell_type": "code",
   "execution_count": 10,
   "metadata": {},
   "outputs": [],
   "source": [
    "\"\"\"given a parent node and its child, infer whether either the parent or child has a mutation on it\"\"\"\n",
    "\n",
    "def mut_near_migration_event(parent, child):\n",
    "    \n",
    "    if 'mutations' in parent.traits:\n",
    "        parent_mutation = parent.traits['mutations']\n",
    "    else:\n",
    "        parent_mutation = \"\"\n",
    "        \n",
    "    if 'mutations' in child.traits:\n",
    "        child_mutation = child.traits['mutations']\n",
    "        \n",
    "    else:\n",
    "        child_mutation = \"\"\n",
    "        \n",
    "    return(parent_mutation, child_mutation)"
   ]
  },
  {
   "cell_type": "code",
   "execution_count": 11,
   "metadata": {},
   "outputs": [],
   "source": [
    "\"\"\"this function will iterate through the tree, and record each inferred migration event along the phylogeny. It\n",
    "will also capture the inferred time of the migration event as a decimal date, and whether the parent or child branch\n",
    "surrounding the migration event have any mutations on them. These values are stored in a dictionary where the \n",
    "key is a number to keep track of the total number of migration events on the tree, and the value is a dictionary\n",
    "housing data about the migration event. this includes its type, the parent and child host states, date, and mutations\"\"\"\n",
    "\n",
    "def enumerate_mutations_and_migration_events(tree):\n",
    "        \n",
    "    output_dict = {}\n",
    "    branch_counter = 0\n",
    "        \n",
    "    for k in tree.Objects:\n",
    "        trait = k.traits['typeTrait']\n",
    "        parent_node = k.parent\n",
    "        \n",
    "        if 'typeTrait' not in parent_node.traits:\n",
    "            parent_trait = \"root\"\n",
    "        \n",
    "        # only write out migration events that are not from root to deme\n",
    "        else:\n",
    "            parent_trait = parent_node.traits['typeTrait']\n",
    "        \n",
    "            # if the current trait differs from the parent trait, then this is a host switch event. Enumerate \n",
    "            # mutations on the parent and current branch\"\"\"\n",
    "            if trait != parent_trait:\n",
    "                host_switch_event = \"yes\"\n",
    "                migration_event = parent_trait + \"-to-\" + trait\n",
    "\n",
    "                # does a mutation occur on the parent or child branch? \n",
    "                parent_mut, child_mut = mut_near_migration_event(parent_node, k)\n",
    "                \n",
    "                # write out the information for the parent and child branches\n",
    "                branch_counter += 1\n",
    "                output_dict[branch_counter] = {\"type\":migration_event, \"host_switch\": host_switch_event,\n",
    "                                                 \"host\":parent_trait, \"role\":\"parent\", \"mutations\":parent_mut}\n",
    "                \n",
    "                branch_counter += 1\n",
    "                output_dict[branch_counter] = {\"type\":migration_event, \"host_switch\": host_switch_event,\n",
    "                                                 \"host\":trait, \"role\":\"child\", \"mutations\":child_mut}\n",
    "\n",
    "\n",
    "            \n",
    "            # if the current trait is the same as the parent trait:\n",
    "            else:\n",
    "                \n",
    "                # if the branch is a node and it has no children or if you are a leaf, then you are not a host \n",
    "                # switch branch, and we can record your mutations and be done\n",
    "                if (k.branchType == 'node' and len(k.children) == 0) or k.branchType == 'leaf':\n",
    "                    mutations = muts_on_branch(k)\n",
    "                    migration_event = \"within-\" + trait\n",
    "                    host_switch_event = \"no\"\n",
    "                    \n",
    "                    branch_counter += 1\n",
    "                    output_dict[branch_counter] = {\"type\":migration_event, \"host_switch\": host_switch_event,\n",
    "                                                 \"host\":trait, \"role\":\"on\", \"mutations\":mutations}\n",
    "                \n",
    "                # if you are a node and you do have children, we need to check your children to make sure that \n",
    "                # they do not have a trait change. If they do, then you are part of a host switch.\n",
    "                elif len(k.children) > 0:\n",
    "                    host_switch_event = enumerate_child_traits(k)\n",
    "                    \n",
    "                    # if we are on a host_switch branch, pass\n",
    "                    if host_switch_event == \"yes\":\n",
    "                        to_record = \"no\"\n",
    "                    else: \n",
    "                        mutations = muts_on_branch(k)\n",
    "                        migration_event = \"within-\" + trait\n",
    "                        \n",
    "                        branch_counter += 1\n",
    "                        output_dict[branch_counter] = {\"type\":migration_event, \"host_switch\": host_switch_event,\n",
    "                                                 \"host\":trait, \"role\":\"on\", \"mutations\":mutations}\n",
    "                \n",
    "    return(output_dict)"
   ]
  },
  {
   "cell_type": "code",
   "execution_count": null,
   "metadata": {},
   "outputs": [],
   "source": []
  },
  {
   "cell_type": "code",
   "execution_count": 12,
   "metadata": {},
   "outputs": [],
   "source": [
    "# trees file paths\n",
    "constant_human_on = {\"label\": \"constant-human-on\",\"mig_direction\":\"backwards in time\",\n",
    "    \"trees\":\"beast-runs/2021-03-15-mascot-3deme-constant/with-human-mig/3deme-mascot-constant-with-human-mig-2021-03-15.combined.trees\"}\n",
    "constant_human_off = {\"label\": \"constant-human-off\",\"mig_direction\":\"backwards in time\",\n",
    "    \"trees\":\"beast-runs/2021-03-15-mascot-3deme-constant/no-human-mig/3deme-mascot-constant-no-human-mig-2021-03-15.combined.trees\"}\n",
    "skyline_human_on =  {\"label\": \"skyline-human-on\", \"mig_direction\":\"forwards in time\",\n",
    "                     \"trees\": \"beast-runs/2021-03-15-mascot-3deme-skyline-with-mig-history/with-human-mig/2021-04-27-mascot-3deme-skyline-with-human-mig.combined.trees\"}\n",
    "skyline_human_off = {\"label\": \"skyline-human-off\", \"mig_direction\":\"forwards in time\",\n",
    "                     \"trees\": \"beast-runs/2021-03-15-mascot-3deme-skyline-with-mig-history/no-human-mig-2021-03-31/2021-03-15-mascot-3deme-no-human-mig.combined.trees\"}"
   ]
  },
  {
   "cell_type": "code",
   "execution_count": 13,
   "metadata": {},
   "outputs": [],
   "source": [
    "to_run = skyline_human_off\n",
    "\n",
    "trees_file_path = to_run['trees']\n",
    "label = to_run['label']\n",
    "\n",
    "burnin_percent = 0"
   ]
  },
  {
   "cell_type": "code",
   "execution_count": 189,
   "metadata": {},
   "outputs": [
    {
     "name": "stderr",
     "output_type": "stream",
     "text": [
      "/Users/lmoncla/anaconda/envs/LHM-basics/lib/python3.7/site-packages/ipykernel_launcher.py:8: DeprecationWarning: 'U' mode is deprecated\n",
      "  \n",
      "/Users/lmoncla/anaconda/envs/LHM-basics/lib/python3.7/site-packages/ipykernel_launcher.py:2: DeprecationWarning: 'U' mode is deprecated\n",
      "  \n"
     ]
    },
    {
     "name": "stdout",
     "output_type": "stream",
     "text": [
      "0\n"
     ]
    }
   ],
   "source": [
    "all_trees = trees_file_path\n",
    "burnin_percent = 0\n",
    "\n",
    "taxa_lines = get_taxa_lines(all_trees)\n",
    "burnin = get_burnin_value(all_trees, burnin_percent)\n",
    "print(burnin)"
   ]
  },
  {
   "cell_type": "code",
   "execution_count": 192,
   "metadata": {},
   "outputs": [
    {
     "name": "stdout",
     "output_type": "stream",
     "text": [
      "this took 505.1699073314667 seconds ( 8.419498455524444  minutes) to run on 3287 trees\n"
     ]
    }
   ],
   "source": [
    "start_time = time.time()\n",
    "\n",
    "with open(all_trees, \"r\") as infile:\n",
    "    \n",
    "    tree_counter = 0\n",
    "    mutations_dict = {}\n",
    "    \n",
    "    for line in infile:\n",
    "        if 'tree STATE_' in line:\n",
    "            \n",
    "            if tree_counter >= burnin:\n",
    "                tree_counter += 1\n",
    "                temp_tree = StringIO(taxa_lines + line)\n",
    "                tree = bt.loadNexus(temp_tree)\n",
    "                tree.setAbsoluteTime(2019.227)\n",
    "                \n",
    "                # iterate through the tree and pull out all migration events\n",
    "                mutations_dict[tree_counter] = enumerate_mutations_and_migration_events(tree)\n",
    "\n",
    "# print the amount of time this took\n",
    "total_time_seconds = time.time() - start_time\n",
    "total_time_minutes = total_time_seconds/60\n",
    "print(\"this took\", total_time_seconds, \"seconds (\", total_time_minutes,\" minutes) to run on\", tree_counter, \"trees\")"
   ]
  },
  {
   "cell_type": "code",
   "execution_count": null,
   "metadata": {},
   "outputs": [],
   "source": []
  },
  {
   "cell_type": "code",
   "execution_count": 194,
   "metadata": {},
   "outputs": [
    {
     "data": {
      "text/html": [
       "<div>\n",
       "<style scoped>\n",
       "    .dataframe tbody tr th:only-of-type {\n",
       "        vertical-align: middle;\n",
       "    }\n",
       "\n",
       "    .dataframe tbody tr th {\n",
       "        vertical-align: top;\n",
       "    }\n",
       "\n",
       "    .dataframe thead th {\n",
       "        text-align: right;\n",
       "    }\n",
       "</style>\n",
       "<table border=\"1\" class=\"dataframe\">\n",
       "  <thead>\n",
       "    <tr style=\"text-align: right;\">\n",
       "      <th></th>\n",
       "      <th>tree_number</th>\n",
       "      <th>branch_number</th>\n",
       "      <th>type</th>\n",
       "      <th>host_switch</th>\n",
       "      <th>host</th>\n",
       "      <th>role</th>\n",
       "      <th>mutations</th>\n",
       "    </tr>\n",
       "  </thead>\n",
       "  <tbody>\n",
       "    <tr>\n",
       "      <th>0</th>\n",
       "      <td>1</td>\n",
       "      <td>1</td>\n",
       "      <td>within-domestic</td>\n",
       "      <td>no</td>\n",
       "      <td>domestic</td>\n",
       "      <td>on</td>\n",
       "      <td>T138C</td>\n",
       "    </tr>\n",
       "    <tr>\n",
       "      <th>1</th>\n",
       "      <td>1</td>\n",
       "      <td>2</td>\n",
       "      <td>within-domestic</td>\n",
       "      <td>no</td>\n",
       "      <td>domestic</td>\n",
       "      <td>on</td>\n",
       "      <td></td>\n",
       "    </tr>\n",
       "    <tr>\n",
       "      <th>2</th>\n",
       "      <td>1</td>\n",
       "      <td>3</td>\n",
       "      <td>within-domestic</td>\n",
       "      <td>no</td>\n",
       "      <td>domestic</td>\n",
       "      <td>on</td>\n",
       "      <td>A202G</td>\n",
       "    </tr>\n",
       "    <tr>\n",
       "      <th>3</th>\n",
       "      <td>1</td>\n",
       "      <td>4</td>\n",
       "      <td>domestic-to-wild</td>\n",
       "      <td>yes</td>\n",
       "      <td>domestic</td>\n",
       "      <td>parent</td>\n",
       "      <td></td>\n",
       "    </tr>\n",
       "    <tr>\n",
       "      <th>4</th>\n",
       "      <td>1</td>\n",
       "      <td>5</td>\n",
       "      <td>domestic-to-wild</td>\n",
       "      <td>yes</td>\n",
       "      <td>wild</td>\n",
       "      <td>child</td>\n",
       "      <td>T447A</td>\n",
       "    </tr>\n",
       "  </tbody>\n",
       "</table>\n",
       "</div>"
      ],
      "text/plain": [
       "   tree_number  branch_number              type host_switch      host    role  \\\n",
       "0            1              1   within-domestic          no  domestic      on   \n",
       "1            1              2   within-domestic          no  domestic      on   \n",
       "2            1              3   within-domestic          no  domestic      on   \n",
       "3            1              4  domestic-to-wild         yes  domestic  parent   \n",
       "4            1              5  domestic-to-wild         yes      wild   child   \n",
       "\n",
       "  mutations  \n",
       "0     T138C  \n",
       "1            \n",
       "2     A202G  \n",
       "3            \n",
       "4     T447A  "
      ]
     },
     "execution_count": 194,
     "metadata": {},
     "output_type": "execute_result"
    }
   ],
   "source": [
    "\"\"\"this will generate a multi-index dataframe from the migrations dictionary\"\"\"\n",
    "\n",
    "mutations_df = pd.DataFrame.from_dict({(i,j): mutations_dict[i][j] \n",
    "                           for i in mutations_dict.keys() \n",
    "                           for j in mutations_dict[i].keys()},\n",
    "                       orient='index')\n",
    " \n",
    "mutations_df.reset_index(inplace=True)\n",
    "mutations_df.rename(columns={'level_0': 'tree_number', 'level_1': 'branch_number'}, inplace=True)\n",
    "mutations_df.head()"
   ]
  },
  {
   "cell_type": "code",
   "execution_count": 232,
   "metadata": {},
   "outputs": [],
   "source": [
    "# write out to tsv\n",
    "# mutations_df.to_csv(\"/Users/lmoncla/src/h5n1-host-classification/beast/mutations-on-branches-\"+current_date+\".tsv\", sep=\"\\t\")"
   ]
  },
  {
   "cell_type": "code",
   "execution_count": 22,
   "metadata": {},
   "outputs": [
    {
     "name": "stderr",
     "output_type": "stream",
     "text": [
      "/Users/lmoncla/anaconda/envs/LHM-basics/lib/python3.7/site-packages/ipykernel_launcher.py:1: FutureWarning: from_csv is deprecated. Please use read_csv(...) instead. Note that some of the default arguments are different, so please refer to the documentation for from_csv when changing your function calls\n",
      "  \"\"\"Entry point for launching an IPython kernel.\n"
     ]
    }
   ],
   "source": [
    "mutations_df = pd.DataFrame.from_csv(\"/Users/lmoncla/src/h5n1-host-classification/beast/mutations-on-branches-2021-05-21.tsv\", sep=\"\\t\")"
   ]
  },
  {
   "cell_type": "code",
   "execution_count": 23,
   "metadata": {},
   "outputs": [
    {
     "name": "stdout",
     "output_type": "stream",
     "text": [
      "2387734 3794372\n",
      "0.3862331056762857 0.6137668943237142\n"
     ]
    }
   ],
   "source": [
    "\"\"\"count the total number of branches that are host switch branches vs. within-host branches\"\"\"\n",
    "\n",
    "total_host_switch_branches = mutations_df[\"host_switch\"].tolist().count('yes')\n",
    "total_non_branches = mutations_df[\"host_switch\"].tolist().count('no')\n",
    "\n",
    "print(total_host_switch_branches, total_non_branches)\n",
    "expected_host_switch = total_host_switch_branches/(total_non_branches + total_host_switch_branches)\n",
    "expected_non = total_non_branches/(total_non_branches + total_host_switch_branches)\n",
    "\n",
    "print(expected_host_switch, expected_non)"
   ]
  },
  {
   "cell_type": "code",
   "execution_count": 37,
   "metadata": {},
   "outputs": [
    {
     "name": "stdout",
     "output_type": "stream",
     "text": [
      "1735717 652017 2.6620732281520265\n",
      "2766440 1027932 2.691267515750069\n"
     ]
    }
   ],
   "source": [
    "\"\"\"are there more mutations on host switch branches than non-host switch branches?\"\"\"\n",
    "\n",
    "host_switch_with_mut = len(mutations_df[(mutations_df[\"host_switch\"] == \"yes\") & (~mutations_df[\"mutations\"].isnull())])\n",
    "host_switch_no_mut = len(mutations_df[(mutations_df[\"host_switch\"] == \"yes\") & (mutations_df[\"mutations\"].isnull())])\n",
    "\n",
    "within_host_with_mut = len(mutations_df[(mutations_df[\"host_switch\"] == \"no\") & (~mutations_df[\"mutations\"].isnull())])\n",
    "within_host_no_mut = len(mutations_df[(mutations_df[\"host_switch\"] == \"no\") & (mutations_df[\"mutations\"].isnull())])\n",
    "\n",
    "print(host_switch_with_mut, host_switch_no_mut, host_switch_with_mut/host_switch_no_mut)\n",
    "print(within_host_with_mut, within_host_no_mut, within_host_with_mut/within_host_no_mut)"
   ]
  },
  {
   "cell_type": "code",
   "execution_count": 36,
   "metadata": {},
   "outputs": [
    {
     "name": "stdout",
     "output_type": "stream",
     "text": [
      "0.9891522164083693 4.2005857331723705e-09\n"
     ]
    }
   ],
   "source": [
    "from scipy.stats import fisher_exact\n",
    "\n",
    "table = [[host_switch_with_mut,within_host_with_mut],[host_switch_no_mut,within_host_no_mut]]\n",
    "oddsr, p = fisher_exact(table, alternative='two-sided')\n",
    "\n",
    "print(oddsr,p)"
   ]
  },
  {
   "cell_type": "code",
   "execution_count": 39,
   "metadata": {},
   "outputs": [
    {
     "name": "stdout",
     "output_type": "stream",
     "text": [
      "976019 322081 3.0303526131625276\n",
      "893402 469377 1.9033783078420972\n"
     ]
    }
   ],
   "source": [
    "\"\"\"what about subsetting by different types of host switching events\"\"\"\n",
    "\n",
    "wild_domestic_with_mut = len(mutations_df[(mutations_df[\"type\"] == \"wild-to-domestic\") & (~mutations_df[\"mutations\"].isnull())])\n",
    "wild_domestic_no_mut = len(mutations_df[(mutations_df[\"type\"] == \"wild-to-domestic\") & (mutations_df[\"mutations\"].isnull())])\n",
    "\n",
    "within_wild_with_mut = len(mutations_df[(mutations_df[\"type\"] == \"within-wild\") & (~mutations_df[\"mutations\"].isnull())])\n",
    "within_wild_no_mut = len(mutations_df[(mutations_df[\"type\"] == \"within-wild\") & (mutations_df[\"mutations\"].isnull())])\n",
    "\n",
    "print(wild_domestic_with_mut, wild_domestic_no_mut, wild_domestic_with_mut/wild_domestic_no_mut)\n",
    "print(within_wild_with_mut, within_wild_no_mut, within_wild_with_mut/within_wild_no_mut)"
   ]
  },
  {
   "cell_type": "code",
   "execution_count": 40,
   "metadata": {},
   "outputs": [
    {
     "name": "stdout",
     "output_type": "stream",
     "text": [
      "531574 236666 2.2460936509680307\n",
      "1754360 537769 3.2622929175910103\n"
     ]
    }
   ],
   "source": [
    "\"\"\"repeat with domestic to human\"\"\"\n",
    "\n",
    "domestic_human_with_mut = len(mutations_df[(mutations_df[\"type\"] == \"domestic-to-human\") & (~mutations_df[\"mutations\"].isnull())])\n",
    "domestic_human_no_mut = len(mutations_df[(mutations_df[\"type\"] == \"domestic-to-human\") & (mutations_df[\"mutations\"].isnull())])\n",
    "\n",
    "within_domestic_with_mut = len(mutations_df[(mutations_df[\"type\"] == \"within-domestic\") & (~mutations_df[\"mutations\"].isnull())])\n",
    "within_domestic_no_mut = len(mutations_df[(mutations_df[\"type\"] == \"within-domestic\") & (mutations_df[\"mutations\"].isnull())])\n",
    "\n",
    "print(domestic_human_with_mut, domestic_human_no_mut, domestic_human_with_mut/domestic_human_no_mut)\n",
    "print(within_domestic_with_mut, within_domestic_no_mut, within_domestic_with_mut/within_domestic_no_mut)"
   ]
  },
  {
   "cell_type": "code",
   "execution_count": null,
   "metadata": {},
   "outputs": [],
   "source": [
    "\"\"\"the above analysis doesn't make sense unless we normalize to branch length; obviously there are going to be more \n",
    "mutations in wild birds, because the branches are much longer. So we want a mutation rate per host basically, \n",
    "rather than a uniform rate\"\"\""
   ]
  },
  {
   "cell_type": "code",
   "execution_count": null,
   "metadata": {},
   "outputs": [],
   "source": []
  },
  {
   "cell_type": "code",
   "execution_count": 16,
   "metadata": {},
   "outputs": [],
   "source": [
    "def convert_to_counts_dict(input_df):\n",
    "    \n",
    "    trees = set(input_df['tree_number'].tolist())\n",
    "    output_dict = {}\n",
    "\n",
    "    for t in trees:\n",
    "        output_dict[t] = {}\n",
    "        local_df1 = input_df[input_df['tree_number'] == t]\n",
    "\n",
    "        muts_to_query = set(local_df1['mutations'].tolist())\n",
    "        muts_to_query = [x for x in muts_to_query if str(x) != '']\n",
    "\n",
    "        for m in muts_to_query:\n",
    "            output_dict[t][m] = {}\n",
    "            local_df = local_df1[local_df1['mutations'] == m]\n",
    "            value_counts = local_df['host_switch'].value_counts()\n",
    "\n",
    "            for i in range(len(value_counts)):\n",
    "                count = value_counts[i]\n",
    "                index = value_counts.index.tolist()[i]\n",
    "\n",
    "                output_dict[t][m][index] = count\n",
    "                \n",
    "    return(output_dict)"
   ]
  },
  {
   "cell_type": "code",
   "execution_count": null,
   "metadata": {},
   "outputs": [],
   "source": []
  },
  {
   "cell_type": "code",
   "execution_count": 17,
   "metadata": {},
   "outputs": [],
   "source": [
    "def convert_to_counts_df(counts_dict):\n",
    "    \"\"\"this will generate a multi-index dataframe from the migrations dictionary\"\"\"\n",
    "\n",
    "    df = pd.DataFrame.from_dict({(i,j): counts_dict[i][j] \n",
    "                               for i in counts_dict.keys() \n",
    "                               for j in counts_dict[i].keys()},\n",
    "                           orient='index')\n",
    "\n",
    "    df.reset_index(inplace=True)\n",
    "    df.rename(columns={'level_0': 'tree_number', 'level_1': 'mutation'}, inplace=True)\n",
    "    df = df.fillna(0)\n",
    "    df['total_count'] = df['yes'] + df['no']\n",
    "\n",
    "    print(len(df))\n",
    "    return(df)"
   ]
  },
  {
   "cell_type": "code",
   "execution_count": 198,
   "metadata": {},
   "outputs": [
    {
     "name": "stdout",
     "output_type": "stream",
     "text": [
      "2451747\n"
     ]
    }
   ],
   "source": [
    "mutation_counts_dict = convert_to_counts_dict(mutations_df)\n",
    "mutation_counts_df = convert_to_counts_df(mutation_counts_dict)"
   ]
  },
  {
   "cell_type": "code",
   "execution_count": 200,
   "metadata": {},
   "outputs": [
    {
     "data": {
      "text/html": [
       "<div>\n",
       "<style scoped>\n",
       "    .dataframe tbody tr th:only-of-type {\n",
       "        vertical-align: middle;\n",
       "    }\n",
       "\n",
       "    .dataframe tbody tr th {\n",
       "        vertical-align: top;\n",
       "    }\n",
       "\n",
       "    .dataframe thead th {\n",
       "        text-align: right;\n",
       "    }\n",
       "</style>\n",
       "<table border=\"1\" class=\"dataframe\">\n",
       "  <thead>\n",
       "    <tr style=\"text-align: right;\">\n",
       "      <th></th>\n",
       "      <th>tree_number</th>\n",
       "      <th>mutation</th>\n",
       "      <th>yes</th>\n",
       "      <th>no</th>\n",
       "      <th>total_count</th>\n",
       "    </tr>\n",
       "  </thead>\n",
       "  <tbody>\n",
       "    <tr>\n",
       "      <th>0</th>\n",
       "      <td>1</td>\n",
       "      <td>A1038C</td>\n",
       "      <td>1.0</td>\n",
       "      <td>0.0</td>\n",
       "      <td>1.0</td>\n",
       "    </tr>\n",
       "    <tr>\n",
       "      <th>1</th>\n",
       "      <td>1</td>\n",
       "      <td>A1038G</td>\n",
       "      <td>0.0</td>\n",
       "      <td>1.0</td>\n",
       "      <td>1.0</td>\n",
       "    </tr>\n",
       "    <tr>\n",
       "      <th>2</th>\n",
       "      <td>1</td>\n",
       "      <td>A1041G</td>\n",
       "      <td>1.0</td>\n",
       "      <td>1.0</td>\n",
       "      <td>2.0</td>\n",
       "    </tr>\n",
       "    <tr>\n",
       "      <th>3</th>\n",
       "      <td>1</td>\n",
       "      <td>A1044T</td>\n",
       "      <td>1.0</td>\n",
       "      <td>0.0</td>\n",
       "      <td>1.0</td>\n",
       "    </tr>\n",
       "    <tr>\n",
       "      <th>4</th>\n",
       "      <td>1</td>\n",
       "      <td>A1050G</td>\n",
       "      <td>1.0</td>\n",
       "      <td>1.0</td>\n",
       "      <td>2.0</td>\n",
       "    </tr>\n",
       "  </tbody>\n",
       "</table>\n",
       "</div>"
      ],
      "text/plain": [
       "   tree_number mutation  yes   no  total_count\n",
       "0            1   A1038C  1.0  0.0          1.0\n",
       "1            1   A1038G  0.0  1.0          1.0\n",
       "2            1   A1041G  1.0  1.0          2.0\n",
       "3            1   A1044T  1.0  0.0          1.0\n",
       "4            1   A1050G  1.0  1.0          2.0"
      ]
     },
     "execution_count": 200,
     "metadata": {},
     "output_type": "execute_result"
    }
   ],
   "source": [
    "mutation_counts_df.head()"
   ]
  },
  {
   "cell_type": "code",
   "execution_count": 233,
   "metadata": {},
   "outputs": [],
   "source": [
    "# write out to tsv\n",
    "# mutation_counts_df.to_csv(\"/Users/lmoncla/src/h5n1-host-classification/beast/mutations-counts-on-branches-\"+current_date+\".tsv\", sep=\"\\t\")"
   ]
  },
  {
   "cell_type": "code",
   "execution_count": null,
   "metadata": {},
   "outputs": [],
   "source": []
  },
  {
   "cell_type": "code",
   "execution_count": 20,
   "metadata": {},
   "outputs": [
    {
     "name": "stderr",
     "output_type": "stream",
     "text": [
      "/Users/lmoncla/anaconda/envs/LHM-basics/lib/python3.7/site-packages/ipykernel_launcher.py:1: FutureWarning: from_csv is deprecated. Please use read_csv(...) instead. Note that some of the default arguments are different, so please refer to the documentation for from_csv when changing your function calls\n",
      "  \"\"\"Entry point for launching an IPython kernel.\n"
     ]
    }
   ],
   "source": [
    "mutation_counts_df = pd.DataFrame.from_csv(\"/Users/lmoncla/src/h5n1-host-classification/beast/mutations-counts-on-branches-2021-05-21.tsv\", sep=\"\\t\")"
   ]
  },
  {
   "cell_type": "code",
   "execution_count": 21,
   "metadata": {},
   "outputs": [
    {
     "data": {
      "text/html": [
       "<div>\n",
       "<style scoped>\n",
       "    .dataframe tbody tr th:only-of-type {\n",
       "        vertical-align: middle;\n",
       "    }\n",
       "\n",
       "    .dataframe tbody tr th {\n",
       "        vertical-align: top;\n",
       "    }\n",
       "\n",
       "    .dataframe thead th {\n",
       "        text-align: right;\n",
       "    }\n",
       "</style>\n",
       "<table border=\"1\" class=\"dataframe\">\n",
       "  <thead>\n",
       "    <tr style=\"text-align: right;\">\n",
       "      <th></th>\n",
       "      <th>tree_number</th>\n",
       "      <th>mutation</th>\n",
       "      <th>yes</th>\n",
       "      <th>no</th>\n",
       "      <th>total_count</th>\n",
       "      <th>ratio</th>\n",
       "    </tr>\n",
       "  </thead>\n",
       "  <tbody>\n",
       "    <tr>\n",
       "      <th>0</th>\n",
       "      <td>1</td>\n",
       "      <td>A1038C</td>\n",
       "      <td>1.0</td>\n",
       "      <td>0.0</td>\n",
       "      <td>1.0</td>\n",
       "      <td>1.0</td>\n",
       "    </tr>\n",
       "    <tr>\n",
       "      <th>1</th>\n",
       "      <td>1</td>\n",
       "      <td>A1038G</td>\n",
       "      <td>0.0</td>\n",
       "      <td>1.0</td>\n",
       "      <td>1.0</td>\n",
       "      <td>0.0</td>\n",
       "    </tr>\n",
       "    <tr>\n",
       "      <th>2</th>\n",
       "      <td>1</td>\n",
       "      <td>A1041G</td>\n",
       "      <td>1.0</td>\n",
       "      <td>1.0</td>\n",
       "      <td>2.0</td>\n",
       "      <td>0.5</td>\n",
       "    </tr>\n",
       "    <tr>\n",
       "      <th>3</th>\n",
       "      <td>1</td>\n",
       "      <td>A1044T</td>\n",
       "      <td>1.0</td>\n",
       "      <td>0.0</td>\n",
       "      <td>1.0</td>\n",
       "      <td>1.0</td>\n",
       "    </tr>\n",
       "    <tr>\n",
       "      <th>4</th>\n",
       "      <td>1</td>\n",
       "      <td>A1050G</td>\n",
       "      <td>1.0</td>\n",
       "      <td>1.0</td>\n",
       "      <td>2.0</td>\n",
       "      <td>0.5</td>\n",
       "    </tr>\n",
       "  </tbody>\n",
       "</table>\n",
       "</div>"
      ],
      "text/plain": [
       "   tree_number mutation  yes   no  total_count  ratio\n",
       "0            1   A1038C  1.0  0.0          1.0    1.0\n",
       "1            1   A1038G  0.0  1.0          1.0    0.0\n",
       "2            1   A1041G  1.0  1.0          2.0    0.5\n",
       "3            1   A1044T  1.0  0.0          1.0    1.0\n",
       "4            1   A1050G  1.0  1.0          2.0    0.5"
      ]
     },
     "execution_count": 21,
     "metadata": {},
     "output_type": "execute_result"
    }
   ],
   "source": [
    "mutation_counts_df['ratio'] = mutation_counts_df['yes']/mutation_counts_df['total_count']\n",
    "mutation_counts_df.head()"
   ]
  },
  {
   "cell_type": "code",
   "execution_count": 228,
   "metadata": {},
   "outputs": [
    {
     "name": "stdout",
     "output_type": "stream",
     "text": [
      "97\n",
      "1556\n",
      "{'C261T', 'C156T', 'A29G', 'G114A', 'A635G', 'T300C', 'G774A', 'C357T', 'T9C', 'C43T', 'A375G', 'A66G', 'G210A', 'A294G', 'G348A', 'C789T', 'A30G', 'T43C', 'C1134T', 'C606T', 'C138T', 'T72C', 'G312A', 'A64G', 'G630A', 'T663C', 'T35C', 'A207G', 'C183T', 'T436C', 'C279T', 'G320A', 'C333T', 'C37T', 'G1245A', 'A332G', 'C9A', 'G489A', 'C166T', 'A276G', 'G52A', 'T660C', 'G1041A', 'G414A', 'C195T', 'G588A', 'A225G', 'C480T', 'C592T', 'A11C', 'G533A', 'G488A', 'A246G', 'G427A', 'A488G', 'G56A', 'A456G', 'C620A', 'G589A', 'A67G', 'C966T', 'G900A', 'T330C', 'G111A', 'T99C', 'A240G', 'G325A', 'A532G', 'A201G', 'T490C', 'G594A', 'G227A', 'T32C', 'G483A', 'G309A', 'T90C', 'C475T', 'T141C', 'C326T', 'A173G', 'G27A', 'T612C', 'G616A', 'G535T', 'A1278G', 'A171G', 'T198C', 'C9T', 'T216C', 'A11G', 'G36A', 'T498C', 'G135A', 'A228G', 'C465T', 'C57T', 'C687T'}\n"
     ]
    },
    {
     "data": {
      "text/html": [
       "<div>\n",
       "<style scoped>\n",
       "    .dataframe tbody tr th:only-of-type {\n",
       "        vertical-align: middle;\n",
       "    }\n",
       "\n",
       "    .dataframe tbody tr th {\n",
       "        vertical-align: top;\n",
       "    }\n",
       "\n",
       "    .dataframe thead th {\n",
       "        text-align: right;\n",
       "    }\n",
       "</style>\n",
       "<table border=\"1\" class=\"dataframe\">\n",
       "  <thead>\n",
       "    <tr style=\"text-align: right;\">\n",
       "      <th></th>\n",
       "      <th>tree_number</th>\n",
       "      <th>mutation</th>\n",
       "      <th>yes</th>\n",
       "      <th>no</th>\n",
       "      <th>total_count</th>\n",
       "      <th>ratio</th>\n",
       "    </tr>\n",
       "  </thead>\n",
       "  <tbody>\n",
       "    <tr>\n",
       "      <th>3695</th>\n",
       "      <td>5</td>\n",
       "      <td>T99C</td>\n",
       "      <td>5.0</td>\n",
       "      <td>0.0</td>\n",
       "      <td>5.0</td>\n",
       "      <td>1.000000</td>\n",
       "    </tr>\n",
       "    <tr>\n",
       "      <th>4175</th>\n",
       "      <td>6</td>\n",
       "      <td>G36A</td>\n",
       "      <td>5.0</td>\n",
       "      <td>1.0</td>\n",
       "      <td>6.0</td>\n",
       "      <td>0.833333</td>\n",
       "    </tr>\n",
       "    <tr>\n",
       "      <th>5838</th>\n",
       "      <td>8</td>\n",
       "      <td>T35C</td>\n",
       "      <td>6.0</td>\n",
       "      <td>0.0</td>\n",
       "      <td>6.0</td>\n",
       "      <td>1.000000</td>\n",
       "    </tr>\n",
       "    <tr>\n",
       "      <th>6322</th>\n",
       "      <td>9</td>\n",
       "      <td>C687T</td>\n",
       "      <td>5.0</td>\n",
       "      <td>0.0</td>\n",
       "      <td>5.0</td>\n",
       "      <td>1.000000</td>\n",
       "    </tr>\n",
       "    <tr>\n",
       "      <th>8421</th>\n",
       "      <td>12</td>\n",
       "      <td>A67G</td>\n",
       "      <td>5.0</td>\n",
       "      <td>1.0</td>\n",
       "      <td>6.0</td>\n",
       "      <td>0.833333</td>\n",
       "    </tr>\n",
       "  </tbody>\n",
       "</table>\n",
       "</div>"
      ],
      "text/plain": [
       "      tree_number mutation  yes   no  total_count     ratio\n",
       "3695            5     T99C  5.0  0.0          5.0  1.000000\n",
       "4175            6     G36A  5.0  1.0          6.0  0.833333\n",
       "5838            8     T35C  6.0  0.0          6.0  1.000000\n",
       "6322            9    C687T  5.0  0.0          5.0  1.000000\n",
       "8421           12     A67G  5.0  1.0          6.0  0.833333"
      ]
     },
     "execution_count": 228,
     "metadata": {},
     "output_type": "execute_result"
    }
   ],
   "source": [
    "df = mutation_counts_df[(mutation_counts_df['total_count'] >= 5) & (mutation_counts_df['ratio'] > 0.8)]\n",
    "print(len(set(df['mutation'].tolist())))\n",
    "print(len(df))\n",
    "print(set(df['mutation'].tolist()))\n",
    "df.head()"
   ]
  },
  {
   "cell_type": "code",
   "execution_count": null,
   "metadata": {},
   "outputs": [],
   "source": [
    "#### did not run past here yet"
   ]
  },
  {
   "cell_type": "code",
   "execution_count": 230,
   "metadata": {},
   "outputs": [
    {
     "data": {
      "text/html": [
       "<div>\n",
       "<style scoped>\n",
       "    .dataframe tbody tr th:only-of-type {\n",
       "        vertical-align: middle;\n",
       "    }\n",
       "\n",
       "    .dataframe tbody tr th {\n",
       "        vertical-align: top;\n",
       "    }\n",
       "\n",
       "    .dataframe thead th {\n",
       "        text-align: right;\n",
       "    }\n",
       "</style>\n",
       "<table border=\"1\" class=\"dataframe\">\n",
       "  <thead>\n",
       "    <tr style=\"text-align: right;\">\n",
       "      <th></th>\n",
       "      <th>mutation</th>\n",
       "      <th>tree_number</th>\n",
       "      <th>total_count</th>\n",
       "      <th>ratio</th>\n",
       "      <th>host_switch</th>\n",
       "      <th>counts</th>\n",
       "    </tr>\n",
       "  </thead>\n",
       "  <tbody>\n",
       "    <tr>\n",
       "      <th>0</th>\n",
       "      <td>T99C</td>\n",
       "      <td>5</td>\n",
       "      <td>5.0</td>\n",
       "      <td>1.000000</td>\n",
       "      <td>yes</td>\n",
       "      <td>5.0</td>\n",
       "    </tr>\n",
       "    <tr>\n",
       "      <th>1</th>\n",
       "      <td>G36A</td>\n",
       "      <td>6</td>\n",
       "      <td>6.0</td>\n",
       "      <td>0.833333</td>\n",
       "      <td>yes</td>\n",
       "      <td>5.0</td>\n",
       "    </tr>\n",
       "    <tr>\n",
       "      <th>2</th>\n",
       "      <td>T35C</td>\n",
       "      <td>8</td>\n",
       "      <td>6.0</td>\n",
       "      <td>1.000000</td>\n",
       "      <td>yes</td>\n",
       "      <td>6.0</td>\n",
       "    </tr>\n",
       "    <tr>\n",
       "      <th>3</th>\n",
       "      <td>C687T</td>\n",
       "      <td>9</td>\n",
       "      <td>5.0</td>\n",
       "      <td>1.000000</td>\n",
       "      <td>yes</td>\n",
       "      <td>5.0</td>\n",
       "    </tr>\n",
       "    <tr>\n",
       "      <th>4</th>\n",
       "      <td>A67G</td>\n",
       "      <td>12</td>\n",
       "      <td>6.0</td>\n",
       "      <td>0.833333</td>\n",
       "      <td>yes</td>\n",
       "      <td>5.0</td>\n",
       "    </tr>\n",
       "  </tbody>\n",
       "</table>\n",
       "</div>"
      ],
      "text/plain": [
       "  mutation  tree_number  total_count     ratio host_switch  counts\n",
       "0     T99C            5          5.0  1.000000         yes     5.0\n",
       "1     G36A            6          6.0  0.833333         yes     5.0\n",
       "2     T35C            8          6.0  1.000000         yes     6.0\n",
       "3    C687T            9          5.0  1.000000         yes     5.0\n",
       "4     A67G           12          6.0  0.833333         yes     5.0"
      ]
     },
     "execution_count": 230,
     "metadata": {},
     "output_type": "execute_result"
    }
   ],
   "source": [
    "df_melted = df.melt(id_vars = ['mutation','tree_number','total_count','ratio'])\n",
    "df_melted.columns = ['mutation','tree_number','total_count','ratio','host_switch','counts']\n",
    "df_melted.head()"
   ]
  },
  {
   "cell_type": "code",
   "execution_count": null,
   "metadata": {},
   "outputs": [],
   "source": []
  },
  {
   "cell_type": "code",
   "execution_count": 231,
   "metadata": {},
   "outputs": [
    {
     "name": "stderr",
     "output_type": "stream",
     "text": [
      "/Users/lmoncla/anaconda/envs/LHM-basics/lib/python3.7/site-packages/rpy2/robjects/pandas2ri.py:191: FutureWarning: from_items is deprecated. Please use DataFrame.from_dict(dict(items), ...) instead. DataFrame.from_dict(OrderedDict(items)) may be used to preserve the key order.\n",
      "  res = PandasDataFrame.from_items(items)\n",
      "/Users/lmoncla/anaconda/envs/LHM-basics/lib/python3.7/site-packages/rpy2/rinterface/__init__.py:146: RRuntimeWarning: `stat_bin()` using `bins = 30`. Pick better value with `binwidth`.\n",
      "\n",
      "  warnings.warn(x, RRuntimeWarning)\n"
     ]
    },
    {
     "data": {
      "image/png": "[encoded data removed]"
     },
     "metadata": {},
     "output_type": "display_data"
    }
   ],
   "source": [
    "%%R -w 800 -h 500 -u px -i df_melted,label,current_date,human_color,wild_color,domestic_color # this sets the size of the plot...otherwise, it will go off the page\n",
    "\n",
    "require(ggplot2)\n",
    "library(ggplot2)\n",
    "library(RColorBrewer)\n",
    "\n",
    "output_filename = paste(\"muts-on-branches-\",label,\"-\",current_date,\".pdf\", sep=\"\")\n",
    "\n",
    "p <- ggplot(data=df_melted, aes(x=counts, color=host_switch, fill=host_switch)) + \n",
    "    geom_histogram(position=\"dodge\")+\n",
    "    facet_wrap(~mutation, scales=\"free\")+\n",
    "    #geom_line(stat=\"count\")+\n",
    "    #labs(x=\"\\nmonth\", y=\"proportion of migration events\\nof that type\\n\")+\n",
    "    #scale_color_manual(values=c(domestic_to_human=human_color,wild_to_domestic=wild_color,domestic_to_wild=domestic_color,wild_to_human=\"grey50\"))+\n",
    "    #scale_y_continuous(breaks=seq(0,0.2,0.05), limits=c(0,0.2))+\n",
    "    #scale_x_continuous(breaks=seq(1,12,1))+\n",
    "    theme(panel.grid.major=element_line(colour=NA,size=NA))+    \n",
    "    theme(panel.grid.minor=element_line(colour=NA,size=NA))+    \n",
    "    theme(strip.background = element_rect(colour=NA, fill=NA))+\n",
    "    theme(axis.line.x=element_line(colour=\"black\"))+\n",
    "    theme(axis.line.y=element_line(colour=\"black\"))+\n",
    "    theme(axis.title=element_text(size=24, vjust=5))+\n",
    "    theme(axis.text.y=element_text(size=22, colour=\"black\"))+\n",
    "    theme(axis.text.x=element_text(size=22, colour=\"black\", hjust=0.5))+\n",
    "    theme(legend.text=element_text(size=20))+\n",
    "    theme(legend.title=element_blank())+\n",
    "    theme(panel.margin=unit(1, \"lines\"))+\n",
    "    theme(plot.margin=unit(c(1,4,1,1),\"cm\"))+\n",
    "    theme(legend.key.size=unit(0.7, \"cm\"))+\n",
    "    theme(panel.background=element_rect(fill=NA))+\n",
    "    theme(legend.key=element_rect(fill=NA))\n",
    "    ##theme(legend.position = c(legend_x, legend_y))\n",
    "\n",
    "ggsave(output_filename, width = 20, height = 20, device = \"pdf\", path = \"figures\", dpi = 300)\n",
    "p"
   ]
  },
  {
   "cell_type": "code",
   "execution_count": null,
   "metadata": {},
   "outputs": [],
   "source": []
  },
  {
   "cell_type": "code",
   "execution_count": null,
   "metadata": {},
   "outputs": [],
   "source": []
  },
  {
   "cell_type": "code",
   "execution_count": null,
   "metadata": {},
   "outputs": [],
   "source": []
  },
  {
   "cell_type": "code",
   "execution_count": null,
   "metadata": {},
   "outputs": [],
   "source": []
  },
  {
   "cell_type": "code",
   "execution_count": 4,
   "metadata": {},
   "outputs": [
    {
     "data": {
      "text/html": [
       "<div>\n",
       "<style scoped>\n",
       "    .dataframe tbody tr th:only-of-type {\n",
       "        vertical-align: middle;\n",
       "    }\n",
       "\n",
       "    .dataframe tbody tr th {\n",
       "        vertical-align: top;\n",
       "    }\n",
       "\n",
       "    .dataframe thead th {\n",
       "        text-align: right;\n",
       "    }\n",
       "</style>\n",
       "<table border=\"1\" class=\"dataframe\">\n",
       "  <thead>\n",
       "    <tr style=\"text-align: right;\">\n",
       "      <th></th>\n",
       "      <th>Unnamed: 0</th>\n",
       "      <th>tree_number</th>\n",
       "      <th>migration_event_number</th>\n",
       "      <th>type</th>\n",
       "      <th>date</th>\n",
       "      <th>parent_host</th>\n",
       "      <th>parent_mutations</th>\n",
       "      <th>child_host</th>\n",
       "      <th>child_mutations</th>\n",
       "      <th>calendar_date</th>\n",
       "      <th>year</th>\n",
       "      <th>month</th>\n",
       "    </tr>\n",
       "  </thead>\n",
       "  <tbody>\n",
       "    <tr>\n",
       "      <th>0</th>\n",
       "      <td>0</td>\n",
       "      <td>1</td>\n",
       "      <td>1</td>\n",
       "      <td>domestic-to-wild</td>\n",
       "      <td>1998.117545</td>\n",
       "      <td>domestic</td>\n",
       "      <td>NaN</td>\n",
       "      <td>wild</td>\n",
       "      <td>T447A</td>\n",
       "      <td>1998-02-12</td>\n",
       "      <td>1998</td>\n",
       "      <td>2</td>\n",
       "    </tr>\n",
       "    <tr>\n",
       "      <th>1</th>\n",
       "      <td>1</td>\n",
       "      <td>1</td>\n",
       "      <td>2</td>\n",
       "      <td>wild-to-domestic</td>\n",
       "      <td>2004.666964</td>\n",
       "      <td>wild</td>\n",
       "      <td>G202A</td>\n",
       "      <td>domestic</td>\n",
       "      <td>C43T</td>\n",
       "      <td>2004-08-31</td>\n",
       "      <td>2004</td>\n",
       "      <td>8</td>\n",
       "    </tr>\n",
       "    <tr>\n",
       "      <th>2</th>\n",
       "      <td>2</td>\n",
       "      <td>1</td>\n",
       "      <td>3</td>\n",
       "      <td>domestic-to-wild</td>\n",
       "      <td>2006.028482</td>\n",
       "      <td>domestic</td>\n",
       "      <td>C43T</td>\n",
       "      <td>wild</td>\n",
       "      <td>G428A</td>\n",
       "      <td>2006-01-11</td>\n",
       "      <td>2006</td>\n",
       "      <td>1</td>\n",
       "    </tr>\n",
       "    <tr>\n",
       "      <th>3</th>\n",
       "      <td>3</td>\n",
       "      <td>1</td>\n",
       "      <td>4</td>\n",
       "      <td>wild-to-domestic</td>\n",
       "      <td>2013.538958</td>\n",
       "      <td>wild</td>\n",
       "      <td>NaN</td>\n",
       "      <td>domestic</td>\n",
       "      <td>G730A</td>\n",
       "      <td>2013-07-16</td>\n",
       "      <td>2013</td>\n",
       "      <td>7</td>\n",
       "    </tr>\n",
       "    <tr>\n",
       "      <th>4</th>\n",
       "      <td>4</td>\n",
       "      <td>1</td>\n",
       "      <td>5</td>\n",
       "      <td>domestic-to-human</td>\n",
       "      <td>2013.845776</td>\n",
       "      <td>domestic</td>\n",
       "      <td>G730A</td>\n",
       "      <td>human</td>\n",
       "      <td>C1230T</td>\n",
       "      <td>2013-11-05</td>\n",
       "      <td>2013</td>\n",
       "      <td>11</td>\n",
       "    </tr>\n",
       "  </tbody>\n",
       "</table>\n",
       "</div>"
      ],
      "text/plain": [
       "   Unnamed: 0  tree_number  migration_event_number               type  \\\n",
       "0           0            1                       1   domestic-to-wild   \n",
       "1           1            1                       2   wild-to-domestic   \n",
       "2           2            1                       3   domestic-to-wild   \n",
       "3           3            1                       4   wild-to-domestic   \n",
       "4           4            1                       5  domestic-to-human   \n",
       "\n",
       "          date parent_host parent_mutations child_host child_mutations  \\\n",
       "0  1998.117545    domestic              NaN       wild           T447A   \n",
       "1  2004.666964        wild            G202A   domestic            C43T   \n",
       "2  2006.028482    domestic             C43T       wild           G428A   \n",
       "3  2013.538958        wild              NaN   domestic           G730A   \n",
       "4  2013.845776    domestic            G730A      human          C1230T   \n",
       "\n",
       "  calendar_date  year  month  \n",
       "0    1998-02-12  1998      2  \n",
       "1    2004-08-31  2004      8  \n",
       "2    2006-01-11  2006      1  \n",
       "3    2013-07-16  2013      7  \n",
       "4    2013-11-05  2013     11  "
      ]
     },
     "execution_count": 4,
     "metadata": {},
     "output_type": "execute_result"
    }
   ],
   "source": [
    "# first, read in the master dataframe \n",
    "migrations_df = pd.read_csv(\"/Users/lmoncla/src/h5n1-host-classification/beast/migrations-2021-05-18.tsv\", sep=\"\\t\")\n",
    "migrations_df.head()"
   ]
  },
  {
   "cell_type": "code",
   "execution_count": null,
   "metadata": {},
   "outputs": [],
   "source": []
  },
  {
   "cell_type": "code",
   "execution_count": null,
   "metadata": {},
   "outputs": [],
   "source": [
    "for t in set(migrations_df['type'].tolist()):\n",
    "    local_df = migrations_df[migrations_df['type'] == t]\n",
    "    total_transitions = len(local_df)\n",
    "    \n",
    "    n_parent_muts = len(list(filter(lambda a: a != \"\", local_df['parent_mutations'].tolist())))\n",
    "    n_child_muts = len(list(filter(lambda a: a != \"\", local_df['child_mutations'].tolist())))\n",
    "    \n",
    "    print(t, n_parent_muts, n_child_muts, total_transitions)\n",
    "    print(n_parent_muts/total_transitions, n_child_muts/total_transitions)"
   ]
  },
  {
   "cell_type": "code",
   "execution_count": null,
   "metadata": {},
   "outputs": [],
   "source": [
    "# pull out every unique mutation that occurs\n",
    "import math\n",
    "\n",
    "all_muts = migrations_df['parent_mutations'].tolist()\n",
    "all_muts.extend(migrations_df['child_mutations'].tolist())\n",
    "all_muts = list(set(all_muts))\n",
    "\n",
    "# remove nans\n",
    "all_muts = [x for x in all_muts if str(x) != 'nan']\n",
    "print(len(all_muts))"
   ]
  },
  {
   "cell_type": "code",
   "execution_count": null,
   "metadata": {},
   "outputs": [],
   "source": [
    "output_dict = {}\n",
    "for mut in all_muts[0:10]:\n",
    "    output_dict[mut] = {}\n",
    "    \n",
    "    local_df = migrations_df[(migrations_df['parent_mutations'] ==  mut)|(migrations_df['child_mutations'] ==  mut)]\n",
    "    \n",
    "    # use valuecounts to get the count of types for each mutation\n",
    "    value_counts = local_df['type'].value_counts()\n",
    "    x = local_df['tree_number'].value_counts\n",
    "    for i in range(len(value_counts)):\n",
    "        count = value_counts[i]\n",
    "        index = value_counts.index.tolist()[i]\n",
    "        output_dict[mut][index] = count\n",
    "\n",
    "local_df['tree_number'].value_counts()"
   ]
  },
  {
   "cell_type": "code",
   "execution_count": null,
   "metadata": {},
   "outputs": [],
   "source": [
    "mut_counts_df = pd.DataFrame.from_dict(output_dict, orient=\"index\")\n",
    "mut_counts_df = mut_counts_df.fillna(0)\n",
    "mut_counts_df.head()"
   ]
  },
  {
   "cell_type": "code",
   "execution_count": null,
   "metadata": {},
   "outputs": [],
   "source": [
    "mut_counts_df['total_counts'] = mut_counts_df['domestic-to-wild'] + mut_counts_df['wild-to-domestic'] + mut_counts_df['domestic-to-human'] + mut_counts_df['wild-to-human']\n",
    "mut_counts_df['prop_domestic_to_wild'] = mut_counts_df['domestic-to-wild']/mut_counts_df['total_counts']\n",
    "mut_counts_df['prop_wild_to_domestic'] = mut_counts_df['wild-to-domestic']/mut_counts_df['total_counts']\n",
    "mut_counts_df['prop_domestic_to_human'] = mut_counts_df['domestic-to-human']/mut_counts_df['total_counts']\n",
    "mut_counts_df['prop_wild_to_human'] = mut_counts_df['wild-to-human']/mut_counts_df['total_counts']\n",
    "\n",
    "mut_counts_df[(mut_counts_df['prop_domestic_to_human'] > 0.5) & (mut_counts_df['total_counts'] > 100)]"
   ]
  },
  {
   "cell_type": "code",
   "execution_count": null,
   "metadata": {},
   "outputs": [],
   "source": []
  }
 ],
 "metadata": {
  "kernelspec": {
   "display_name": "LHM-basics (python3)",
   "language": "python",
   "name": "lhm-basics"
  },
  "language_info": {
   "codemirror_mode": {
    "name": "ipython",
    "version": 3
   },
   "file_extension": ".py",
   "mimetype": "text/x-python",
   "name": "python",
   "nbconvert_exporter": "python",
   "pygments_lexer": "ipython3",
   "version": "3.7.3"
  }
 },
 "nbformat": 4,
 "nbformat_minor": 2
}
