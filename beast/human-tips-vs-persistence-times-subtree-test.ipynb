{
 "cells": [
  {
   "cell_type": "markdown",
   "metadata": {},
   "source": [
    "# human cases vs. circulation times\n",
    "\n",
    "This is a copy of the the original, but meant for running on test files and messing things up. What I learned from running these test files: \n",
    "\n",
    "1. I should not be using `tree.setAbsoluteTime(date_most_recent_tip)`. This is messing things up when I enumerate subtypee trees, and just calculating `absoluteTime` for tips and nodes works totally fine across subtrees, subtypee trees, and full trees. \n",
    "2. I was messing up the calculation of circulation times because of the absolute time thing, but I was also not adding the root of each subtree into the `dates` list. So I added in a line in the main script to pull the root time and add it to the date list. \n",
    "\n",
    "With those 2 fixes, this is now performing as expected on the test trees. "
   ]
  },
  {
   "cell_type": "code",
   "execution_count": 1,
   "metadata": {},
   "outputs": [],
   "source": [
    "import glob\n",
    "import re,copy, imp\n",
    "import pandas as pd \n",
    "import numpy as np\n",
    "\n",
    "# for this to work, you will need to download the most recent version of baltic, available here \n",
    "bt = imp.load_source('baltic', '/Users/lmoncla/src/baltic/baltic/baltic.py')\n",
    "\n",
    "%matplotlib inline\n",
    "import matplotlib as mpl\n",
    "from matplotlib import pyplot as plt\n",
    "import matplotlib.patheffects as path_effects\n",
    "import matplotlib.lines as mlines\n",
    "from matplotlib.font_manager import FontProperties\n",
    "import matplotlib.colors as clr\n",
    "import textwrap as textwrap\n",
    "from textwrap import wrap\n",
    "\n",
    "import time\n",
    "from io import StringIO\n",
    "\n",
    "import rpy2\n",
    "%load_ext rpy2.ipython"
   ]
  },
  {
   "cell_type": "code",
   "execution_count": 2,
   "metadata": {},
   "outputs": [],
   "source": [
    "from datetime import date\n",
    "current_date = str(date.today())"
   ]
  },
  {
   "cell_type": "code",
   "execution_count": 3,
   "metadata": {},
   "outputs": [],
   "source": [
    "# define colors \n",
    "domestic_color=\"#4E83AE\"\n",
    "wild_color=\"#CEB540\"\n",
    "human_color=\"#DE4428\""
   ]
  },
  {
   "cell_type": "code",
   "execution_count": 4,
   "metadata": {},
   "outputs": [],
   "source": [
    "def get_taxa_lines(tree_path):    \n",
    "    # write out a temp tree file\n",
    "#     temp_tree = tree_path.replace(\".trees\",\".temp.tree\")\n",
    "#     with open(temp_tree, \"w\") as outfile: \n",
    "#         outfile.write(\"\")\n",
    "\n",
    "    lines_to_write = \"\"\n",
    "    with open(tree_path, 'rU') as infile:\n",
    "        for line in infile: ## iterate through each line\n",
    "            if 'state' not in line.lower(): #going to grab all the interesting stuff in the .trees file prior to the newick tree strings\n",
    "                lines_to_write = lines_to_write + line\n",
    "\n",
    "    return(lines_to_write)"
   ]
  },
  {
   "cell_type": "code",
   "execution_count": 5,
   "metadata": {},
   "outputs": [],
   "source": [
    "def get_burnin_value(tree_path, burnin_percent):\n",
    "    with open(tree_path, 'rU') as infile:\n",
    "        numtrees = 0\n",
    "        for line in infile: ## iterate through each line\n",
    "            if 'state' in line.lower(): #going to grab all the interesting stuff in the .trees file prior to the newick tree strings\n",
    "                numtrees += 1\n",
    "    \n",
    "    burnin = numtrees * burnin_percent\n",
    "    return(burnin)"
   ]
  },
  {
   "cell_type": "code",
   "execution_count": 6,
   "metadata": {},
   "outputs": [],
   "source": [
    "\"\"\"enumerate host transitions on the tree\"\"\"\n",
    "\n",
    "def retrieve_subtrees(tree, trait, target_host, stop_state):\n",
    "    \n",
    "    traitName=trait\n",
    "\n",
    "    tree.root.traits[traitName]='ancestor' ## give root node some trait value that's different from what the actual tree root has, so it registers as a switch\n",
    "\n",
    "    tree_strings={target_host:[]}\n",
    "    subtype_trees={target_host:[]}\n",
    "\n",
    "    for k in sorted(tree.Objects,key=lambda x:x.height):\n",
    "        kp=k.parent     # kp is the parent node of k\n",
    "\n",
    "        ## get current node's (k) and its parent's (kp) trait states\n",
    "        kloc=k.traits[traitName].lower().replace(\" \",\"_\")   # kloc = trait of k; kc = trait of k; they are the same thing\n",
    "        if traitName in k.parent.traits:  # if parent has a trait block, use that trait, else assign to ancestor\n",
    "            kploc=kp.traits[traitName].lower().replace(\" \",\"_\")     # kploc = trait of parental node\n",
    "        else:\n",
    "            kploc='ancestor'\n",
    "\n",
    "        ## if states do not match and the child is the target host\n",
    "        if kloc!=kploc and kloc == target_host:      # if node and parental node do not have the same trait\n",
    "            #N_children=len(k.leaves)\n",
    "            traverse_condition=lambda w:w.traits[traitName].lower().replace(\" \",\"_\") in stop_state     # traverse tree for all nodes whose traitname = kc\n",
    "            #print('subtree resulting from '+kploc+' > '+kloc+' switch, traversing within '+ kloc)\n",
    "\n",
    "            subtree=tree.subtree(k,traverse_condition=traverse_condition) ## this function returns a new baltic object that contains a trait-traversed subtree, starting from node k, for as long as the traversal stays within the starting trait value state\n",
    "            \n",
    "            if subtree != None:\n",
    "                subtree.traverse_tree()\n",
    "                subtree.sortBranches()\n",
    "                if kloc in subtype_trees:\n",
    "                    subtype_trees[kloc].append((kploc,subtree))\n",
    "                else:\n",
    "                    pass\n",
    "                    \n",
    "    return(subtype_trees)"
   ]
  },
  {
   "cell_type": "code",
   "execution_count": null,
   "metadata": {},
   "outputs": [],
   "source": []
  },
  {
   "cell_type": "code",
   "execution_count": 52,
   "metadata": {},
   "outputs": [],
   "source": [
    "def output_cluster_times(subtype_trees, traitName):\n",
    "    cluster_times = {}\n",
    "    \n",
    "    for deme in subtype_trees: \n",
    "        cluster_times = {}\n",
    "        subtree_number = 0\n",
    "        \n",
    "        for subtree in subtype_trees[deme]:  \n",
    "            subtree_number += 1\n",
    "            print(\"subtree\", subtree_number)\n",
    "            dates = []\n",
    "            hosts = []\n",
    "            trans_from = subtree[0]\n",
    "            tree = subtree[1]\n",
    "            print(tree.root.absoluteTime)\n",
    "            dates.append(tree.root.absoluteTime)\n",
    "            \n",
    "            for k in tree.Objects: \n",
    "                if k.branchType == \"leaf\":\n",
    "                    # pull the date\n",
    "                    date = float(k.numName.split(\"|\")[1])\n",
    "                    print(k.numName, date)\n",
    "                    host = k.traits[traitName]\n",
    "                    hosts.append(host)\n",
    "                    \n",
    "                elif k.branchType == \"node\":\n",
    "                    date = k.absoluteTime\n",
    "                    print(\"node\",date)\n",
    "                dates.append(date)\n",
    "                \n",
    "            minimum_date = min(dates)\n",
    "            maximum_date = max(dates)\n",
    "            date_range = maximum_date - minimum_date\n",
    "            \n",
    "            print(minimum_date, maximum_date, date_range)\n",
    "            \n",
    "            n_human_tips = hosts.count(\"human\")\n",
    "            \n",
    "            cluster_times[subtree_number] = {date_range: n_human_tips}\n",
    "\n",
    "    return(cluster_times)"
   ]
  },
  {
   "cell_type": "markdown",
   "metadata": {},
   "source": [
    "## Run on trees file"
   ]
  },
  {
   "cell_type": "code",
   "execution_count": 66,
   "metadata": {},
   "outputs": [
    {
     "name": "stderr",
     "output_type": "stream",
     "text": [
      "/Users/lmoncla/anaconda/envs/LHM-basics/lib/python3.7/site-packages/ipykernel_launcher.py:8: DeprecationWarning: 'U' mode is deprecated\n",
      "  \n"
     ]
    }
   ],
   "source": [
    "# to test on a test subtree\n",
    "burnin = 0\n",
    "test_trees = \"beast-runs/2021-07-26-mascot-3deme-skyline-with-mig-fixed-log/with-extra-logger/test-subtree-2.trees\"\n",
    "taxa_lines = get_taxa_lines(test_trees)\n",
    "trait = 'typeTrait'  # for the trees file, this should be typeTrait, for the mcc tree it is \"max\"\n",
    "target_host = \"domestic\"\n",
    "stop_state = [\"domestic\",\"human\"]  # the stop state is the list of hosts for which we will continue traversing to produce a subtree; here, we want to traverse within poultry while also including human tips "
   ]
  },
  {
   "cell_type": "code",
   "execution_count": 67,
   "metadata": {},
   "outputs": [
    {
     "name": "stdout",
     "output_type": "stream",
     "text": [
      "subtree 1\n",
      "2006.4634706438358\n",
      "A/Chicken/Turkey-Batman/09rs2842-92/2007|2007.085|2007-02-XX|Avian|West_Asia|Turkey||EPI293952|chicken|domestic 2007.085\n",
      "2006.4634706438358 2007.085 0.6215293561642738\n",
      "subtree 2\n",
      "2007.4632536438357\n",
      "node 2007.8000456438358\n",
      "A/chicken/WestBengal/239022/2010|2010.03|2010-01-12|Avian|South_Asia|India|CY061302|EPI287692|chicken|domestic 2010.03\n",
      "node 2008.0162026438359\n",
      "A/chicken/India/88761/2008|2008.56|2008-07-24|Avian|South_Asia|India|MK392388|EPI1508899|chicken|domestic 2008.56\n",
      "A/chicken/India/96880/2008|2008.178|2008-03-06|Avian|South_Asia|India|CY111121|EPI438894|chicken|domestic 2008.178\n",
      "2007.4632536438357 2010.03 2.5667463561642307\n",
      "subtree 3\n",
      "2007.4632536438357\n",
      "A/chicken/India/81890/2008|2008.055|2008-01-21|Avian|South_Asia|India|CY111073|EPI438846|chicken|domestic 2008.055\n",
      "2007.4632536438357 2008.055 0.5917463561643217\n",
      "subtree 4\n",
      "2007.8944786438358\n",
      "A/chicken/WestBengal/106181/2008|2008.347|2008-05-07|Avian|South_Asia|India|GU083626|EPI287578|chicken|domestic 2008.347\n",
      "2007.8944786438358 2008.347 0.45252135616419764\n",
      "subtree 5\n",
      "2007.9206586438358\n",
      "node 2008.4072486438358\n",
      "A/chicken/WestBengal/155508/2009|2009.077|2009-01-29|Avian|South_Asia|India|CY080363|EPI352489|chicken|domestic 2009.077\n",
      "node 2008.4498546438358\n",
      "node 2009.3189596438358\n",
      "A/chicken/Bhutan/248006/2010|2010.129|2010-02-17|Avian|South_Asia|Bhutan|CY066004|EPI336725|chicken|domestic 2010.129\n",
      "A/chicken/Bangladesh/0411/2010|2010.03|2010-01-12|Avian|South_Asia|Bangladesh||EPI448087|chicken|domestic 2010.03\n",
      "node 2009.4439906438358\n",
      "A/chicken/Bangladesh/1151-10/2010|2010.0|2010-XX-XX|Avian|South_Asia|Bangladesh|HQ156765|EPI283273|chicken|domestic 2010.0\n",
      "node 2010.3430356438357\n",
      "A/chicken/Bangladesh/9636/2010|2010.521|2010-07-10|Avian|South_Asia|Bangladesh|KF888416|EPI510273|chicken|domestic 2010.521\n",
      "node 2010.5732086438359\n",
      "A/Bangladesh/3233/2011|2011.184|2011-03-09|Human|South_Asia|Bangladesh|CY088769|EPI314775|human|human 2011.184\n",
      "A/chicken/Bangladesh/31289-1/2011|2011.137|2011-02-20|Avian|South_Asia|Bangladesh||EPI448127|chicken|domestic 2011.137\n",
      "2007.9206586438358 2011.184 3.263341356164119\n",
      "subtree 6\n",
      "2007.8944786438358\n",
      "node 2008.6613456438358\n",
      "A/chicken/WestBengal/174881/2009|2009.227|2009-03-25|Avian|South_Asia|India|CY080371|EPI352497|chicken|domestic 2009.227\n",
      "node 2008.8646476438357\n",
      "A/chicken/WestBengal/193936/2009|2009.329|2009-05-XX|Avian|South_Asia|India|GU272006|EPI287615|chicken|domestic 2009.329\n",
      "A/chicken/WestBengal/162642/2009|2009.123|2009-02-15|Avian|South_Asia|India|GU083653|EPI287575|chicken|domestic 2009.123\n",
      "2007.8944786438358 2009.329 1.4345213561641685\n",
      "subtree 7\n",
      "2007.9371536438357\n",
      "A/chicken/Assam/140203/2008|2008.885|2008-11-20|Avian|South_Asia|India|FJ839922|EPI175658|chicken|domestic 2008.885\n",
      "2007.9371536438357 2008.885 0.9478463561642911\n",
      "subtree 8\n",
      "2008.4770826438357\n",
      "A/chicken/India/816720/2008|2008.951|2008-12-14|Avian|South_Asia|India|MK392500|EPI1508923|chicken|domestic 2008.951\n",
      "2008.4770826438357 2008.951 0.47391735616429287\n",
      "{1: {0.6215293561642738: 0}, 2: {2.5667463561642307: 0}, 3: {0.5917463561643217: 0}, 4: {0.45252135616419764: 0}, 5: {3.263341356164119: 1}, 6: {1.4345213561641685: 0}, 7: {0.9478463561642911: 0}, 8: {0.47391735616429287: 0}}\n"
     ]
    }
   ],
   "source": [
    "with open(test_trees, \"r\") as infile:\n",
    "\n",
    "\n",
    "    tree = bt.loadNexus(test_trees)\n",
    "    #tree.setAbsoluteTime(date_most_recent_tip)\n",
    "    \n",
    "    # enumerate subtrees \n",
    "    subtype_trees = retrieve_subtrees(tree, trait, target_host, stop_state)\n",
    "    #print(subtype_trees)\n",
    "    \n",
    "#     for i in subtype_trees['domestic']: \n",
    "#         print(\"subtree\")\n",
    "#         subtree = i[1]\n",
    "#         tips = []\n",
    "#         for k in subtree.Objects: \n",
    "#             if k.branchType == \"leaf\":\n",
    "#                 tips.append(k.numName)\n",
    "#         print(tips)\n",
    "        \n",
    "        \n",
    "#     #print(subtype_trees)\n",
    "    cluster_times = output_cluster_times(subtype_trees, trait)\n",
    "    \n",
    "    ## the format here is subtree #: {circulation time, number human tips}\n",
    "    print(cluster_times)\n"
   ]
  },
  {
   "cell_type": "code",
   "execution_count": null,
   "metadata": {},
   "outputs": [],
   "source": []
  },
  {
   "cell_type": "code",
   "execution_count": 68,
   "metadata": {},
   "outputs": [
    {
     "name": "stdout",
     "output_type": "stream",
     "text": [
      "2007.0845616438357\n"
     ]
    }
   ],
   "source": [
    "# test whether tips have the same absoluteTime across trees or not: \n",
    "test_subtree = \"beast-runs/2021-07-26-mascot-3deme-skyline-with-mig-fixed-log/with-extra-logger/test-subtree-2.trees\"\n",
    "\n",
    "\n",
    "tree = bt.loadNexus(test_subtree)\n",
    "\n",
    "for k in tree.Objects: \n",
    "    if k.branchType == \"leaf\": \n",
    "        if k.numName == \"A/Chicken/Turkey-Batman/09rs2842-92/2007|2007.085|2007-02-XX|Avian|West_Asia|Turkey||EPI293952|chicken|domestic\":\n",
    "            print(k.absoluteTime)"
   ]
  },
  {
   "cell_type": "code",
   "execution_count": 69,
   "metadata": {},
   "outputs": [
    {
     "name": "stdout",
     "output_type": "stream",
     "text": [
      "2007.0854002602741\n"
     ]
    }
   ],
   "source": [
    "# test whether tips have the same absoluteTime across trees or not: \n",
    "test_subtree = \"beast-runs/2021-07-26-mascot-3deme-skyline-with-mig-fixed-log/with-extra-logger/test-full-tree.trees\"\n",
    "\n",
    "tree = bt.loadNexus(test_subtree)\n",
    "\n",
    "for k in tree.Objects: \n",
    "    if k.branchType == \"leaf\": \n",
    "        if k.numName == \"A/Chicken/Turkey-Batman/09rs2842-92/2007|2007.085|2007-02-XX|Avian|West_Asia|Turkey||EPI293952|chicken|domestic\":\n",
    "            print(k.absoluteTime)"
   ]
  },
  {
   "cell_type": "code",
   "execution_count": null,
   "metadata": {},
   "outputs": [],
   "source": []
  }
 ],
 "metadata": {
  "kernelspec": {
   "display_name": "LHM-basics (python3)",
   "language": "python",
   "name": "lhm-basics"
  },
  "language_info": {
   "codemirror_mode": {
    "name": "ipython",
    "version": 3
   },
   "file_extension": ".py",
   "mimetype": "text/x-python",
   "name": "python",
   "nbconvert_exporter": "python",
   "pygments_lexer": "ipython3",
   "version": "3.7.3"
  }
 },
 "nbformat": 4,
 "nbformat_minor": 2
}
