{
 "cells": [
  {
   "cell_type": "markdown",
   "metadata": {},
   "source": [
    "# Estimate persistence times\n",
    "\n",
    "How long do viruses circulate in domestic prior to infecting humans? How long do viruses persist in domestic after transmission from wild? This notebook will attempt to answer those questions."
   ]
  },
  {
   "cell_type": "code",
   "execution_count": 19,
   "metadata": {},
   "outputs": [
    {
     "name": "stdout",
     "output_type": "stream",
     "text": [
      "The rpy2.ipython extension is already loaded. To reload it, use:\n",
      "  %reload_ext rpy2.ipython\n"
     ]
    }
   ],
   "source": [
    "import glob\n",
    "import re,copy, imp\n",
    "import pandas as pd \n",
    "import numpy as np\n",
    "\n",
    "# for this to work, you will need to download the most recent version of baltic, available here \n",
    "bt = imp.load_source('baltic', '/Users/lmoncla/src/baltic/baltic/baltic.py')\n",
    "\n",
    "%matplotlib inline\n",
    "import matplotlib as mpl\n",
    "from matplotlib import pyplot as plt\n",
    "import matplotlib.patheffects as path_effects\n",
    "import matplotlib.lines as mlines\n",
    "from matplotlib.font_manager import FontProperties\n",
    "import matplotlib.colors as clr\n",
    "import textwrap as textwrap\n",
    "from textwrap import wrap\n",
    "\n",
    "import time\n",
    "from io import StringIO\n",
    "\n",
    "import rpy2\n",
    "%load_ext rpy2.ipython"
   ]
  },
  {
   "cell_type": "code",
   "execution_count": 20,
   "metadata": {},
   "outputs": [],
   "source": [
    "from datetime import date\n",
    "current_date = str(date.today())"
   ]
  },
  {
   "cell_type": "code",
   "execution_count": 21,
   "metadata": {},
   "outputs": [],
   "source": [
    "# define colors \n",
    "domestic_color=\"#4E83AE\"\n",
    "wild_color=\"#CEB540\"\n",
    "human_color=\"#DE4428\""
   ]
  },
  {
   "cell_type": "code",
   "execution_count": null,
   "metadata": {},
   "outputs": [],
   "source": []
  },
  {
   "cell_type": "code",
   "execution_count": 22,
   "metadata": {},
   "outputs": [],
   "source": [
    "def get_taxa_lines(tree_path):    \n",
    "    # write out a temp tree file\n",
    "#     temp_tree = tree_path.replace(\".trees\",\".temp.tree\")\n",
    "#     with open(temp_tree, \"w\") as outfile: \n",
    "#         outfile.write(\"\")\n",
    "\n",
    "    lines_to_write = \"\"\n",
    "    with open(tree_path, 'rU') as infile:\n",
    "        for line in infile: ## iterate through each line\n",
    "            if 'state' not in line.lower(): #going to grab all the interesting stuff in the .trees file prior to the newick tree strings\n",
    "                lines_to_write = lines_to_write + line\n",
    "\n",
    "    return(lines_to_write)"
   ]
  },
  {
   "cell_type": "code",
   "execution_count": 23,
   "metadata": {},
   "outputs": [],
   "source": [
    "def get_burnin_value(tree_path, burnin_percent):\n",
    "    with open(tree_path, 'rU') as infile:\n",
    "        numtrees = 0\n",
    "        for line in infile: ## iterate through each line\n",
    "            if 'state' in line.lower(): #going to grab all the interesting stuff in the .trees file prior to the newick tree strings\n",
    "                numtrees += 1\n",
    "    \n",
    "    burnin = numtrees * burnin_percent\n",
    "    return(burnin)"
   ]
  },
  {
   "cell_type": "code",
   "execution_count": 24,
   "metadata": {},
   "outputs": [],
   "source": [
    "def find_host_tips(tree, host):\n",
    "    \n",
    "    df_to_return = pd.DataFrame()\n",
    "    \n",
    "    for k in tree.Objects: \n",
    "        if k.branchType == \"leaf\":\n",
    "            if k.traits['typeTrait'] == host:\n",
    "                branch_length_avian = 0\n",
    "                region = k.name.split(\"|\")[4]\n",
    "                \n",
    "                parent, parent_type, branch_length_avian = compute_domestic_branch_length(k, branch_length_avian)\n",
    "                \n",
    "                local_df = pd.DataFrame.from_dict({\"tip\":[k.name], \n",
    "                                                   \"time_in_domestic\":branch_length_avian,\n",
    "                                                  \"region\":region})\n",
    "                df_to_return = df_to_return.append(local_df)\n",
    "                \n",
    "                \n",
    "    return(df_to_return)"
   ]
  },
  {
   "cell_type": "code",
   "execution_count": 25,
   "metadata": {},
   "outputs": [],
   "source": [
    "def compute_domestic_branch_length(tip, cumulative_branch_length):\n",
    "    \n",
    "    parent = tip.parent\n",
    "    parent_branch_length = parent.length\n",
    "    \n",
    "    if 'typeTrait' in parent.traits:\n",
    "        parent_type = parent.traits['typeTrait']\n",
    "    else:\n",
    "        parent_type = \"unknown\"\n",
    "    \n",
    "    if parent_type == 'domestic':\n",
    "        cumulative_branch_length += parent_branch_length\n",
    "        node, node_type, cumulative_branch_length = compute_domestic_branch_length(parent, cumulative_branch_length)\n",
    "        \n",
    "    # if parent branch type is human, don't add the branch length, but do go up a node and try again until you reach a domestic one\n",
    "    elif parent_type == 'human':\n",
    "        node, node_type, cumulative_branch_length = compute_domestic_branch_length(parent, cumulative_branch_length)\n",
    "    \n",
    "    # else, parent branch must be wild or root. Either way, return current branch length\n",
    "    else:\n",
    "        node, node_type = parent, parent_type\n",
    "    \n",
    "    return(node, node_type, cumulative_branch_length)"
   ]
  },
  {
   "cell_type": "code",
   "execution_count": 26,
   "metadata": {},
   "outputs": [],
   "source": [
    "def run_on_trees(trees_file, host):\n",
    "    \n",
    "    start_time = time.time()\n",
    "\n",
    "    with open(trees_file, \"r\") as infile:\n",
    "\n",
    "        df = pd.DataFrame()\n",
    "        tree_counter = 0\n",
    "        trees_processed = 0\n",
    "        migrations_dict = {}\n",
    "\n",
    "        for line in infile:\n",
    "            if 'tree STATE_' in line:\n",
    "                tree_counter += 1\n",
    "\n",
    "                if tree_counter > burnin:\n",
    "                    trees_processed += 1\n",
    "                    temp_tree = StringIO(taxa_lines + line)\n",
    "                    tree = bt.loadNexus(temp_tree)\n",
    "\n",
    "                    # run stuff\n",
    "                    local_df = find_host_tips(tree, host)\n",
    "                    local_df['tree_number'] = tree_counter\n",
    "                    df = df.append(local_df)\n",
    "\n",
    "    # print the amount of time this took\n",
    "    total_time_seconds = time.time() - start_time\n",
    "    total_time_minutes = total_time_seconds/60\n",
    "    print(\"this took\", total_time_seconds, \"seconds (\", total_time_minutes,\" minutes) to run on\", trees_processed, \"trees\")\n",
    "    return(df)"
   ]
  },
  {
   "cell_type": "code",
   "execution_count": null,
   "metadata": {},
   "outputs": [],
   "source": []
  },
  {
   "cell_type": "markdown",
   "metadata": {},
   "source": [
    "## Read in trees file and remove burnin"
   ]
  },
  {
   "cell_type": "code",
   "execution_count": 27,
   "metadata": {},
   "outputs": [],
   "source": [
    "# trees file paths\n",
    "constant_human_on = {\"label\": \"constant-human-on\",\"mig_direction\":\"backwards in time\",\n",
    "    \"trees\":\"beast-runs/2021-03-15-mascot-3deme-constant/with-human-mig/3deme-mascot-constant-with-human-mig-2021-03-15.combined.trees\"}\n",
    "constant_human_off = {\"label\": \"constant-human-off\",\"mig_direction\":\"backwards in time\",\n",
    "    \"trees\":\"beast-runs/2021-03-15-mascot-3deme-constant/no-human-mig/3deme-mascot-constant-no-human-mig-2021-03-15.combined.trees\"}\n",
    "skyline_human_on =  {\"label\": \"skyline-human-on\", \"mig_direction\":\"forwards in time\",\n",
    "                     \"trees\": \"beast-runs/2021-03-15-mascot-3deme-skyline-with-mig-history/with-human-mig/2021-04-27-mascot-3deme-skyline-with-human-mig.combined.trees\"}\n",
    "skyline_human_off = {\"label\": \"skyline-human-off\", \"mig_direction\":\"forwards in time\",\n",
    "                     \"trees\": \"beast-runs/2022-04-19-mascot-3deme-skyline-fixed-muts-logger/combined-2022-06-01.muts.trees\"}"
   ]
  },
  {
   "cell_type": "code",
   "execution_count": 28,
   "metadata": {},
   "outputs": [],
   "source": [
    "to_run = skyline_human_off\n",
    "\n",
    "trees_file_path = to_run['trees']\n",
    "label = to_run['label']\n",
    "\n",
    "burnin_percent = 0"
   ]
  },
  {
   "cell_type": "code",
   "execution_count": 29,
   "metadata": {},
   "outputs": [
    {
     "name": "stderr",
     "output_type": "stream",
     "text": [
      "/Users/lmoncla/anaconda/envs/LHM-basics/lib/python3.7/site-packages/ipykernel_launcher.py:8: DeprecationWarning: 'U' mode is deprecated\n",
      "  \n"
     ]
    },
    {
     "name": "stdout",
     "output_type": "stream",
     "text": [
      "0\n"
     ]
    },
    {
     "name": "stderr",
     "output_type": "stream",
     "text": [
      "/Users/lmoncla/anaconda/envs/LHM-basics/lib/python3.7/site-packages/ipykernel_launcher.py:2: DeprecationWarning: 'U' mode is deprecated\n",
      "  \n"
     ]
    }
   ],
   "source": [
    "all_trees = trees_file_path\n",
    "burnin_percent = 0\n",
    "\n",
    "taxa_lines = get_taxa_lines(all_trees)\n",
    "burnin = get_burnin_value(all_trees, burnin_percent)\n",
    "print(burnin)"
   ]
  },
  {
   "cell_type": "markdown",
   "metadata": {},
   "source": [
    "## Return time in domestic for human or domestic tips\n",
    "\n",
    "To run for human tips, set host tip state to human; for domestic, set to domestic"
   ]
  },
  {
   "cell_type": "code",
   "execution_count": 55,
   "metadata": {},
   "outputs": [
    {
     "name": "stdout",
     "output_type": "stream",
     "text": [
      "this took 375.0464301109314 seconds ( 6.25077383518219  minutes) to run on 1133 trees\n"
     ]
    }
   ],
   "source": [
    "# now, run \n",
    "trees_file = all_trees\n",
    "host_tip_state = \"human\"\n",
    "\n",
    "df = run_on_trees(all_trees, host_tip_state)"
   ]
  },
  {
   "cell_type": "code",
   "execution_count": 56,
   "metadata": {},
   "outputs": [
    {
     "data": {
      "text/html": [
       "<div>\n",
       "<style scoped>\n",
       "    .dataframe tbody tr th:only-of-type {\n",
       "        vertical-align: middle;\n",
       "    }\n",
       "\n",
       "    .dataframe tbody tr th {\n",
       "        vertical-align: top;\n",
       "    }\n",
       "\n",
       "    .dataframe thead th {\n",
       "        text-align: right;\n",
       "    }\n",
       "</style>\n",
       "<table border=\"1\" class=\"dataframe\">\n",
       "  <thead>\n",
       "    <tr style=\"text-align: right;\">\n",
       "      <th></th>\n",
       "      <th>tip</th>\n",
       "      <th>time_in_domestic</th>\n",
       "      <th>region</th>\n",
       "      <th>tree_number</th>\n",
       "    </tr>\n",
       "  </thead>\n",
       "  <tbody>\n",
       "    <tr>\n",
       "      <th>0</th>\n",
       "      <td>A/Alberta/1/2014|2014.005|2014-01-03|Human|Nor...</td>\n",
       "      <td>0.182984</td>\n",
       "      <td>North_America</td>\n",
       "      <td>1</td>\n",
       "    </tr>\n",
       "    <tr>\n",
       "      <th>0</th>\n",
       "      <td>A/Nanjing/1/2015|2015.055|2015-01-21|Human|Chi...</td>\n",
       "      <td>0.346522</td>\n",
       "      <td>China</td>\n",
       "      <td>1</td>\n",
       "    </tr>\n",
       "    <tr>\n",
       "      <th>0</th>\n",
       "      <td>A/Hubei/1/2010|2010.384|2010-05-21|Human|China...</td>\n",
       "      <td>7.777728</td>\n",
       "      <td>China</td>\n",
       "      <td>1</td>\n",
       "    </tr>\n",
       "    <tr>\n",
       "      <th>0</th>\n",
       "      <td>A/Vietnam/CM32/2011|2011.797|2011-10-19|Human|...</td>\n",
       "      <td>7.969168</td>\n",
       "      <td>Southeast_Asia</td>\n",
       "      <td>1</td>\n",
       "    </tr>\n",
       "    <tr>\n",
       "      <th>0</th>\n",
       "      <td>A/Nepal/19FL1997/2019|2019.227|2019-03-25|Huma...</td>\n",
       "      <td>0.063984</td>\n",
       "      <td>South_Asia</td>\n",
       "      <td>1</td>\n",
       "    </tr>\n",
       "  </tbody>\n",
       "</table>\n",
       "</div>"
      ],
      "text/plain": [
       "                                                 tip  time_in_domestic  \\\n",
       "0  A/Alberta/1/2014|2014.005|2014-01-03|Human|Nor...          0.182984   \n",
       "0  A/Nanjing/1/2015|2015.055|2015-01-21|Human|Chi...          0.346522   \n",
       "0  A/Hubei/1/2010|2010.384|2010-05-21|Human|China...          7.777728   \n",
       "0  A/Vietnam/CM32/2011|2011.797|2011-10-19|Human|...          7.969168   \n",
       "0  A/Nepal/19FL1997/2019|2019.227|2019-03-25|Huma...          0.063984   \n",
       "\n",
       "           region  tree_number  \n",
       "0   North_America            1  \n",
       "0           China            1  \n",
       "0           China            1  \n",
       "0  Southeast_Asia            1  \n",
       "0      South_Asia            1  "
      ]
     },
     "execution_count": 56,
     "metadata": {},
     "output_type": "execute_result"
    }
   ],
   "source": [
    "df.head()"
   ]
  },
  {
   "cell_type": "code",
   "execution_count": null,
   "metadata": {},
   "outputs": [],
   "source": []
  },
  {
   "cell_type": "code",
   "execution_count": 57,
   "metadata": {},
   "outputs": [],
   "source": [
    "# write out to tsv\n",
    "csv_path = to_run['trees'].replace(\".trees\",\".trees.\"+host_tip_state+\".persistence-times-\"+current_date+\".tsv\")\n",
    "df.to_csv(csv_path, sep=\"\\t\")"
   ]
  },
  {
   "cell_type": "code",
   "execution_count": 58,
   "metadata": {},
   "outputs": [],
   "source": [
    "# read dataframe back in\n",
    "read_in_path = to_run['trees'].replace(\".trees\",\".trees.\"+host_tip_state+\".persistence-times-2022-06-07.tsv\")\n",
    "df = pd.read_csv(read_in_path, sep=\"\\t\")"
   ]
  },
  {
   "cell_type": "code",
   "execution_count": 59,
   "metadata": {},
   "outputs": [
    {
     "name": "stdout",
     "output_type": "stream",
     "text": [
      "141625\n",
      "140022\n"
     ]
    }
   ],
   "source": [
    "# here, I am removing any values that are 0.0. These derive from human infections from which we have no sampled\n",
    "# domestic ancestors. So they are inferred as directly infected from wild birds. \n",
    "print(len(df))\n",
    "df_dom_only = df[df['time_in_domestic'] > 0]\n",
    "print(len(df_dom_only))"
   ]
  },
  {
   "cell_type": "code",
   "execution_count": 60,
   "metadata": {},
   "outputs": [
    {
     "data": {
      "text/plain": [
       "4.29745448006148"
      ]
     },
     "execution_count": 60,
     "metadata": {},
     "output_type": "execute_result"
    }
   ],
   "source": [
    "df_dom_only['time_in_domestic'].mean()"
   ]
  },
  {
   "cell_type": "code",
   "execution_count": 61,
   "metadata": {},
   "outputs": [
    {
     "data": {
      "text/plain": [
       "3.265161464264802"
      ]
     },
     "execution_count": 61,
     "metadata": {},
     "output_type": "execute_result"
    }
   ],
   "source": [
    "df_dom_only['time_in_domestic'].std()"
   ]
  },
  {
   "cell_type": "code",
   "execution_count": 62,
   "metadata": {},
   "outputs": [
    {
     "data": {
      "text/plain": [
       "3.549635948239003"
      ]
     },
     "execution_count": 62,
     "metadata": {},
     "output_type": "execute_result"
    }
   ],
   "source": [
    "df_dom_only['time_in_domestic'].median()"
   ]
  },
  {
   "cell_type": "code",
   "execution_count": 63,
   "metadata": {},
   "outputs": [
    {
     "data": {
      "text/plain": [
       "array([1.58439738e-04, 1.02462633e+01])"
      ]
     },
     "execution_count": 63,
     "metadata": {},
     "output_type": "execute_result"
    }
   ],
   "source": [
    "import pymc3\n",
    "pymc3.stats.hpd(df_dom_only['time_in_domestic'], 0.95)"
   ]
  },
  {
   "cell_type": "code",
   "execution_count": null,
   "metadata": {},
   "outputs": [],
   "source": []
  },
  {
   "cell_type": "code",
   "execution_count": 64,
   "metadata": {},
   "outputs": [],
   "source": [
    "def convert_df_to_proportions_df(input_df):\n",
    "    \n",
    "    # convert to proportions for plotting\n",
    "    proportions_df = pd.DataFrame()\n",
    "    total_events = len(input_df)\n",
    "\n",
    "    for i in range(0,25,1):\n",
    "        lower_bound = i\n",
    "        upper_bound = i+1\n",
    "        local_df = input_df[(input_df['time_in_domestic'] > lower_bound) & (input_df['time_in_domestic'] <= upper_bound)]\n",
    "        total_in_bin = len(local_df)\n",
    "        cumulative_time = local_df['time_in_domestic'].sum()\n",
    "        new_df = pd.DataFrame.from_dict({\"n_years\":[lower_bound], \"total_across_posterior\":total_in_bin, \n",
    "                                                \"proportion_of_events\":float(total_in_bin/total_events), \n",
    "                                        \"cumulative_time\":[cumulative_time], \"rate_per_year\":float(total_in_bin/cumulative_time)})\n",
    "        proportions_df = proportions_df.append(new_df)\n",
    "\n",
    "    return(proportions_df)"
   ]
  },
  {
   "cell_type": "code",
   "execution_count": 65,
   "metadata": {},
   "outputs": [
    {
     "data": {
      "text/html": [
       "<div>\n",
       "<style scoped>\n",
       "    .dataframe tbody tr th:only-of-type {\n",
       "        vertical-align: middle;\n",
       "    }\n",
       "\n",
       "    .dataframe tbody tr th {\n",
       "        vertical-align: top;\n",
       "    }\n",
       "\n",
       "    .dataframe thead th {\n",
       "        text-align: right;\n",
       "    }\n",
       "</style>\n",
       "<table border=\"1\" class=\"dataframe\">\n",
       "  <thead>\n",
       "    <tr style=\"text-align: right;\">\n",
       "      <th></th>\n",
       "      <th>n_years</th>\n",
       "      <th>total_across_posterior</th>\n",
       "      <th>proportion_of_events</th>\n",
       "      <th>cumulative_time</th>\n",
       "      <th>rate_per_year</th>\n",
       "    </tr>\n",
       "  </thead>\n",
       "  <tbody>\n",
       "    <tr>\n",
       "      <th>0</th>\n",
       "      <td>0</td>\n",
       "      <td>23840</td>\n",
       "      <td>0.170259</td>\n",
       "      <td>11137.887431</td>\n",
       "      <td>2.140442</td>\n",
       "    </tr>\n",
       "    <tr>\n",
       "      <th>0</th>\n",
       "      <td>1</td>\n",
       "      <td>17704</td>\n",
       "      <td>0.126437</td>\n",
       "      <td>27063.056238</td>\n",
       "      <td>0.654176</td>\n",
       "    </tr>\n",
       "    <tr>\n",
       "      <th>0</th>\n",
       "      <td>2</td>\n",
       "      <td>20122</td>\n",
       "      <td>0.143706</td>\n",
       "      <td>50026.267812</td>\n",
       "      <td>0.402229</td>\n",
       "    </tr>\n",
       "    <tr>\n",
       "      <th>0</th>\n",
       "      <td>3</td>\n",
       "      <td>16522</td>\n",
       "      <td>0.117996</td>\n",
       "      <td>58146.422360</td>\n",
       "      <td>0.284145</td>\n",
       "    </tr>\n",
       "    <tr>\n",
       "      <th>0</th>\n",
       "      <td>4</td>\n",
       "      <td>12251</td>\n",
       "      <td>0.087493</td>\n",
       "      <td>54377.423835</td>\n",
       "      <td>0.225296</td>\n",
       "    </tr>\n",
       "  </tbody>\n",
       "</table>\n",
       "</div>"
      ],
      "text/plain": [
       "   n_years  total_across_posterior  proportion_of_events  cumulative_time  \\\n",
       "0        0                   23840              0.170259     11137.887431   \n",
       "0        1                   17704              0.126437     27063.056238   \n",
       "0        2                   20122              0.143706     50026.267812   \n",
       "0        3                   16522              0.117996     58146.422360   \n",
       "0        4                   12251              0.087493     54377.423835   \n",
       "\n",
       "   rate_per_year  \n",
       "0       2.140442  \n",
       "0       0.654176  \n",
       "0       0.402229  \n",
       "0       0.284145  \n",
       "0       0.225296  "
      ]
     },
     "execution_count": 65,
     "metadata": {},
     "output_type": "execute_result"
    }
   ],
   "source": [
    "proportions_df = convert_df_to_proportions_df(df_dom_only)\n",
    "proportions_df.head()"
   ]
  },
  {
   "cell_type": "code",
   "execution_count": null,
   "metadata": {},
   "outputs": [],
   "source": []
  },
  {
   "cell_type": "code",
   "execution_count": 66,
   "metadata": {},
   "outputs": [],
   "source": [
    "# the only way this really makes sense is if the only lineages that we allow to circulate long-term are the ones \n",
    "# that we don't know about, because they never cause human infections; human infections tend to descend from new\n",
    "# importations from wild birds, rather than from endemic, long-term circulation -> WHY? Is this fully explained \n",
    "# by which lineages are high path vs. low-path? that would be very boring. "
   ]
  },
  {
   "cell_type": "code",
   "execution_count": null,
   "metadata": {},
   "outputs": [],
   "source": []
  },
  {
   "cell_type": "code",
   "execution_count": 67,
   "metadata": {},
   "outputs": [
    {
     "data": {
      "image/png": "[encoded data removed]"
     },
     "metadata": {},
     "output_type": "display_data"
    }
   ],
   "source": [
    "%%R -w 800 -h 500 -u px -i proportions_df,label,host_tip_state,current_date,human_color,wild_color,domestic_color # this sets the size of the plot...otherwise, it will go off the page\n",
    "\n",
    "require(ggplot2)\n",
    "library(ggplot2)\n",
    "library(RColorBrewer)\n",
    "\n",
    "output_filename = paste(\"persistence-times-\",host_tip_state,\"-\",current_date,\".pdf\", sep=\"\")\n",
    "\n",
    "p <- ggplot(data=proportions_df, aes(x=n_years, y=proportion_of_events)) + \n",
    "    geom_col(color=domestic_color, fill=domestic_color)+\n",
    "    #facet_wrap(~region)+\n",
    "    #geom_point(size=1, alpha=0.6)+\n",
    "    #geom_boxplot()+\n",
    "    #geom_line(stat=\"count\")+\n",
    "    labs(x=paste(\"\\nyears in domestic birds prior to\",host_tip_state,\"\\ndetection\"), y=\"proportion of tips\\n\")+\n",
    "    #scale_y_continuous(breaks=seq(0,0.18,0.03), limits=c(0,0.18))+\n",
    "    scale_x_continuous(breaks=seq(0,20,2), limits=c(-0.5,20))+\n",
    "    theme(panel.grid.major=element_line(colour=NA,size=NA))+    \n",
    "    theme(panel.grid.minor=element_line(colour=NA,size=NA))+    \n",
    "    theme(strip.background = element_rect(colour=NA, fill=NA))+\n",
    "    theme(axis.line.x=element_line(colour=\"black\"))+\n",
    "    theme(axis.line.y=element_line(colour=\"black\"))+\n",
    "    theme(axis.title=element_text(size=24, vjust=5))+\n",
    "    theme(axis.text.y=element_text(size=22, colour=\"black\"))+\n",
    "    theme(axis.text.x=element_text(size=22, colour=\"black\", hjust=0.5))+\n",
    "    theme(legend.text=element_text(size=20))+\n",
    "    theme(legend.title=element_blank())+\n",
    "    theme(panel.margin=unit(1, \"lines\"))+\n",
    "    theme(plot.margin=unit(c(1,4,1,1),\"cm\"))+\n",
    "    theme(legend.key.size=unit(0.7, \"cm\"))+\n",
    "    theme(panel.background=element_rect(fill=NA))+\n",
    "    theme(legend.key=element_rect(fill=NA))\n",
    "    ##theme(legend.position = c(legend_x, legend_y))\n",
    "\n",
    "ggsave(output_filename, width = 10, height = 6, device = \"pdf\", path = \"figures\", dpi = 300)\n",
    "p"
   ]
  },
  {
   "cell_type": "code",
   "execution_count": 76,
   "metadata": {},
   "outputs": [
    {
     "data": {
      "text/html": [
       "<div>\n",
       "<style scoped>\n",
       "    .dataframe tbody tr th:only-of-type {\n",
       "        vertical-align: middle;\n",
       "    }\n",
       "\n",
       "    .dataframe tbody tr th {\n",
       "        vertical-align: top;\n",
       "    }\n",
       "\n",
       "    .dataframe thead th {\n",
       "        text-align: right;\n",
       "    }\n",
       "</style>\n",
       "<table border=\"1\" class=\"dataframe\">\n",
       "  <thead>\n",
       "    <tr style=\"text-align: right;\">\n",
       "      <th></th>\n",
       "      <th>Unnamed: 0</th>\n",
       "      <th>tip</th>\n",
       "      <th>time_in_domestic</th>\n",
       "      <th>region</th>\n",
       "      <th>tree_number</th>\n",
       "    </tr>\n",
       "  </thead>\n",
       "  <tbody>\n",
       "    <tr>\n",
       "      <th>0</th>\n",
       "      <td>0</td>\n",
       "      <td>A/Alberta/1/2014|2014.005|2014-01-03|Human|Nor...</td>\n",
       "      <td>0.182984</td>\n",
       "      <td>North_America</td>\n",
       "      <td>1</td>\n",
       "    </tr>\n",
       "    <tr>\n",
       "      <th>1</th>\n",
       "      <td>0</td>\n",
       "      <td>A/Nanjing/1/2015|2015.055|2015-01-21|Human|Chi...</td>\n",
       "      <td>0.346522</td>\n",
       "      <td>China</td>\n",
       "      <td>1</td>\n",
       "    </tr>\n",
       "    <tr>\n",
       "      <th>2</th>\n",
       "      <td>0</td>\n",
       "      <td>A/Hubei/1/2010|2010.384|2010-05-21|Human|China...</td>\n",
       "      <td>7.777728</td>\n",
       "      <td>China</td>\n",
       "      <td>1</td>\n",
       "    </tr>\n",
       "    <tr>\n",
       "      <th>3</th>\n",
       "      <td>0</td>\n",
       "      <td>A/Vietnam/CM32/2011|2011.797|2011-10-19|Human|...</td>\n",
       "      <td>7.969168</td>\n",
       "      <td>Southeast_Asia</td>\n",
       "      <td>1</td>\n",
       "    </tr>\n",
       "    <tr>\n",
       "      <th>4</th>\n",
       "      <td>0</td>\n",
       "      <td>A/Nepal/19FL1997/2019|2019.227|2019-03-25|Huma...</td>\n",
       "      <td>0.063984</td>\n",
       "      <td>South_Asia</td>\n",
       "      <td>1</td>\n",
       "    </tr>\n",
       "  </tbody>\n",
       "</table>\n",
       "</div>"
      ],
      "text/plain": [
       "   Unnamed: 0                                                tip  \\\n",
       "0           0  A/Alberta/1/2014|2014.005|2014-01-03|Human|Nor...   \n",
       "1           0  A/Nanjing/1/2015|2015.055|2015-01-21|Human|Chi...   \n",
       "2           0  A/Hubei/1/2010|2010.384|2010-05-21|Human|China...   \n",
       "3           0  A/Vietnam/CM32/2011|2011.797|2011-10-19|Human|...   \n",
       "4           0  A/Nepal/19FL1997/2019|2019.227|2019-03-25|Huma...   \n",
       "\n",
       "   time_in_domestic          region  tree_number  \n",
       "0          0.182984   North_America            1  \n",
       "1          0.346522           China            1  \n",
       "2          7.777728           China            1  \n",
       "3          7.969168  Southeast_Asia            1  \n",
       "4          0.063984      South_Asia            1  "
      ]
     },
     "execution_count": 76,
     "metadata": {},
     "output_type": "execute_result"
    }
   ],
   "source": [
    "df.head()"
   ]
  },
  {
   "cell_type": "code",
   "execution_count": 68,
   "metadata": {},
   "outputs": [
    {
     "data": {
      "image/png": "[encoded data removed]"
     },
     "metadata": {},
     "output_type": "display_data"
    }
   ],
   "source": [
    "%%R -w 800 -h 500 -u px -i df,label,host_tip_state,current_date,human_color,wild_color,domestic_color # this sets the size of the plot...otherwise, it will go off the page\n",
    "\n",
    "require(ggplot2)\n",
    "library(ggplot2)\n",
    "library(RColorBrewer)\n",
    "\n",
    "output_filename = paste(\"persistence-times-by-region-\",host_tip_state,\"-\",current_date,\".pdf\", sep=\"\")\n",
    "\n",
    "p <- ggplot(data=df, aes(x=time_in_domestic)) + \n",
    "    geom_histogram(binwidth=0.5)+\n",
    "    facet_wrap(~region)+\n",
    "    #geom_point(size=1, alpha=0.6)+\n",
    "    #geom_boxplot()+\n",
    "    #geom_line(stat=\"count\")+\n",
    "    labs(x=\"\\ntime in domestic deme (years)\", y=\"counts across posterior\\n\")+\n",
    "    #scale_y_continuous(breaks=seq(0,0.2,0.05), limits=c(0,0.2))+\n",
    "    scale_x_continuous(breaks=seq(0,15,2))+\n",
    "    theme(panel.grid.major=element_line(colour=NA,size=NA))+    \n",
    "    theme(panel.grid.minor=element_line(colour=NA,size=NA))+    \n",
    "    theme(strip.background = element_rect(colour=NA, fill=NA))+\n",
    "    theme(axis.line.x=element_line(colour=\"black\"))+\n",
    "    theme(axis.line.y=element_line(colour=\"black\"))+\n",
    "    theme(axis.title=element_text(size=24, vjust=5))+\n",
    "    theme(axis.text.y=element_text(size=22, colour=\"black\"))+\n",
    "    theme(axis.text.x=element_text(size=22, colour=\"black\", hjust=0.5))+\n",
    "    theme(legend.text=element_text(size=20))+\n",
    "    theme(legend.title=element_blank())+\n",
    "    theme(panel.margin=unit(1, \"lines\"))+\n",
    "    theme(plot.margin=unit(c(1,4,1,1),\"cm\"))+\n",
    "    theme(legend.key.size=unit(0.7, \"cm\"))+\n",
    "    theme(panel.background=element_rect(fill=NA))+\n",
    "    theme(legend.key=element_rect(fill=NA))\n",
    "    ##theme(legend.position = c(legend_x, legend_y))\n",
    "\n",
    "ggsave(output_filename, width = 12, height = 6, device = \"pdf\", path = \"figures\", dpi = 300)\n",
    "p"
   ]
  },
  {
   "cell_type": "code",
   "execution_count": null,
   "metadata": {},
   "outputs": [],
   "source": []
  },
  {
   "cell_type": "code",
   "execution_count": 69,
   "metadata": {},
   "outputs": [],
   "source": [
    "# now, let's plot time in domestic for human and domestic infecting lineages on the same bar plot \n"
   ]
  },
  {
   "cell_type": "code",
   "execution_count": 70,
   "metadata": {},
   "outputs": [],
   "source": [
    "# read dataframe back in\n",
    "domestic_path = to_run['trees'].replace(\".trees\",\".trees.domestic.persistence-times-2022-06-07.tsv\")\n",
    "dom_df = pd.read_csv(domestic_path, sep=\"\\t\")\n",
    "\n",
    "human_path = to_run['trees'].replace(\".trees\",\".trees.human.persistence-times-2022-06-07.tsv\")\n",
    "human_df = pd.read_csv(human_path, sep=\"\\t\")"
   ]
  },
  {
   "cell_type": "code",
   "execution_count": null,
   "metadata": {},
   "outputs": [],
   "source": []
  },
  {
   "cell_type": "code",
   "execution_count": null,
   "metadata": {},
   "outputs": [],
   "source": []
  },
  {
   "cell_type": "code",
   "execution_count": 71,
   "metadata": {
    "scrolled": true
   },
   "outputs": [
    {
     "data": {
      "text/html": [
       "<div>\n",
       "<style scoped>\n",
       "    .dataframe tbody tr th:only-of-type {\n",
       "        vertical-align: middle;\n",
       "    }\n",
       "\n",
       "    .dataframe tbody tr th {\n",
       "        vertical-align: top;\n",
       "    }\n",
       "\n",
       "    .dataframe thead th {\n",
       "        text-align: right;\n",
       "    }\n",
       "</style>\n",
       "<table border=\"1\" class=\"dataframe\">\n",
       "  <thead>\n",
       "    <tr style=\"text-align: right;\">\n",
       "      <th></th>\n",
       "      <th>n_years</th>\n",
       "      <th>total_across_posterior</th>\n",
       "      <th>proportion_of_events</th>\n",
       "      <th>cumulative_time</th>\n",
       "      <th>rate_per_year</th>\n",
       "    </tr>\n",
       "  </thead>\n",
       "  <tbody>\n",
       "    <tr>\n",
       "      <th>0</th>\n",
       "      <td>0</td>\n",
       "      <td>23840</td>\n",
       "      <td>0.170259</td>\n",
       "      <td>11137.887431</td>\n",
       "      <td>2.140442</td>\n",
       "    </tr>\n",
       "    <tr>\n",
       "      <th>0</th>\n",
       "      <td>1</td>\n",
       "      <td>17704</td>\n",
       "      <td>0.126437</td>\n",
       "      <td>27063.056238</td>\n",
       "      <td>0.654176</td>\n",
       "    </tr>\n",
       "    <tr>\n",
       "      <th>0</th>\n",
       "      <td>2</td>\n",
       "      <td>20122</td>\n",
       "      <td>0.143706</td>\n",
       "      <td>50026.267812</td>\n",
       "      <td>0.402229</td>\n",
       "    </tr>\n",
       "    <tr>\n",
       "      <th>0</th>\n",
       "      <td>3</td>\n",
       "      <td>16522</td>\n",
       "      <td>0.117996</td>\n",
       "      <td>58146.422360</td>\n",
       "      <td>0.284145</td>\n",
       "    </tr>\n",
       "    <tr>\n",
       "      <th>0</th>\n",
       "      <td>4</td>\n",
       "      <td>12251</td>\n",
       "      <td>0.087493</td>\n",
       "      <td>54377.423835</td>\n",
       "      <td>0.225296</td>\n",
       "    </tr>\n",
       "  </tbody>\n",
       "</table>\n",
       "</div>"
      ],
      "text/plain": [
       "   n_years  total_across_posterior  proportion_of_events  cumulative_time  \\\n",
       "0        0                   23840              0.170259     11137.887431   \n",
       "0        1                   17704              0.126437     27063.056238   \n",
       "0        2                   20122              0.143706     50026.267812   \n",
       "0        3                   16522              0.117996     58146.422360   \n",
       "0        4                   12251              0.087493     54377.423835   \n",
       "\n",
       "   rate_per_year  \n",
       "0       2.140442  \n",
       "0       0.654176  \n",
       "0       0.402229  \n",
       "0       0.284145  \n",
       "0       0.225296  "
      ]
     },
     "execution_count": 71,
     "metadata": {},
     "output_type": "execute_result"
    }
   ],
   "source": [
    "human_df_dom_only = human_df[human_df['time_in_domestic'] > 0]\n",
    "human_proportions_df = convert_df_to_proportions_df(human_df_dom_only)\n",
    "human_proportions_df.head()"
   ]
  },
  {
   "cell_type": "code",
   "execution_count": 72,
   "metadata": {
    "scrolled": true
   },
   "outputs": [
    {
     "data": {
      "text/html": [
       "<div>\n",
       "<style scoped>\n",
       "    .dataframe tbody tr th:only-of-type {\n",
       "        vertical-align: middle;\n",
       "    }\n",
       "\n",
       "    .dataframe tbody tr th {\n",
       "        vertical-align: top;\n",
       "    }\n",
       "\n",
       "    .dataframe thead th {\n",
       "        text-align: right;\n",
       "    }\n",
       "</style>\n",
       "<table border=\"1\" class=\"dataframe\">\n",
       "  <thead>\n",
       "    <tr style=\"text-align: right;\">\n",
       "      <th></th>\n",
       "      <th>n_years</th>\n",
       "      <th>total_across_posterior</th>\n",
       "      <th>proportion_of_events</th>\n",
       "      <th>cumulative_time</th>\n",
       "      <th>rate_per_year</th>\n",
       "    </tr>\n",
       "  </thead>\n",
       "  <tbody>\n",
       "    <tr>\n",
       "      <th>0</th>\n",
       "      <td>0</td>\n",
       "      <td>95797</td>\n",
       "      <td>0.354405</td>\n",
       "      <td>41621.664576</td>\n",
       "      <td>2.301614</td>\n",
       "    </tr>\n",
       "    <tr>\n",
       "      <th>0</th>\n",
       "      <td>1</td>\n",
       "      <td>47434</td>\n",
       "      <td>0.175484</td>\n",
       "      <td>69459.116836</td>\n",
       "      <td>0.682905</td>\n",
       "    </tr>\n",
       "    <tr>\n",
       "      <th>0</th>\n",
       "      <td>2</td>\n",
       "      <td>30789</td>\n",
       "      <td>0.113905</td>\n",
       "      <td>74994.236199</td>\n",
       "      <td>0.410552</td>\n",
       "    </tr>\n",
       "    <tr>\n",
       "      <th>0</th>\n",
       "      <td>3</td>\n",
       "      <td>19334</td>\n",
       "      <td>0.071527</td>\n",
       "      <td>67998.424811</td>\n",
       "      <td>0.284330</td>\n",
       "    </tr>\n",
       "    <tr>\n",
       "      <th>0</th>\n",
       "      <td>4</td>\n",
       "      <td>19567</td>\n",
       "      <td>0.072389</td>\n",
       "      <td>88596.807264</td>\n",
       "      <td>0.220854</td>\n",
       "    </tr>\n",
       "  </tbody>\n",
       "</table>\n",
       "</div>"
      ],
      "text/plain": [
       "   n_years  total_across_posterior  proportion_of_events  cumulative_time  \\\n",
       "0        0                   95797              0.354405     41621.664576   \n",
       "0        1                   47434              0.175484     69459.116836   \n",
       "0        2                   30789              0.113905     74994.236199   \n",
       "0        3                   19334              0.071527     67998.424811   \n",
       "0        4                   19567              0.072389     88596.807264   \n",
       "\n",
       "   rate_per_year  \n",
       "0       2.301614  \n",
       "0       0.682905  \n",
       "0       0.410552  \n",
       "0       0.284330  \n",
       "0       0.220854  "
      ]
     },
     "execution_count": 72,
     "metadata": {},
     "output_type": "execute_result"
    }
   ],
   "source": [
    "dom_df_dom_only = dom_df[dom_df['time_in_domestic'] > 0]\n",
    "dom_proportions_df = convert_df_to_proportions_df(dom_df_dom_only)\n",
    "dom_proportions_df.head()"
   ]
  },
  {
   "cell_type": "code",
   "execution_count": 73,
   "metadata": {},
   "outputs": [
    {
     "name": "stdout",
     "output_type": "stream",
     "text": [
      "human [1.58439738e-04 3.54965073e+00]\n",
      "4.29745448006148\n",
      "3.549635948239003\n",
      "3.265161464264802\n",
      "domestic [2.80838365e-05 1.80467501e+00]\n",
      "2.91058687293739\n",
      "1.8046677828432194\n",
      "2.9464756345399805\n"
     ]
    }
   ],
   "source": [
    "import pymc3\n",
    "print(\"human\", pymc3.stats.hpd(human_df_dom_only['time_in_domestic'], 0.5))\n",
    "print(human_df_dom_only['time_in_domestic'].mean())\n",
    "print(human_df_dom_only['time_in_domestic'].median())\n",
    "print(human_df_dom_only['time_in_domestic'].std())\n",
    "\n",
    "print(\"domestic\", pymc3.stats.hpd(dom_df_dom_only['time_in_domestic'], 0.5))\n",
    "print(dom_df_dom_only['time_in_domestic'].mean())\n",
    "print(dom_df_dom_only['time_in_domestic'].median())\n",
    "print(dom_df_dom_only['time_in_domestic'].std())"
   ]
  },
  {
   "cell_type": "code",
   "execution_count": null,
   "metadata": {},
   "outputs": [],
   "source": []
  },
  {
   "cell_type": "code",
   "execution_count": 74,
   "metadata": {
    "scrolled": true
   },
   "outputs": [
    {
     "name": "stdout",
     "output_type": "stream",
     "text": [
      "50\n"
     ]
    },
    {
     "data": {
      "text/html": [
       "<div>\n",
       "<style scoped>\n",
       "    .dataframe tbody tr th:only-of-type {\n",
       "        vertical-align: middle;\n",
       "    }\n",
       "\n",
       "    .dataframe tbody tr th {\n",
       "        vertical-align: top;\n",
       "    }\n",
       "\n",
       "    .dataframe thead th {\n",
       "        text-align: right;\n",
       "    }\n",
       "</style>\n",
       "<table border=\"1\" class=\"dataframe\">\n",
       "  <thead>\n",
       "    <tr style=\"text-align: right;\">\n",
       "      <th></th>\n",
       "      <th>n_years</th>\n",
       "      <th>total_across_posterior</th>\n",
       "      <th>proportion_of_events</th>\n",
       "      <th>cumulative_time</th>\n",
       "      <th>rate_per_year</th>\n",
       "      <th>host_tip</th>\n",
       "    </tr>\n",
       "  </thead>\n",
       "  <tbody>\n",
       "    <tr>\n",
       "      <th>0</th>\n",
       "      <td>0</td>\n",
       "      <td>23840</td>\n",
       "      <td>0.170259</td>\n",
       "      <td>11137.887431</td>\n",
       "      <td>2.140442</td>\n",
       "      <td>human</td>\n",
       "    </tr>\n",
       "    <tr>\n",
       "      <th>0</th>\n",
       "      <td>1</td>\n",
       "      <td>17704</td>\n",
       "      <td>0.126437</td>\n",
       "      <td>27063.056238</td>\n",
       "      <td>0.654176</td>\n",
       "      <td>human</td>\n",
       "    </tr>\n",
       "    <tr>\n",
       "      <th>0</th>\n",
       "      <td>2</td>\n",
       "      <td>20122</td>\n",
       "      <td>0.143706</td>\n",
       "      <td>50026.267812</td>\n",
       "      <td>0.402229</td>\n",
       "      <td>human</td>\n",
       "    </tr>\n",
       "    <tr>\n",
       "      <th>0</th>\n",
       "      <td>3</td>\n",
       "      <td>16522</td>\n",
       "      <td>0.117996</td>\n",
       "      <td>58146.422360</td>\n",
       "      <td>0.284145</td>\n",
       "      <td>human</td>\n",
       "    </tr>\n",
       "    <tr>\n",
       "      <th>0</th>\n",
       "      <td>4</td>\n",
       "      <td>12251</td>\n",
       "      <td>0.087493</td>\n",
       "      <td>54377.423835</td>\n",
       "      <td>0.225296</td>\n",
       "      <td>human</td>\n",
       "    </tr>\n",
       "  </tbody>\n",
       "</table>\n",
       "</div>"
      ],
      "text/plain": [
       "   n_years  total_across_posterior  proportion_of_events  cumulative_time  \\\n",
       "0        0                   23840              0.170259     11137.887431   \n",
       "0        1                   17704              0.126437     27063.056238   \n",
       "0        2                   20122              0.143706     50026.267812   \n",
       "0        3                   16522              0.117996     58146.422360   \n",
       "0        4                   12251              0.087493     54377.423835   \n",
       "\n",
       "   rate_per_year host_tip  \n",
       "0       2.140442    human  \n",
       "0       0.654176    human  \n",
       "0       0.402229    human  \n",
       "0       0.284145    human  \n",
       "0       0.225296    human  "
      ]
     },
     "execution_count": 74,
     "metadata": {},
     "output_type": "execute_result"
    }
   ],
   "source": [
    "human_proportions_df['host_tip'] = \"human\"\n",
    "dom_proportions_df['host_tip'] = 'domestic'\n",
    "combined_proportions_df = human_proportions_df.append(dom_proportions_df)\n",
    "print(len(combined_proportions_df))\n",
    "combined_proportions_df.head()"
   ]
  },
  {
   "cell_type": "code",
   "execution_count": 75,
   "metadata": {},
   "outputs": [
    {
     "data": {
      "image/png": "[encoded data removed]"
     },
     "metadata": {},
     "output_type": "display_data"
    }
   ],
   "source": [
    "%%R -w 800 -h 500 -u px -i combined_proportions_df,label,host_tip_state,current_date,human_color,wild_color,domestic_color # this sets the size of the plot...otherwise, it will go off the page\n",
    "\n",
    "require(ggplot2)\n",
    "library(ggplot2)\n",
    "library(RColorBrewer)\n",
    "\n",
    "output_filename = paste(\"persistence-times-\",current_date,\".pdf\", sep=\"\")\n",
    "\n",
    "p <- ggplot(data=combined_proportions_df, aes(x=n_years, y=proportion_of_events, color=host_tip, fill=host_tip)) + \n",
    "    geom_col(position=\"dodge\", size=0.3)+\n",
    "    #facet_wrap(~region)+\n",
    "    #geom_point(size=1, alpha=0.6)+\n",
    "    #geom_boxplot()+\n",
    "    #geom_line(stat=\"count\")+\n",
    "    scale_color_manual(values=c(\"human\"=human_color, \"domestic\"=domestic_color))+\n",
    "    scale_fill_manual(values=c(\"human\"=human_color, \"domestic\"=domestic_color))+\n",
    "    labs(x=paste(\"\\nyears in domestic birds prior\\nto infection\"), y=\"proportion of tips\\n\")+\n",
    "    scale_y_continuous(breaks=seq(0,0.4,0.05), limits=c(0,0.4))+\n",
    "    scale_x_continuous(breaks=seq(0,20,2), limits=c(-0.5,20))+\n",
    "    theme(panel.grid.major=element_line(colour=NA,size=NA))+    \n",
    "    theme(panel.grid.minor=element_line(colour=NA,size=NA))+    \n",
    "    theme(strip.background = element_rect(colour=NA, fill=NA))+\n",
    "    theme(axis.line.x=element_line(colour=\"black\"))+\n",
    "    theme(axis.line.y=element_line(colour=\"black\"))+\n",
    "    theme(axis.title=element_text(size=24, vjust=5))+\n",
    "    theme(axis.text.y=element_text(size=22, colour=\"black\"))+\n",
    "    theme(axis.text.x=element_text(size=22, colour=\"black\", hjust=0.5))+\n",
    "    theme(legend.text=element_text(size=20))+\n",
    "    theme(legend.title=element_blank())+\n",
    "    theme(panel.margin=unit(1, \"lines\"))+\n",
    "    theme(plot.margin=unit(c(1,4,1,1),\"cm\"))+\n",
    "    theme(legend.key.size=unit(0.7, \"cm\"))+\n",
    "    theme(panel.background=element_rect(fill=NA))+\n",
    "    theme(legend.key=element_rect(fill=NA))\n",
    "    ##theme(legend.position = c(legend_x, legend_y))\n",
    "\n",
    "ggsave(output_filename, width = 10, height = 6, device = \"pdf\", path = \"figures\", dpi = 300)\n",
    "p"
   ]
  },
  {
   "cell_type": "markdown",
   "metadata": {},
   "source": [
    "### Summary\n",
    "\n",
    "I guess this result could be summarized by saying that if you randomly choose a human infection, that virus will have circulated on average for about twice as long in poultry as a randomly chosen domestic bird infection. This could just be because human infections are rare, so it takes twice as long to find a host if you are a bird virus; or it could be that human infections are enriched among long-circulating lineages.  "
   ]
  },
  {
   "cell_type": "code",
   "execution_count": null,
   "metadata": {},
   "outputs": [],
   "source": []
  }
 ],
 "metadata": {
  "kernelspec": {
   "display_name": "LHM-basics (python3)",
   "language": "python",
   "name": "lhm-basics"
  },
  "language_info": {
   "codemirror_mode": {
    "name": "ipython",
    "version": 3
   },
   "file_extension": ".py",
   "mimetype": "text/x-python",
   "name": "python",
   "nbconvert_exporter": "python",
   "pygments_lexer": "ipython3",
   "version": "3.7.3"
  }
 },
 "nbformat": 4,
 "nbformat_minor": 2
}
