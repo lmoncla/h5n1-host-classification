{
 "cells": [
  {
   "cell_type": "markdown",
   "metadata": {},
   "source": [
    "# Estimate persistence times\n",
    "\n",
    "How long do viruses circulate in domestic prior to infecting humans? How long do viruses persist in domestic after transmission from wild? This notebook will attempt to answer those questions."
   ]
  },
  {
   "cell_type": "code",
   "execution_count": 1,
   "metadata": {},
   "outputs": [],
   "source": [
    "import glob\n",
    "import re,copy, imp\n",
    "import pandas as pd \n",
    "import numpy as np\n",
    "\n",
    "# for this to work, you will need to download the most recent version of baltic, available here \n",
    "bt = imp.load_source('baltic', '/Users/lmoncla/src/baltic/baltic/baltic.py')\n",
    "\n",
    "%matplotlib inline\n",
    "import matplotlib as mpl\n",
    "from matplotlib import pyplot as plt\n",
    "import matplotlib.patheffects as path_effects\n",
    "import matplotlib.lines as mlines\n",
    "from matplotlib.font_manager import FontProperties\n",
    "import matplotlib.colors as clr\n",
    "import textwrap as textwrap\n",
    "from textwrap import wrap\n",
    "\n",
    "import time\n",
    "from io import StringIO\n",
    "\n",
    "import rpy2\n",
    "%load_ext rpy2.ipython"
   ]
  },
  {
   "cell_type": "code",
   "execution_count": 2,
   "metadata": {},
   "outputs": [],
   "source": [
    "from datetime import date\n",
    "current_date = str(date.today())"
   ]
  },
  {
   "cell_type": "code",
   "execution_count": 3,
   "metadata": {},
   "outputs": [],
   "source": [
    "# define colors \n",
    "domestic_color=\"#4E83AE\"\n",
    "wild_color=\"#CEB540\"\n",
    "human_color=\"#DE4428\""
   ]
  },
  {
   "cell_type": "code",
   "execution_count": null,
   "metadata": {},
   "outputs": [],
   "source": []
  },
  {
   "cell_type": "code",
   "execution_count": 4,
   "metadata": {},
   "outputs": [],
   "source": [
    "def get_taxa_lines(tree_path):    \n",
    "    # write out a temp tree file\n",
    "#     temp_tree = tree_path.replace(\".trees\",\".temp.tree\")\n",
    "#     with open(temp_tree, \"w\") as outfile: \n",
    "#         outfile.write(\"\")\n",
    "\n",
    "    lines_to_write = \"\"\n",
    "    with open(tree_path, 'rU') as infile:\n",
    "        for line in infile: ## iterate through each line\n",
    "            if 'state' not in line.lower(): #going to grab all the interesting stuff in the .trees file prior to the newick tree strings\n",
    "                lines_to_write = lines_to_write + line\n",
    "\n",
    "    return(lines_to_write)"
   ]
  },
  {
   "cell_type": "code",
   "execution_count": 5,
   "metadata": {},
   "outputs": [],
   "source": [
    "def get_burnin_value(tree_path, burnin_percent):\n",
    "    with open(tree_path, 'rU') as infile:\n",
    "        numtrees = 0\n",
    "        for line in infile: ## iterate through each line\n",
    "            if 'state' in line.lower(): #going to grab all the interesting stuff in the .trees file prior to the newick tree strings\n",
    "                numtrees += 1\n",
    "    \n",
    "    burnin = numtrees * burnin_percent\n",
    "    return(burnin)"
   ]
  },
  {
   "cell_type": "code",
   "execution_count": null,
   "metadata": {},
   "outputs": [],
   "source": [
    "def find_host_tips(tree, host):\n",
    "    \n",
    "    df_to_return = pd.DataFrame()\n",
    "    \n",
    "    for k in tree.Objects: \n",
    "        if k.branchType == \"leaf\":\n",
    "            if k.traits['typeTrait'] == host:\n",
    "                branch_length_avian = 0\n",
    "                region = k.name.split(\"|\")[4]\n",
    "                \n",
    "                parent, parent_type, branch_length_avian = compute_domestic_branch_length(k, branch_length_avian)\n",
    "                \n",
    "                local_df = pd.DataFrame.from_dict({\"tip\":[k.name], \n",
    "                                                   \"time_in_domestic\":branch_length_avian,\n",
    "                                                  \"region\":region})\n",
    "                df_to_return = df_to_return.append(local_df)\n",
    "                \n",
    "                \n",
    "    return(df_to_return)"
   ]
  },
  {
   "cell_type": "code",
   "execution_count": null,
   "metadata": {},
   "outputs": [],
   "source": [
    "def compute_domestic_branch_length(tip, cumulative_branch_length):\n",
    "    \n",
    "    parent = tip.parent\n",
    "    parent_branch_length = parent.length\n",
    "    \n",
    "    if 'typeTrait' in parent.traits:\n",
    "        parent_type = parent.traits['typeTrait']\n",
    "    else:\n",
    "        parent_type = \"unknown\"\n",
    "    \n",
    "    if parent_type == 'domestic':\n",
    "        cumulative_branch_length += parent_branch_length\n",
    "        node, node_type, cumulative_branch_length = compute_domestic_branch_length(parent, cumulative_branch_length)\n",
    "        \n",
    "    # if parent branch type is human, don't add the branch length, but do go up a node and try again until you reach a domestic one\n",
    "    elif parent_type == 'human':\n",
    "        node, node_type, cumulative_branch_length = compute_domestic_branch_length(parent, cumulative_branch_length)\n",
    "    \n",
    "    # else, parent branch must be wild or root. Either way, return current branch length\n",
    "    else:\n",
    "        node, node_type = parent, parent_type\n",
    "    \n",
    "    return(node, node_type, cumulative_branch_length)"
   ]
  },
  {
   "cell_type": "code",
   "execution_count": 79,
   "metadata": {},
   "outputs": [],
   "source": [
    "def run_on_trees(trees_file, host):\n",
    "    \n",
    "    start_time = time.time()\n",
    "\n",
    "    with open(trees_file, \"r\") as infile:\n",
    "\n",
    "        df = pd.DataFrame()\n",
    "        tree_counter = 0\n",
    "        trees_processed = 0\n",
    "        migrations_dict = {}\n",
    "\n",
    "        for line in infile:\n",
    "            if 'tree STATE_' in line:\n",
    "                tree_counter += 1\n",
    "\n",
    "                if tree_counter > burnin:\n",
    "                    trees_processed += 1\n",
    "                    temp_tree = StringIO(taxa_lines + line)\n",
    "                    tree = bt.loadNexus(temp_tree)\n",
    "                    tree.setAbsoluteTime(2019.227)\n",
    "\n",
    "                    # run stuff\n",
    "                    local_df = find_host_tips(tree, host)\n",
    "                    local_df['tree_number'] = tree_counter\n",
    "                    df = df.append(local_df)\n",
    "\n",
    "    # print the amount of time this took\n",
    "    total_time_seconds = time.time() - start_time\n",
    "    total_time_minutes = total_time_seconds/60\n",
    "    print(\"this took\", total_time_seconds, \"seconds (\", total_time_minutes,\" minutes) to run on\", trees_processed, \"trees\")\n",
    "    return(df)"
   ]
  },
  {
   "cell_type": "code",
   "execution_count": null,
   "metadata": {},
   "outputs": [],
   "source": []
  },
  {
   "cell_type": "markdown",
   "metadata": {},
   "source": [
    "## Read in trees file and remove burnin"
   ]
  },
  {
   "cell_type": "code",
   "execution_count": 80,
   "metadata": {},
   "outputs": [],
   "source": [
    "# trees file paths\n",
    "constant_human_on = {\"label\": \"constant-human-on\",\"mig_direction\":\"backwards in time\",\n",
    "    \"trees\":\"beast-runs/2021-03-15-mascot-3deme-constant/with-human-mig/3deme-mascot-constant-with-human-mig-2021-03-15.combined.trees\"}\n",
    "constant_human_off = {\"label\": \"constant-human-off\",\"mig_direction\":\"backwards in time\",\n",
    "    \"trees\":\"beast-runs/2021-03-15-mascot-3deme-constant/no-human-mig/3deme-mascot-constant-no-human-mig-2021-03-15.combined.trees\"}\n",
    "skyline_human_on =  {\"label\": \"skyline-human-on\", \"mig_direction\":\"forwards in time\",\n",
    "                     \"trees\": \"beast-runs/2021-03-15-mascot-3deme-skyline-with-mig-history/with-human-mig/2021-04-27-mascot-3deme-skyline-with-human-mig.combined.trees\"}\n",
    "skyline_human_off = {\"label\": \"skyline-human-off\", \"mig_direction\":\"forwards in time\",\n",
    "                     \"trees\": \"beast-runs/2021-07-26-mascot-3deme-skyline-with-mig-fixed-log/with-extra-logger/combined-muts-trees-2021-08-23.muts.trees\"}"
   ]
  },
  {
   "cell_type": "code",
   "execution_count": 81,
   "metadata": {},
   "outputs": [],
   "source": [
    "to_run = skyline_human_off\n",
    "\n",
    "trees_file_path = to_run['trees']\n",
    "label = to_run['label']\n",
    "\n",
    "burnin_percent = 0"
   ]
  },
  {
   "cell_type": "code",
   "execution_count": 82,
   "metadata": {},
   "outputs": [
    {
     "name": "stderr",
     "output_type": "stream",
     "text": [
      "/Users/lmoncla/anaconda/envs/LHM-basics/lib/python3.7/site-packages/ipykernel_launcher.py:8: DeprecationWarning: 'U' mode is deprecated\n",
      "  \n",
      "/Users/lmoncla/anaconda/envs/LHM-basics/lib/python3.7/site-packages/ipykernel_launcher.py:2: DeprecationWarning: 'U' mode is deprecated\n",
      "  \n"
     ]
    },
    {
     "name": "stdout",
     "output_type": "stream",
     "text": [
      "0\n"
     ]
    }
   ],
   "source": [
    "all_trees = trees_file_path\n",
    "burnin_percent = 0\n",
    "\n",
    "taxa_lines = get_taxa_lines(all_trees)\n",
    "burnin = get_burnin_value(all_trees, burnin_percent)\n",
    "print(burnin)"
   ]
  },
  {
   "cell_type": "markdown",
   "metadata": {},
   "source": [
    "## Return time in domestic for human or domestic tips\n",
    "\n",
    "To run for human tips, set host tip state to human; for domestic, set to domestic"
   ]
  },
  {
   "cell_type": "code",
   "execution_count": 83,
   "metadata": {},
   "outputs": [
    {
     "name": "stdout",
     "output_type": "stream",
     "text": [
      "this took 2893.1205129623413 seconds ( 48.218675216039024  minutes) to run on 3641 trees\n"
     ]
    }
   ],
   "source": [
    "# now, run \n",
    "trees_file = all_trees\n",
    "host_tip_state = \"domestic\"\n",
    "\n",
    "df = run_on_trees(all_trees, host_tip_state)"
   ]
  },
  {
   "cell_type": "code",
   "execution_count": 84,
   "metadata": {},
   "outputs": [
    {
     "data": {
      "text/html": [
       "<div>\n",
       "<style scoped>\n",
       "    .dataframe tbody tr th:only-of-type {\n",
       "        vertical-align: middle;\n",
       "    }\n",
       "\n",
       "    .dataframe tbody tr th {\n",
       "        vertical-align: top;\n",
       "    }\n",
       "\n",
       "    .dataframe thead th {\n",
       "        text-align: right;\n",
       "    }\n",
       "</style>\n",
       "<table border=\"1\" class=\"dataframe\">\n",
       "  <thead>\n",
       "    <tr style=\"text-align: right;\">\n",
       "      <th></th>\n",
       "      <th>tip</th>\n",
       "      <th>time_in_domestic</th>\n",
       "      <th>region</th>\n",
       "      <th>tree_number</th>\n",
       "    </tr>\n",
       "  </thead>\n",
       "  <tbody>\n",
       "    <tr>\n",
       "      <th>0</th>\n",
       "      <td>A/duck/India/03CA01/2015|2015.162|2015-03-XX|A...</td>\n",
       "      <td>0.000000</td>\n",
       "      <td>South_Asia</td>\n",
       "      <td>1</td>\n",
       "    </tr>\n",
       "    <tr>\n",
       "      <th>0</th>\n",
       "      <td>A/duck/India/12TR04/2014|2014.915|2014-12-XX|A...</td>\n",
       "      <td>0.000000</td>\n",
       "      <td>South_Asia</td>\n",
       "      <td>1</td>\n",
       "    </tr>\n",
       "    <tr>\n",
       "      <th>0</th>\n",
       "      <td>A/duck/India/11CA02/2014|2014.833|2014-11-XX|A...</td>\n",
       "      <td>0.152119</td>\n",
       "      <td>South_Asia</td>\n",
       "      <td>1</td>\n",
       "    </tr>\n",
       "    <tr>\n",
       "      <th>0</th>\n",
       "      <td>A/turkey/India/01CA01/2015|2015.0|2015-01-XX|A...</td>\n",
       "      <td>0.152119</td>\n",
       "      <td>South_Asia</td>\n",
       "      <td>1</td>\n",
       "    </tr>\n",
       "    <tr>\n",
       "      <th>0</th>\n",
       "      <td>A/chicken/Cameroon/16V04338/2016|2016.0|2016-X...</td>\n",
       "      <td>0.749142</td>\n",
       "      <td>Africa</td>\n",
       "      <td>1</td>\n",
       "    </tr>\n",
       "  </tbody>\n",
       "</table>\n",
       "</div>"
      ],
      "text/plain": [
       "                                                 tip  time_in_domestic  \\\n",
       "0  A/duck/India/03CA01/2015|2015.162|2015-03-XX|A...          0.000000   \n",
       "0  A/duck/India/12TR04/2014|2014.915|2014-12-XX|A...          0.000000   \n",
       "0  A/duck/India/11CA02/2014|2014.833|2014-11-XX|A...          0.152119   \n",
       "0  A/turkey/India/01CA01/2015|2015.0|2015-01-XX|A...          0.152119   \n",
       "0  A/chicken/Cameroon/16V04338/2016|2016.0|2016-X...          0.749142   \n",
       "\n",
       "       region  tree_number  \n",
       "0  South_Asia            1  \n",
       "0  South_Asia            1  \n",
       "0  South_Asia            1  \n",
       "0  South_Asia            1  \n",
       "0      Africa            1  "
      ]
     },
     "execution_count": 84,
     "metadata": {},
     "output_type": "execute_result"
    }
   ],
   "source": [
    "df.head()"
   ]
  },
  {
   "cell_type": "code",
   "execution_count": null,
   "metadata": {},
   "outputs": [],
   "source": []
  },
  {
   "cell_type": "code",
   "execution_count": null,
   "metadata": {},
   "outputs": [],
   "source": [
    "# write out to tsv\n",
    "csv_path = to_run['trees'].replace(\".trees\",\".trees.\"+host_tip_state+\".persistence-times-\"+current_date+\".tsv\")\n",
    "df.to_csv(csv_path, sep=\"\\t\")"
   ]
  },
  {
   "cell_type": "code",
   "execution_count": 25,
   "metadata": {},
   "outputs": [],
   "source": [
    "# read dataframe back in\n",
    "read_in_path = to_run['trees'].replace(\".trees\",\".trees.domestic.persistence-times-2021-12-03.tsv\")\n",
    "df = pd.read_csv(read_in_path, sep=\"\\t\")"
   ]
  },
  {
   "cell_type": "code",
   "execution_count": 40,
   "metadata": {},
   "outputs": [
    {
     "name": "stdout",
     "output_type": "stream",
     "text": [
      "32967\n",
      "23507\n"
     ]
    }
   ],
   "source": [
    "# here, I am removing any values that are 0.0. These derive from human infections from which we have no sampled\n",
    "# domestic ancestors. So they are inferred as directly infected from wild birds. \n",
    "print(len(df))\n",
    "df_dom_only = df[df['time_in_domestic'] > 0]\n",
    "print(len(df_dom_only))"
   ]
  },
  {
   "cell_type": "code",
   "execution_count": 27,
   "metadata": {},
   "outputs": [
    {
     "data": {
      "text/plain": [
       "2.7960761455142933"
      ]
     },
     "execution_count": 27,
     "metadata": {},
     "output_type": "execute_result"
    }
   ],
   "source": [
    "df_dom_only['time_in_domestic'].mean()"
   ]
  },
  {
   "cell_type": "code",
   "execution_count": 28,
   "metadata": {},
   "outputs": [
    {
     "data": {
      "text/plain": [
       "2.800096092054906"
      ]
     },
     "execution_count": 28,
     "metadata": {},
     "output_type": "execute_result"
    }
   ],
   "source": [
    "df_dom_only['time_in_domestic'].std()"
   ]
  },
  {
   "cell_type": "code",
   "execution_count": 29,
   "metadata": {},
   "outputs": [
    {
     "data": {
      "text/plain": [
       "1.7332433565708651"
      ]
     },
     "execution_count": 29,
     "metadata": {},
     "output_type": "execute_result"
    }
   ],
   "source": [
    "df_dom_only['time_in_domestic'].median()"
   ]
  },
  {
   "cell_type": "code",
   "execution_count": 30,
   "metadata": {},
   "outputs": [
    {
     "name": "stderr",
     "output_type": "stream",
     "text": [
      "WARNING (theano.configdefaults): install mkl with `conda install mkl-service`: No module named 'mkl'\n"
     ]
    },
    {
     "data": {
      "text/plain": [
       "array([1.09936460e-04, 8.70022179e+00])"
      ]
     },
     "execution_count": 30,
     "metadata": {},
     "output_type": "execute_result"
    }
   ],
   "source": [
    "import pymc3\n",
    "pymc3.stats.hpd(df_dom_only['time_in_domestic'], 0.95)"
   ]
  },
  {
   "cell_type": "code",
   "execution_count": null,
   "metadata": {},
   "outputs": [],
   "source": []
  },
  {
   "cell_type": "code",
   "execution_count": 52,
   "metadata": {},
   "outputs": [],
   "source": [
    "def convert_df_to_proportions_df(input_df):\n",
    "    \n",
    "    # convert to proportions for plotting\n",
    "    proportions_df = pd.DataFrame()\n",
    "    total_events = len(input_df)\n",
    "\n",
    "    for i in range(0,25,1):\n",
    "        lower_bound = i\n",
    "        upper_bound = i+1\n",
    "        local_df = input_df[(input_df['time_in_domestic'] > lower_bound) & (input_df['time_in_domestic'] <= upper_bound)]\n",
    "        total_in_bin = len(local_df)\n",
    "        cumulative_time = local_df['time_in_domestic'].sum()\n",
    "        new_df = pd.DataFrame.from_dict({\"n_years\":[lower_bound], \"total_across_posterior\":total_in_bin, \n",
    "                                                \"proportion_of_events\":float(total_in_bin/total_events), \n",
    "                                        \"cumulative_time\":[cumulative_time], \"rate_per_year\":float(total_in_bin/cumulative_time)})\n",
    "        proportions_df = proportions_df.append(new_df)\n",
    "\n",
    "    return(proportions_df)"
   ]
  },
  {
   "cell_type": "code",
   "execution_count": 41,
   "metadata": {},
   "outputs": [
    {
     "data": {
      "text/html": [
       "<div>\n",
       "<style scoped>\n",
       "    .dataframe tbody tr th:only-of-type {\n",
       "        vertical-align: middle;\n",
       "    }\n",
       "\n",
       "    .dataframe tbody tr th {\n",
       "        vertical-align: top;\n",
       "    }\n",
       "\n",
       "    .dataframe thead th {\n",
       "        text-align: right;\n",
       "    }\n",
       "</style>\n",
       "<table border=\"1\" class=\"dataframe\">\n",
       "  <thead>\n",
       "    <tr style=\"text-align: right;\">\n",
       "      <th></th>\n",
       "      <th>n_years</th>\n",
       "      <th>total_across_posterior</th>\n",
       "      <th>proportion_of_events</th>\n",
       "      <th>cumulative_time</th>\n",
       "      <th>rate_per_year</th>\n",
       "    </tr>\n",
       "  </thead>\n",
       "  <tbody>\n",
       "    <tr>\n",
       "      <th>0</th>\n",
       "      <td>0</td>\n",
       "      <td>8667</td>\n",
       "      <td>0.262899</td>\n",
       "      <td>3752.113100</td>\n",
       "      <td>2.309898</td>\n",
       "    </tr>\n",
       "    <tr>\n",
       "      <th>0</th>\n",
       "      <td>1</td>\n",
       "      <td>4043</td>\n",
       "      <td>0.122638</td>\n",
       "      <td>5924.345405</td>\n",
       "      <td>0.682438</td>\n",
       "    </tr>\n",
       "    <tr>\n",
       "      <th>0</th>\n",
       "      <td>2</td>\n",
       "      <td>2569</td>\n",
       "      <td>0.077926</td>\n",
       "      <td>6277.630420</td>\n",
       "      <td>0.409231</td>\n",
       "    </tr>\n",
       "    <tr>\n",
       "      <th>0</th>\n",
       "      <td>3</td>\n",
       "      <td>1728</td>\n",
       "      <td>0.052416</td>\n",
       "      <td>6048.217506</td>\n",
       "      <td>0.285704</td>\n",
       "    </tr>\n",
       "    <tr>\n",
       "      <th>0</th>\n",
       "      <td>4</td>\n",
       "      <td>1721</td>\n",
       "      <td>0.052204</td>\n",
       "      <td>7790.178275</td>\n",
       "      <td>0.220919</td>\n",
       "    </tr>\n",
       "  </tbody>\n",
       "</table>\n",
       "</div>"
      ],
      "text/plain": [
       "   n_years  total_across_posterior  proportion_of_events  cumulative_time  \\\n",
       "0        0                    8667              0.262899      3752.113100   \n",
       "0        1                    4043              0.122638      5924.345405   \n",
       "0        2                    2569              0.077926      6277.630420   \n",
       "0        3                    1728              0.052416      6048.217506   \n",
       "0        4                    1721              0.052204      7790.178275   \n",
       "\n",
       "   rate_per_year  \n",
       "0       2.309898  \n",
       "0       0.682438  \n",
       "0       0.409231  \n",
       "0       0.285704  \n",
       "0       0.220919  "
      ]
     },
     "execution_count": 41,
     "metadata": {},
     "output_type": "execute_result"
    }
   ],
   "source": [
    "proportions_df = convert_df_to_proportions_df(df_dom_only)\n",
    "proportions_df.head()"
   ]
  },
  {
   "cell_type": "code",
   "execution_count": null,
   "metadata": {},
   "outputs": [],
   "source": []
  },
  {
   "cell_type": "code",
   "execution_count": 42,
   "metadata": {},
   "outputs": [],
   "source": [
    "# the only way this really makes sense is if the only lineages that we allow to circulate long-term are the ones \n",
    "# that we don't know about, because they never cause human infections; human infections tend to descend from new\n",
    "# importations from wild birds, rather than from endemic, long-term circulation -> WHY? Is this fully explained \n",
    "# by which lineages are high path vs. low-path? that would be very boring. "
   ]
  },
  {
   "cell_type": "code",
   "execution_count": null,
   "metadata": {},
   "outputs": [],
   "source": []
  },
  {
   "cell_type": "code",
   "execution_count": 43,
   "metadata": {},
   "outputs": [
    {
     "data": {
      "image/png": "[encoded data removed]"
     },
     "metadata": {},
     "output_type": "display_data"
    }
   ],
   "source": [
    "%%R -w 800 -h 500 -u px -i proportions_df,label,host_tip_state,current_date,human_color,wild_color,domestic_color # this sets the size of the plot...otherwise, it will go off the page\n",
    "\n",
    "require(ggplot2)\n",
    "library(ggplot2)\n",
    "library(RColorBrewer)\n",
    "\n",
    "output_filename = paste(\"persistence-times-\",host_tip_state,\"-\",current_date,\".pdf\", sep=\"\")\n",
    "\n",
    "p <- ggplot(data=proportions_df, aes(x=n_years, y=proportion_of_events)) + \n",
    "    geom_col(color=domestic_color, fill=domestic_color)+\n",
    "    #facet_wrap(~region)+\n",
    "    #geom_point(size=1, alpha=0.6)+\n",
    "    #geom_boxplot()+\n",
    "    #geom_line(stat=\"count\")+\n",
    "    labs(x=paste(\"\\nyears in domestic birds prior to\",host_tip_state,\"\\ndetection\"), y=\"proportion of tips\\n\")+\n",
    "    #scale_y_continuous(breaks=seq(0,0.18,0.03), limits=c(0,0.18))+\n",
    "    scale_x_continuous(breaks=seq(0,20,2), limits=c(-0.5,20))+\n",
    "    theme(panel.grid.major=element_line(colour=NA,size=NA))+    \n",
    "    theme(panel.grid.minor=element_line(colour=NA,size=NA))+    \n",
    "    theme(strip.background = element_rect(colour=NA, fill=NA))+\n",
    "    theme(axis.line.x=element_line(colour=\"black\"))+\n",
    "    theme(axis.line.y=element_line(colour=\"black\"))+\n",
    "    theme(axis.title=element_text(size=24, vjust=5))+\n",
    "    theme(axis.text.y=element_text(size=22, colour=\"black\"))+\n",
    "    theme(axis.text.x=element_text(size=22, colour=\"black\", hjust=0.5))+\n",
    "    theme(legend.text=element_text(size=20))+\n",
    "    theme(legend.title=element_blank())+\n",
    "    theme(panel.margin=unit(1, \"lines\"))+\n",
    "    theme(plot.margin=unit(c(1,4,1,1),\"cm\"))+\n",
    "    theme(legend.key.size=unit(0.7, \"cm\"))+\n",
    "    theme(panel.background=element_rect(fill=NA))+\n",
    "    theme(legend.key=element_rect(fill=NA))\n",
    "    ##theme(legend.position = c(legend_x, legend_y))\n",
    "\n",
    "ggsave(output_filename, width = 10, height = 6, device = \"pdf\", path = \"figures\", dpi = 300)\n",
    "p"
   ]
  },
  {
   "cell_type": "code",
   "execution_count": null,
   "metadata": {},
   "outputs": [],
   "source": []
  },
  {
   "cell_type": "code",
   "execution_count": 44,
   "metadata": {},
   "outputs": [
    {
     "data": {
      "image/png": "[encoded data removed]"
     },
     "metadata": {},
     "output_type": "display_data"
    }
   ],
   "source": [
    "%%R -w 800 -h 500 -u px -i df,label,host_tip_state,current_date,human_color,wild_color,domestic_color # this sets the size of the plot...otherwise, it will go off the page\n",
    "\n",
    "require(ggplot2)\n",
    "library(ggplot2)\n",
    "library(RColorBrewer)\n",
    "\n",
    "output_filename = paste(\"persistence-times-by-region-\",host_tip_state,\"-\",current_date,\".pdf\", sep=\"\")\n",
    "\n",
    "p <- ggplot(data=df, aes(x=time_in_domestic)) + \n",
    "    geom_histogram(binwidth=0.5)+\n",
    "    facet_wrap(~region)+\n",
    "    #geom_point(size=1, alpha=0.6)+\n",
    "    #geom_boxplot()+\n",
    "    #geom_line(stat=\"count\")+\n",
    "    labs(x=\"\\ntime in domestic deme (years)\", y=\"counts across posterior\\n\")+\n",
    "    #scale_y_continuous(breaks=seq(0,0.2,0.05), limits=c(0,0.2))+\n",
    "    scale_x_continuous(breaks=seq(0,15,2))+\n",
    "    theme(panel.grid.major=element_line(colour=NA,size=NA))+    \n",
    "    theme(panel.grid.minor=element_line(colour=NA,size=NA))+    \n",
    "    theme(strip.background = element_rect(colour=NA, fill=NA))+\n",
    "    theme(axis.line.x=element_line(colour=\"black\"))+\n",
    "    theme(axis.line.y=element_line(colour=\"black\"))+\n",
    "    theme(axis.title=element_text(size=24, vjust=5))+\n",
    "    theme(axis.text.y=element_text(size=22, colour=\"black\"))+\n",
    "    theme(axis.text.x=element_text(size=22, colour=\"black\", hjust=0.5))+\n",
    "    theme(legend.text=element_text(size=20))+\n",
    "    theme(legend.title=element_blank())+\n",
    "    theme(panel.margin=unit(1, \"lines\"))+\n",
    "    theme(plot.margin=unit(c(1,4,1,1),\"cm\"))+\n",
    "    theme(legend.key.size=unit(0.7, \"cm\"))+\n",
    "    theme(panel.background=element_rect(fill=NA))+\n",
    "    theme(legend.key=element_rect(fill=NA))\n",
    "    ##theme(legend.position = c(legend_x, legend_y))\n",
    "\n",
    "ggsave(output_filename, width = 12, height = 6, device = \"pdf\", path = \"figures\", dpi = 300)\n",
    "p"
   ]
  },
  {
   "cell_type": "code",
   "execution_count": null,
   "metadata": {},
   "outputs": [],
   "source": []
  },
  {
   "cell_type": "code",
   "execution_count": null,
   "metadata": {},
   "outputs": [],
   "source": [
    "# now, let's plot time in domestic for human and domestic infecting lineages on the same bar plot \n"
   ]
  },
  {
   "cell_type": "code",
   "execution_count": 53,
   "metadata": {},
   "outputs": [],
   "source": [
    "# read dataframe back in\n",
    "domestic_path = to_run['trees'].replace(\".trees\",\".trees.domestic.persistence-times-2021-12-03.tsv\")\n",
    "dom_df = pd.read_csv(domestic_path, sep=\"\\t\")\n",
    "\n",
    "human_path = to_run['trees'].replace(\".trees\",\".trees.persistence-times-2021-09-01.tsv\")\n",
    "human_df = pd.read_csv(human_path, sep=\"\\t\")"
   ]
  },
  {
   "cell_type": "code",
   "execution_count": null,
   "metadata": {},
   "outputs": [],
   "source": []
  },
  {
   "cell_type": "code",
   "execution_count": null,
   "metadata": {},
   "outputs": [],
   "source": []
  },
  {
   "cell_type": "code",
   "execution_count": 55,
   "metadata": {
    "scrolled": true
   },
   "outputs": [
    {
     "data": {
      "text/html": [
       "<div>\n",
       "<style scoped>\n",
       "    .dataframe tbody tr th:only-of-type {\n",
       "        vertical-align: middle;\n",
       "    }\n",
       "\n",
       "    .dataframe tbody tr th {\n",
       "        vertical-align: top;\n",
       "    }\n",
       "\n",
       "    .dataframe thead th {\n",
       "        text-align: right;\n",
       "    }\n",
       "</style>\n",
       "<table border=\"1\" class=\"dataframe\">\n",
       "  <thead>\n",
       "    <tr style=\"text-align: right;\">\n",
       "      <th></th>\n",
       "      <th>n_years</th>\n",
       "      <th>total_across_posterior</th>\n",
       "      <th>proportion_of_events</th>\n",
       "      <th>cumulative_time</th>\n",
       "      <th>rate_per_year</th>\n",
       "    </tr>\n",
       "  </thead>\n",
       "  <tbody>\n",
       "    <tr>\n",
       "      <th>0</th>\n",
       "      <td>0</td>\n",
       "      <td>77170</td>\n",
       "      <td>0.171652</td>\n",
       "      <td>36156.813420</td>\n",
       "      <td>2.134314</td>\n",
       "    </tr>\n",
       "    <tr>\n",
       "      <th>0</th>\n",
       "      <td>1</td>\n",
       "      <td>57356</td>\n",
       "      <td>0.127579</td>\n",
       "      <td>87810.858752</td>\n",
       "      <td>0.653177</td>\n",
       "    </tr>\n",
       "    <tr>\n",
       "      <th>0</th>\n",
       "      <td>2</td>\n",
       "      <td>64776</td>\n",
       "      <td>0.144084</td>\n",
       "      <td>161348.469293</td>\n",
       "      <td>0.401466</td>\n",
       "    </tr>\n",
       "    <tr>\n",
       "      <th>0</th>\n",
       "      <td>3</td>\n",
       "      <td>52362</td>\n",
       "      <td>0.116471</td>\n",
       "      <td>184359.458299</td>\n",
       "      <td>0.284021</td>\n",
       "    </tr>\n",
       "    <tr>\n",
       "      <th>0</th>\n",
       "      <td>4</td>\n",
       "      <td>39429</td>\n",
       "      <td>0.087703</td>\n",
       "      <td>175078.339690</td>\n",
       "      <td>0.225208</td>\n",
       "    </tr>\n",
       "  </tbody>\n",
       "</table>\n",
       "</div>"
      ],
      "text/plain": [
       "   n_years  total_across_posterior  proportion_of_events  cumulative_time  \\\n",
       "0        0                   77170              0.171652     36156.813420   \n",
       "0        1                   57356              0.127579     87810.858752   \n",
       "0        2                   64776              0.144084    161348.469293   \n",
       "0        3                   52362              0.116471    184359.458299   \n",
       "0        4                   39429              0.087703    175078.339690   \n",
       "\n",
       "   rate_per_year  \n",
       "0       2.134314  \n",
       "0       0.653177  \n",
       "0       0.401466  \n",
       "0       0.284021  \n",
       "0       0.225208  "
      ]
     },
     "execution_count": 55,
     "metadata": {},
     "output_type": "execute_result"
    }
   ],
   "source": [
    "human_df_dom_only = human_df[human_df['time_in_domestic'] > 0]\n",
    "human_proportions_df = convert_df_to_proportions_df(human_df_dom_only)\n",
    "human_proportions_df.head()"
   ]
  },
  {
   "cell_type": "code",
   "execution_count": 56,
   "metadata": {
    "scrolled": true
   },
   "outputs": [
    {
     "data": {
      "text/html": [
       "<div>\n",
       "<style scoped>\n",
       "    .dataframe tbody tr th:only-of-type {\n",
       "        vertical-align: middle;\n",
       "    }\n",
       "\n",
       "    .dataframe tbody tr th {\n",
       "        vertical-align: top;\n",
       "    }\n",
       "\n",
       "    .dataframe thead th {\n",
       "        text-align: right;\n",
       "    }\n",
       "</style>\n",
       "<table border=\"1\" class=\"dataframe\">\n",
       "  <thead>\n",
       "    <tr style=\"text-align: right;\">\n",
       "      <th></th>\n",
       "      <th>n_years</th>\n",
       "      <th>total_across_posterior</th>\n",
       "      <th>proportion_of_events</th>\n",
       "      <th>cumulative_time</th>\n",
       "      <th>rate_per_year</th>\n",
       "    </tr>\n",
       "  </thead>\n",
       "  <tbody>\n",
       "    <tr>\n",
       "      <th>0</th>\n",
       "      <td>0</td>\n",
       "      <td>8667</td>\n",
       "      <td>0.368699</td>\n",
       "      <td>3752.113100</td>\n",
       "      <td>2.309898</td>\n",
       "    </tr>\n",
       "    <tr>\n",
       "      <th>0</th>\n",
       "      <td>1</td>\n",
       "      <td>4043</td>\n",
       "      <td>0.171991</td>\n",
       "      <td>5924.345405</td>\n",
       "      <td>0.682438</td>\n",
       "    </tr>\n",
       "    <tr>\n",
       "      <th>0</th>\n",
       "      <td>2</td>\n",
       "      <td>2569</td>\n",
       "      <td>0.109287</td>\n",
       "      <td>6277.630420</td>\n",
       "      <td>0.409231</td>\n",
       "    </tr>\n",
       "    <tr>\n",
       "      <th>0</th>\n",
       "      <td>3</td>\n",
       "      <td>1728</td>\n",
       "      <td>0.073510</td>\n",
       "      <td>6048.217506</td>\n",
       "      <td>0.285704</td>\n",
       "    </tr>\n",
       "    <tr>\n",
       "      <th>0</th>\n",
       "      <td>4</td>\n",
       "      <td>1721</td>\n",
       "      <td>0.073212</td>\n",
       "      <td>7790.178275</td>\n",
       "      <td>0.220919</td>\n",
       "    </tr>\n",
       "  </tbody>\n",
       "</table>\n",
       "</div>"
      ],
      "text/plain": [
       "   n_years  total_across_posterior  proportion_of_events  cumulative_time  \\\n",
       "0        0                    8667              0.368699      3752.113100   \n",
       "0        1                    4043              0.171991      5924.345405   \n",
       "0        2                    2569              0.109287      6277.630420   \n",
       "0        3                    1728              0.073510      6048.217506   \n",
       "0        4                    1721              0.073212      7790.178275   \n",
       "\n",
       "   rate_per_year  \n",
       "0       2.309898  \n",
       "0       0.682438  \n",
       "0       0.409231  \n",
       "0       0.285704  \n",
       "0       0.220919  "
      ]
     },
     "execution_count": 56,
     "metadata": {},
     "output_type": "execute_result"
    }
   ],
   "source": [
    "dom_df_dom_only = dom_df[dom_df['time_in_domestic'] > 0]\n",
    "dom_proportions_df = convert_df_to_proportions_df(dom_df_dom_only)\n",
    "dom_proportions_df.head()"
   ]
  },
  {
   "cell_type": "code",
   "execution_count": 77,
   "metadata": {},
   "outputs": [
    {
     "name": "stdout",
     "output_type": "stream",
     "text": [
      "human [1.12309375e-04 3.53193640e+00]\n",
      "4.291559704004556\n",
      "3.5318632991192223\n",
      "3.2816778131711124\n",
      "domestic [1.09936460e-04 1.73324336e+00]\n",
      "2.7960761455142933\n",
      "1.7332433565708651\n",
      "2.800096092054906\n"
     ]
    }
   ],
   "source": [
    "import pymc3\n",
    "print(\"human\", pymc3.stats.hpd(human_df_dom_only['time_in_domestic'], 0.5))\n",
    "print(human_df_dom_only['time_in_domestic'].mean())\n",
    "print(human_df_dom_only['time_in_domestic'].median())\n",
    "print(human_df_dom_only['time_in_domestic'].std())\n",
    "\n",
    "print(\"domestic\", pymc3.stats.hpd(dom_df_dom_only['time_in_domestic'], 0.5))\n",
    "print(dom_df_dom_only['time_in_domestic'].mean())\n",
    "print(dom_df_dom_only['time_in_domestic'].median())\n",
    "print(dom_df_dom_only['time_in_domestic'].std())"
   ]
  },
  {
   "cell_type": "code",
   "execution_count": null,
   "metadata": {},
   "outputs": [],
   "source": []
  },
  {
   "cell_type": "code",
   "execution_count": 58,
   "metadata": {
    "scrolled": true
   },
   "outputs": [
    {
     "name": "stdout",
     "output_type": "stream",
     "text": [
      "50\n"
     ]
    },
    {
     "data": {
      "text/html": [
       "<div>\n",
       "<style scoped>\n",
       "    .dataframe tbody tr th:only-of-type {\n",
       "        vertical-align: middle;\n",
       "    }\n",
       "\n",
       "    .dataframe tbody tr th {\n",
       "        vertical-align: top;\n",
       "    }\n",
       "\n",
       "    .dataframe thead th {\n",
       "        text-align: right;\n",
       "    }\n",
       "</style>\n",
       "<table border=\"1\" class=\"dataframe\">\n",
       "  <thead>\n",
       "    <tr style=\"text-align: right;\">\n",
       "      <th></th>\n",
       "      <th>n_years</th>\n",
       "      <th>total_across_posterior</th>\n",
       "      <th>proportion_of_events</th>\n",
       "      <th>cumulative_time</th>\n",
       "      <th>rate_per_year</th>\n",
       "      <th>host_tip</th>\n",
       "    </tr>\n",
       "  </thead>\n",
       "  <tbody>\n",
       "    <tr>\n",
       "      <th>0</th>\n",
       "      <td>0</td>\n",
       "      <td>77170</td>\n",
       "      <td>0.171652</td>\n",
       "      <td>36156.813420</td>\n",
       "      <td>2.134314</td>\n",
       "      <td>human</td>\n",
       "    </tr>\n",
       "    <tr>\n",
       "      <th>0</th>\n",
       "      <td>1</td>\n",
       "      <td>57356</td>\n",
       "      <td>0.127579</td>\n",
       "      <td>87810.858752</td>\n",
       "      <td>0.653177</td>\n",
       "      <td>human</td>\n",
       "    </tr>\n",
       "    <tr>\n",
       "      <th>0</th>\n",
       "      <td>2</td>\n",
       "      <td>64776</td>\n",
       "      <td>0.144084</td>\n",
       "      <td>161348.469293</td>\n",
       "      <td>0.401466</td>\n",
       "      <td>human</td>\n",
       "    </tr>\n",
       "    <tr>\n",
       "      <th>0</th>\n",
       "      <td>3</td>\n",
       "      <td>52362</td>\n",
       "      <td>0.116471</td>\n",
       "      <td>184359.458299</td>\n",
       "      <td>0.284021</td>\n",
       "      <td>human</td>\n",
       "    </tr>\n",
       "    <tr>\n",
       "      <th>0</th>\n",
       "      <td>4</td>\n",
       "      <td>39429</td>\n",
       "      <td>0.087703</td>\n",
       "      <td>175078.339690</td>\n",
       "      <td>0.225208</td>\n",
       "      <td>human</td>\n",
       "    </tr>\n",
       "  </tbody>\n",
       "</table>\n",
       "</div>"
      ],
      "text/plain": [
       "   n_years  total_across_posterior  proportion_of_events  cumulative_time  \\\n",
       "0        0                   77170              0.171652     36156.813420   \n",
       "0        1                   57356              0.127579     87810.858752   \n",
       "0        2                   64776              0.144084    161348.469293   \n",
       "0        3                   52362              0.116471    184359.458299   \n",
       "0        4                   39429              0.087703    175078.339690   \n",
       "\n",
       "   rate_per_year host_tip  \n",
       "0       2.134314    human  \n",
       "0       0.653177    human  \n",
       "0       0.401466    human  \n",
       "0       0.284021    human  \n",
       "0       0.225208    human  "
      ]
     },
     "execution_count": 58,
     "metadata": {},
     "output_type": "execute_result"
    }
   ],
   "source": [
    "human_proportions_df['host_tip'] = \"human\"\n",
    "dom_proportions_df['host_tip'] = 'domestic'\n",
    "combined_proportions_df = human_proportions_df.append(dom_proportions_df)\n",
    "print(len(combined_proportions_df))\n",
    "combined_proportions_df.head()"
   ]
  },
  {
   "cell_type": "code",
   "execution_count": 70,
   "metadata": {},
   "outputs": [
    {
     "data": {
      "image/png": "[encoded data removed]"
     },
     "metadata": {},
     "output_type": "display_data"
    }
   ],
   "source": [
    "%%R -w 800 -h 500 -u px -i combined_proportions_df,label,host_tip_state,current_date,human_color,wild_color,domestic_color # this sets the size of the plot...otherwise, it will go off the page\n",
    "\n",
    "require(ggplot2)\n",
    "library(ggplot2)\n",
    "library(RColorBrewer)\n",
    "\n",
    "output_filename = paste(\"persistence-times-\",current_date,\".pdf\", sep=\"\")\n",
    "\n",
    "p <- ggplot(data=combined_proportions_df, aes(x=n_years, y=proportion_of_events, color=host_tip, fill=host_tip)) + \n",
    "    geom_col(position=\"dodge\", size=0.3)+\n",
    "    #facet_wrap(~region)+\n",
    "    #geom_point(size=1, alpha=0.6)+\n",
    "    #geom_boxplot()+\n",
    "    #geom_line(stat=\"count\")+\n",
    "    scale_color_manual(values=c(\"human\"=human_color, \"domestic\"=domestic_color))+\n",
    "    scale_fill_manual(values=c(\"human\"=human_color, \"domestic\"=domestic_color))+\n",
    "    labs(x=paste(\"\\nyears in domestic birds prior\\nto infection\"), y=\"proportion of tips\\n\")+\n",
    "    scale_y_continuous(breaks=seq(0,0.4,0.05), limits=c(0,0.4))+\n",
    "    scale_x_continuous(breaks=seq(0,20,2), limits=c(-0.5,20))+\n",
    "    theme(panel.grid.major=element_line(colour=NA,size=NA))+    \n",
    "    theme(panel.grid.minor=element_line(colour=NA,size=NA))+    \n",
    "    theme(strip.background = element_rect(colour=NA, fill=NA))+\n",
    "    theme(axis.line.x=element_line(colour=\"black\"))+\n",
    "    theme(axis.line.y=element_line(colour=\"black\"))+\n",
    "    theme(axis.title=element_text(size=24, vjust=5))+\n",
    "    theme(axis.text.y=element_text(size=22, colour=\"black\"))+\n",
    "    theme(axis.text.x=element_text(size=22, colour=\"black\", hjust=0.5))+\n",
    "    theme(legend.text=element_text(size=20))+\n",
    "    theme(legend.title=element_blank())+\n",
    "    theme(panel.margin=unit(1, \"lines\"))+\n",
    "    theme(plot.margin=unit(c(1,4,1,1),\"cm\"))+\n",
    "    theme(legend.key.size=unit(0.7, \"cm\"))+\n",
    "    theme(panel.background=element_rect(fill=NA))+\n",
    "    theme(legend.key=element_rect(fill=NA))\n",
    "    ##theme(legend.position = c(legend_x, legend_y))\n",
    "\n",
    "ggsave(output_filename, width = 10, height = 6, device = \"pdf\", path = \"figures\", dpi = 300)\n",
    "p"
   ]
  },
  {
   "cell_type": "markdown",
   "metadata": {},
   "source": [
    "### Summary\n",
    "\n",
    "I guess this result could be summarized by saying that if you randomly choose a human infection, that virus will have circulated on average for about twice as long in poultry as a randomly chosen domestic bird infection. This could just be because human infections are rare, so it takes twice as long to find a host if you are a bird virus; or it could be that human infections are enriched among long-circulating lineages.  "
   ]
  },
  {
   "cell_type": "code",
   "execution_count": null,
   "metadata": {},
   "outputs": [],
   "source": []
  }
 ],
 "metadata": {
  "kernelspec": {
   "display_name": "LHM-basics (python3)",
   "language": "python",
   "name": "lhm-basics"
  },
  "language_info": {
   "codemirror_mode": {
    "name": "ipython",
    "version": 3
   },
   "file_extension": ".py",
   "mimetype": "text/x-python",
   "name": "python",
   "nbconvert_exporter": "python",
   "pygments_lexer": "ipython3",
   "version": "3.7.3"
  }
 },
 "nbformat": 4,
 "nbformat_minor": 2
}
